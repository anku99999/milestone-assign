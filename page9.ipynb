{
 "cells": [
  {
   "cell_type": "code",
   "execution_count": 1,
   "id": "7d8bb023-7378-495d-afcc-1cfad6fdc802",
   "metadata": {},
   "outputs": [],
   "source": [
    "#31. The mean of a distribution is 60 with a standard deviation of 10. Assuming that the distribution is normal,\n",
    "#  what percentage of items be (i) between 60 and 72, (ii) between 50 and 60, (iii) beyond 72 and (iv) between\n",
    "#  70 and 80?"
   ]
  },
  {
   "cell_type": "code",
   "execution_count": 2,
   "id": "611c7a1e-b4db-4325-9e2b-f33df1e88955",
   "metadata": {},
   "outputs": [],
   "source": [
    "mean = 60\n",
    "std_dev = 10      # zscore = (x - mean) / std_dev\n",
    "# (1)\n",
    "z_score_1 = (60 - 60)/ 10"
   ]
  },
  {
   "cell_type": "code",
   "execution_count": 3,
   "id": "7e0c758d-237b-473f-b759-657466aeb669",
   "metadata": {},
   "outputs": [],
   "source": [
    "z_score_2 = ( 72 - 60 ) /10"
   ]
  },
  {
   "cell_type": "code",
   "execution_count": 4,
   "id": "472d4f33-34eb-42c6-beb3-aa85c50d97c3",
   "metadata": {},
   "outputs": [
    {
     "data": {
      "text/plain": [
       "(0.0, 1.2)"
      ]
     },
     "execution_count": 4,
     "metadata": {},
     "output_type": "execute_result"
    }
   ],
   "source": [
    "z_score_1 ,z_score_2"
   ]
  },
  {
   "cell_type": "code",
   "execution_count": 5,
   "id": "9fb35252-8c8d-40f6-b097-e911b53bf648",
   "metadata": {},
   "outputs": [
    {
     "data": {
      "text/plain": [
       "38.489999999999995"
      ]
     },
     "execution_count": 5,
     "metadata": {},
     "output_type": "execute_result"
    }
   ],
   "source": [
    "# by z table  cumalitive probability against z=0 is 0.5 and z=1.2 is 0.8849\n",
    "item_fall_60_72 = 88.49 - 50.00\n",
    "item_fall_60_72\n"
   ]
  },
  {
   "cell_type": "code",
   "execution_count": 6,
   "id": "cffceaaf-6bd4-48aa-920c-f77821832396",
   "metadata": {},
   "outputs": [],
   "source": [
    "#2\n",
    "zscore3 = (50-60)/10\n",
    "zscore4 = (60-60)/10"
   ]
  },
  {
   "cell_type": "code",
   "execution_count": 7,
   "id": "fe268947-858e-486c-ab6f-1f03dbcb2e46",
   "metadata": {},
   "outputs": [
    {
     "data": {
      "text/plain": [
       "(-1.0, 0.0)"
      ]
     },
     "execution_count": 7,
     "metadata": {},
     "output_type": "execute_result"
    }
   ],
   "source": [
    "zscore3,zscore4"
   ]
  },
  {
   "cell_type": "code",
   "execution_count": 8,
   "id": "82953bbb-79d0-4eee-b73a-51e973d4ebb3",
   "metadata": {},
   "outputs": [
    {
     "data": {
      "text/plain": [
       "34.13"
      ]
     },
     "execution_count": 8,
     "metadata": {},
     "output_type": "execute_result"
    }
   ],
   "source": [
    "# cumalative probability againt z=0 is 0.5 and z= -1.2 is 0.1587\n",
    "item_fall_50_60 = 50.00 - 15.87\n",
    "item_fall_50_60"
   ]
  },
  {
   "cell_type": "code",
   "execution_count": 9,
   "id": "284c0b78-1618-45d0-954a-c0b2498ec7e6",
   "metadata": {},
   "outputs": [],
   "source": [
    "#3\n",
    "zscore5 = (72 - 60)/10"
   ]
  },
  {
   "cell_type": "code",
   "execution_count": 10,
   "id": "65f5ca47-93ac-4c8d-a7b5-884de2790379",
   "metadata": {},
   "outputs": [
    {
     "data": {
      "text/plain": [
       "1.2"
      ]
     },
     "execution_count": 10,
     "metadata": {},
     "output_type": "execute_result"
    }
   ],
   "source": [
    "zscore5    # probability corresponding 0.8849"
   ]
  },
  {
   "cell_type": "code",
   "execution_count": 11,
   "id": "b8605faf-5d65-4fe8-948d-51f2d863a868",
   "metadata": {},
   "outputs": [],
   "source": [
    "item_fall_beyond_72 = 100 - 88.49"
   ]
  },
  {
   "cell_type": "code",
   "execution_count": 12,
   "id": "d5f86485-b4f1-41a2-be00-587253566817",
   "metadata": {},
   "outputs": [
    {
     "data": {
      "text/plain": [
       "11.510000000000005"
      ]
     },
     "execution_count": 12,
     "metadata": {},
     "output_type": "execute_result"
    }
   ],
   "source": [
    "item_fall_beyond_72"
   ]
  },
  {
   "cell_type": "code",
   "execution_count": 13,
   "id": "a2c238f0-b927-4a8c-a541-d33f5244f7a0",
   "metadata": {},
   "outputs": [
    {
     "data": {
      "text/plain": [
       "(1.0, 2.0)"
      ]
     },
     "execution_count": 13,
     "metadata": {},
     "output_type": "execute_result"
    }
   ],
   "source": [
    "#4\n",
    "zscore8 = (70 -60) / 10\n",
    "zscore9 = (80 -60) / 10\n",
    "zscore8 , zscore9"
   ]
  },
  {
   "cell_type": "code",
   "execution_count": 14,
   "id": "ab1983ae-47b8-444a-bdd5-db0443f0e165",
   "metadata": {},
   "outputs": [],
   "source": [
    "# zscore8 is 1 , cummalative_prob = 0.8413\n",
    "# zscore9 is 2.0 , cummalative_prob = 0.9772"
   ]
  },
  {
   "cell_type": "code",
   "execution_count": 15,
   "id": "b7ded3ff-6a1d-4b2e-88dc-ddede1956b76",
   "metadata": {},
   "outputs": [
    {
     "data": {
      "text/plain": [
       "13.590000000000003"
      ]
     },
     "execution_count": 15,
     "metadata": {},
     "output_type": "execute_result"
    }
   ],
   "source": [
    "item_fall_70_80 = 97.72 - 84.13\n",
    "item_fall_70_80"
   ]
  },
  {
   "cell_type": "code",
   "execution_count": 16,
   "id": "b72791ac-b02d-47fe-88ae-0c85b803c3e0",
   "metadata": {},
   "outputs": [],
   "source": [
    "# 32. 15000 students sat for an examination. The mean marks was 49 and the distribution of marks had a\n",
    "#  standard deviation of 6. Assuming that the marks were normally distributed what proportion of students\n",
    "#   scored (a) more than 55 marks, (b) more than 70 marks"
   ]
  },
  {
   "cell_type": "code",
   "execution_count": 17,
   "id": "b680b909-03d9-4cc8-a77b-0e2cb8dfe6c0",
   "metadata": {},
   "outputs": [],
   "source": [
    "mean = 49\n",
    "std = 6\n",
    "x1 = 55\n",
    "x2 = 70"
   ]
  },
  {
   "cell_type": "code",
   "execution_count": 18,
   "id": "ac77b63e-d10a-4c88-b77f-8183a07e88c2",
   "metadata": {},
   "outputs": [],
   "source": [
    "#1\n",
    "z_score_55 = (x1 - mean )/ std"
   ]
  },
  {
   "cell_type": "code",
   "execution_count": 19,
   "id": "fc369ea6-c131-499d-a418-3ac743baced1",
   "metadata": {},
   "outputs": [
    {
     "data": {
      "text/plain": [
       "1.0"
      ]
     },
     "execution_count": 19,
     "metadata": {},
     "output_type": "execute_result"
    }
   ],
   "source": [
    "z_score_55   # cummalative property bt z table is 0.84123"
   ]
  },
  {
   "cell_type": "code",
   "execution_count": 20,
   "id": "a086236f-35ed-4d4c-841c-30bdde79146b",
   "metadata": {},
   "outputs": [],
   "source": [
    "proportion_marks_55 = 100 - 84.13"
   ]
  },
  {
   "cell_type": "code",
   "execution_count": 21,
   "id": "1e0e1c78-3515-4f3c-8f9b-fd271bf29542",
   "metadata": {},
   "outputs": [
    {
     "data": {
      "text/plain": [
       "15.870000000000005"
      ]
     },
     "execution_count": 21,
     "metadata": {},
     "output_type": "execute_result"
    }
   ],
   "source": [
    "proportion_marks_55"
   ]
  },
  {
   "cell_type": "code",
   "execution_count": 22,
   "id": "3882ae65-c175-45ee-81b0-ccfe4ca250e3",
   "metadata": {},
   "outputs": [],
   "source": [
    "#2\n",
    "z_score_70 = (x2 -mean) / std"
   ]
  },
  {
   "cell_type": "code",
   "execution_count": 23,
   "id": "80b297b5-a846-4f5d-9a09-a03a9bf1da8d",
   "metadata": {},
   "outputs": [
    {
     "data": {
      "text/plain": [
       "3.5"
      ]
     },
     "execution_count": 23,
     "metadata": {},
     "output_type": "execute_result"
    }
   ],
   "source": [
    "z_score_70    # cummlative probability aginst 3.5 is 0.9999767"
   ]
  },
  {
   "cell_type": "code",
   "execution_count": 24,
   "id": "6fd3bf54-1f42-471a-a94f-7c8bee8509ea",
   "metadata": {},
   "outputs": [],
   "source": [
    "proportion_marks_70 = 100 - 99.99767"
   ]
  },
  {
   "cell_type": "code",
   "execution_count": 25,
   "id": "82eb506e-6c41-4500-bbbd-75a6970ee2b3",
   "metadata": {},
   "outputs": [
    {
     "data": {
      "text/plain": [
       "0.0023300000000006094"
      ]
     },
     "execution_count": 25,
     "metadata": {},
     "output_type": "execute_result"
    }
   ],
   "source": [
    "proportion_marks_70"
   ]
  },
  {
   "cell_type": "code",
   "execution_count": 26,
   "id": "9c892a2f-13a1-40d0-bf4d-14b40422599c",
   "metadata": {},
   "outputs": [],
   "source": [
    "#  33. If the height of 500 students are normally distributed with mean 65 inch and standard deviation 5 inch.\n",
    "#   How many students have height : a) greater than 70 inch. b) between 60 and 70 inch."
   ]
  },
  {
   "cell_type": "code",
   "execution_count": 27,
   "id": "1526cb44-bb24-49a6-b503-b26901ae1c7e",
   "metadata": {},
   "outputs": [],
   "source": [
    "mean = 65\n",
    "std = 5\n",
    "x1 = 70\n",
    "x2 = 60"
   ]
  },
  {
   "cell_type": "code",
   "execution_count": 28,
   "id": "d52fc587-5ce1-41a8-8633-c6cece69140d",
   "metadata": {},
   "outputs": [],
   "source": [
    "z_score_70 = ( x1 - mean) / std"
   ]
  },
  {
   "cell_type": "code",
   "execution_count": 29,
   "id": "25a1537d-f44c-4ad0-b7bd-d1359ac88a01",
   "metadata": {},
   "outputs": [
    {
     "data": {
      "text/plain": [
       "1.0"
      ]
     },
     "execution_count": 29,
     "metadata": {},
     "output_type": "execute_result"
    }
   ],
   "source": [
    "z_score_70    # cummalative probability = .8413"
   ]
  },
  {
   "cell_type": "code",
   "execution_count": 30,
   "id": "e9ced1bd-d6f7-4be0-b154-048d7fc7e265",
   "metadata": {},
   "outputs": [],
   "source": [
    "student_greater_70 = 100 - 84.13"
   ]
  },
  {
   "cell_type": "code",
   "execution_count": 31,
   "id": "80b4435a-9754-4855-a31a-fbc6b2d66de5",
   "metadata": {},
   "outputs": [
    {
     "data": {
      "text/plain": [
       "15.870000000000005"
      ]
     },
     "execution_count": 31,
     "metadata": {},
     "output_type": "execute_result"
    }
   ],
   "source": [
    "student_greater_70"
   ]
  },
  {
   "cell_type": "code",
   "execution_count": 32,
   "id": "b74c6c21-1d3f-4901-ab89-3f99fbdb719f",
   "metadata": {},
   "outputs": [],
   "source": [
    "z_score_60 = (x2 - mean) / std"
   ]
  },
  {
   "cell_type": "code",
   "execution_count": 33,
   "id": "3b88b491-b02e-4ddc-8bb0-7b6a19008dd4",
   "metadata": {},
   "outputs": [
    {
     "data": {
      "text/plain": [
       "-1.0"
      ]
     },
     "execution_count": 33,
     "metadata": {},
     "output_type": "execute_result"
    }
   ],
   "source": [
    "z_score_60   # cummulative probability = 0.1587"
   ]
  },
  {
   "cell_type": "code",
   "execution_count": 34,
   "id": "64eae317-9bfa-4273-8137-4079e8e8d7f4",
   "metadata": {},
   "outputs": [],
   "source": [
    "student_60_70 = 84.13 - 15.87"
   ]
  },
  {
   "cell_type": "code",
   "execution_count": 35,
   "id": "063c0fe0-75be-4ad2-81db-845a020c1aaa",
   "metadata": {},
   "outputs": [
    {
     "data": {
      "text/plain": [
       "68.25999999999999"
      ]
     },
     "execution_count": 35,
     "metadata": {},
     "output_type": "execute_result"
    }
   ],
   "source": [
    "student_60_70"
   ]
  },
  {
   "cell_type": "code",
   "execution_count": 36,
   "id": "9c4e5c47-b741-4c7c-8d9b-e60bdc1e1a09",
   "metadata": {},
   "outputs": [],
   "source": [
    "# 35.A random sample of size 25 from a population gives the sample standard derivation to be 9.0. Test the\n",
    "# hypothesis that the population standard derivation is 10.5.\n",
    "#  Hint(Use chi-square distribution)."
   ]
  },
  {
   "cell_type": "code",
   "execution_count": 37,
   "id": "f0517713-32c1-4062-86cb-57e67e443bd7",
   "metadata": {},
   "outputs": [],
   "source": [
    "# given\n",
    "# null_hypothesis = 10.5\n",
    "# alternate_hypothesis != 10.5\n",
    "n = 25\n",
    "s = 9\n",
    "sigma_p = 10.5\n",
    "alpha = 0.05"
   ]
  },
  {
   "cell_type": "code",
   "execution_count": 38,
   "id": "a1b534d7-5e3c-40e3-bd17-2e6c8d72f4c8",
   "metadata": {},
   "outputs": [],
   "source": [
    "import scipy.stats as stats"
   ]
  },
  {
   "cell_type": "code",
   "execution_count": 41,
   "id": "17e9e3e6-a513-45c3-aabf-4791a4762880",
   "metadata": {},
   "outputs": [],
   "source": [
    "chi_2_stats = (n-1) * (s ** 2) / (sigma_p ** 2)\n",
    "df = n-1"
   ]
  },
  {
   "cell_type": "code",
   "execution_count": 42,
   "id": "7b1761f9-8f59-4abb-9cc4-f4fc215fedb0",
   "metadata": {},
   "outputs": [],
   "source": [
    "chi2_critical_low = stats.chi2.ppf(alpha / 2, df)\n",
    "chi2_critical_high = stats.chi2.ppf(1 - alpha / 2, df)"
   ]
  },
  {
   "cell_type": "code",
   "execution_count": 46,
   "id": "e0bdca30-d4dd-4e3b-a005-0ccfdc48f7ff",
   "metadata": {},
   "outputs": [],
   "source": [
    "p_value =  2 * min(stats.chi2.cdf(chi_2_stats, df), 1 - stats.chi2.cdf(chi_2_stats, df))"
   ]
  },
  {
   "cell_type": "code",
   "execution_count": 48,
   "id": "f4c3eff3-1799-4a57-96f6-60ab369578f6",
   "metadata": {},
   "outputs": [
    {
     "data": {
      "text/plain": [
       "(17.632653061224488, 12.401150217444435, 39.36407702660391, 0.3590874114568157)"
      ]
     },
     "execution_count": 48,
     "metadata": {},
     "output_type": "execute_result"
    }
   ],
   "source": [
    "chi_2_stats, chi2_critical_low, chi2_critical_high, p_value"
   ]
  },
  {
   "cell_type": "code",
   "execution_count": 49,
   "id": "e88cb997-2aca-4f63-a699-eea87e3fbd61",
   "metadata": {},
   "outputs": [
    {
     "data": {
      "text/plain": [
       "True"
      ]
     },
     "execution_count": 49,
     "metadata": {},
     "output_type": "execute_result"
    }
   ],
   "source": [
    "p_value > alpha"
   ]
  },
  {
   "cell_type": "code",
   "execution_count": 50,
   "id": "36f8dcb3-b9b7-41d5-8481-e9237282420a",
   "metadata": {},
   "outputs": [],
   "source": [
    "#we fail to reject the null hypothesis."
   ]
  },
  {
   "cell_type": "code",
   "execution_count": 58,
   "id": "2c8ecdfd-0985-4341-aaf8-8f1012fa843c",
   "metadata": {},
   "outputs": [],
   "source": [
    " Grade : ['A', 'B', 'C', 'D', 'E']\n",
    " Total_Frequency :[15, 17, 30, 22, 16, 100]\n",
    "#  Using the χ 2 test , examine the hypothesis that the distribution of grades is uniform."
   ]
  },
  {
   "cell_type": "code",
   "execution_count": 59,
   "id": "2e95d263-d4eb-4652-9c83-42fe01603016",
   "metadata": {},
   "outputs": [],
   "source": [
    "import numpy as np\n",
    "import pandas as pd"
   ]
  },
  {
   "cell_type": "code",
   "execution_count": 60,
   "id": "725bc319-0064-4646-a720-a1acc3efeb20",
   "metadata": {},
   "outputs": [],
   "source": [
    "# null_hypothesis = the distribution of grade is uniform\n",
    "# alternate_hypopthesis = the distribution of grade is not uniform"
   ]
  },
  {
   "cell_type": "code",
   "execution_count": 68,
   "id": "fd821fa5-383d-4782-a304-b23585af3ac4",
   "metadata": {},
   "outputs": [],
   "source": [
    "observed_frequency = np.array([15, 17, 30, 22, 16, 100])\n",
    "total_frequency = 200\n",
    "n = len(observed_frequency)\n",
    "expected_frequency = total_frequency / len(observed_frequency)\n",
    "expected_frequencies = [expected_frequency] * len(observed_frequency)\n",
    "alpha = 0.05"
   ]
  },
  {
   "cell_type": "code",
   "execution_count": 67,
   "id": "774b1125-f46c-41b1-89eb-1cc57742d648",
   "metadata": {},
   "outputs": [
    {
     "data": {
      "text/plain": [
       "(164.61999999999995, 1.0248352830254028e-33)"
      ]
     },
     "execution_count": 67,
     "metadata": {},
     "output_type": "execute_result"
    }
   ],
   "source": [
    "chi2_statistic, p_value = stats.chisquare(observed_frequency, f_exp=expected_frequencies)\n",
    "chi2_statistic, p_value"
   ]
  },
  {
   "cell_type": "code",
   "execution_count": 69,
   "id": "44d1c212-ff35-45d5-a152-af3f785f5c53",
   "metadata": {},
   "outputs": [
    {
     "data": {
      "text/plain": [
       "False"
      ]
     },
     "execution_count": 69,
     "metadata": {},
     "output_type": "execute_result"
    }
   ],
   "source": [
    "p_value > alpha"
   ]
  },
  {
   "cell_type": "code",
   "execution_count": 71,
   "id": "6a8f3d97-c16a-47cb-93b4-e0d26265a2ed",
   "metadata": {},
   "outputs": [],
   "source": [
    "# Hence we reject the null hypothesis\n",
    "# the distribution of marks is not uniform"
   ]
  }
 ],
 "metadata": {
  "kernelspec": {
   "display_name": "Python 3 (ipykernel)",
   "language": "python",
   "name": "python3"
  },
  "language_info": {
   "codemirror_mode": {
    "name": "ipython",
    "version": 3
   },
   "file_extension": ".py",
   "mimetype": "text/x-python",
   "name": "python",
   "nbconvert_exporter": "python",
   "pygments_lexer": "ipython3",
   "version": "3.10.8"
  }
 },
 "nbformat": 4,
 "nbformat_minor": 5
}
