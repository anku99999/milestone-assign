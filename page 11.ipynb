{
 "cells": [
  {
   "cell_type": "code",
   "execution_count": null,
   "id": "273161d0-0331-42ab-a21b-67bac34c0ded",
   "metadata": {},
   "outputs": [],
   "source": [
    "# Q >>>>>How does logistic regression handle binary classification problems"
   ]
  },
  {
   "cell_type": "code",
   "execution_count": null,
   "id": "196e5821-a909-4543-b860-ecd2dbd0ed4c",
   "metadata": {},
   "outputs": [],
   "source": [
    "import numpy as np\n",
    "from sklearn.model_selection import train_test_split\n",
    "from sklearn.linear_model import LogisticRegression\n",
    "from sklearn.metrics import classification_report, accuracy_score\n",
    "\n",
    "# Example dataset\n",
    "X = np.array([[1, 2], [2, 3], [3, 4], [4, 5], [5, 6], [6, 7], [7, 8], [8, 9], [9, 10], [10, 11]])\n",
    "y = np.array([0, 0, 0, 0, 0, 1, 1, 1, 1, 1])\n",
    "\n",
    "# Split the data into training and testing sets\n",
    "X_train, X_test, y_train, y_test = train_test_split(X, y, test_size=0.2, random_state=42)\n",
    "\n",
    "# Initialize the logistic regression model\n",
    "log_reg = LogisticRegression()\n",
    "\n",
    "# Fit the model to the training data\n",
    "log_reg.fit(X_train, y_train)\n",
    "\n",
    "# Make predictions on the test data\n",
    "y_pred = log_reg.predict(X_test)\n",
    "\n",
    "# Evaluate the model\n",
    "print(\"Accuracy:\", accuracy_score(y_test, y_pred))\n",
    "print(classification_report(y_test, y_pred))\n",
    "import numpy as np\n",
    "from sklearn.model_selection import train_test_split\n",
    "from sklearn.linear_model import LogisticRegression\n",
    "from sklearn.metrics import classification_report, accuracy_score\n",
    "\n",
    "# Example dataset\n",
    "X = np.array([[1, 2], [2, 3], [3, 4], [4, 5], [5, 6], [6, 7], [7, 8], [8, 9], [9, 10], [10, 11]])\n",
    "y = np.array([0, 0, 0, 0, 0, 1, 1, 1, 1, 1])\n",
    "\n",
    "# Split the data into training and testing sets\n",
    "X_train, X_test, y_train, y_test = train_test_split(X, y, test_size=0.2, random_state=42)\n",
    "\n",
    "# Initialize the logistic regression model\n",
    "log_reg = LogisticRegression()\n",
    "\n",
    "# Fit the model to the training data\n",
    "log_reg.fit(X_train, y_train)\n",
    "\n",
    "# Make predictions on the test data\n",
    "y_pred = log_reg.predict(X_test)\n",
    "\n",
    "# Evaluate the model\n",
    "print(\"Accuracy:\", accuracy_score(y_test, y_pred))\n",
    "print(classification_report(y_test, y_pred))\n"
   ]
  },
  {
   "cell_type": "code",
   "execution_count": null,
   "id": "200e3b94-6d61-4ef8-8468-1f595a99e3cb",
   "metadata": {},
   "outputs": [],
   "source": [
    "# What is the sigmoid #unction and ho is it used in logistic regression"
   ]
  },
  {
   "cell_type": "code",
   "execution_count": null,
   "id": "0e42a62c-d39d-4f78-882c-86e06feda64c",
   "metadata": {},
   "outputs": [],
   "source": [
    "import numpy as np\n",
    "\n",
    "# Define the sigmoid function\n",
    "def sigmoid(z):\n",
    "    return 1 / (1 + np.exp(-z))\n",
    "\n",
    "# Example input features\n",
    "X = np.array([1, 2, 3])\n",
    "\n",
    "# Example coefficients\n",
    "beta = np.array([0.5, 0.3, -0.2])\n",
    "intercept = 1.0\n",
    "\n",
    "# Compute the linear combination\n",
    "z = intercept + np.dot(X, beta)\n",
    "\n",
    "# Apply the sigmoid function\n",
    "probability = sigmoid(z)\n",
    "\n",
    "print(\"Linear combination (z):\", z)\n",
    "print(\"Probability (sigmoid(z)):\", probability)\n"
   ]
  },
  {
   "cell_type": "code",
   "execution_count": null,
   "id": "3f367931-e683-443e-a329-9a9fe252cfef",
   "metadata": {},
   "outputs": [],
   "source": []
  },
  {
   "cell_type": "code",
   "execution_count": null,
   "id": "7a2a8847-4af8-4f50-b444-5033f1a9cbf3",
   "metadata": {},
   "outputs": [],
   "source": []
  }
 ],
 "metadata": {
  "kernelspec": {
   "display_name": "Python 3 (ipykernel)",
   "language": "python",
   "name": "python3"
  },
  "language_info": {
   "codemirror_mode": {
    "name": "ipython",
    "version": 3
   },
   "file_extension": ".py",
   "mimetype": "text/x-python",
   "name": "python",
   "nbconvert_exporter": "python",
   "pygments_lexer": "ipython3",
   "version": "3.10.8"
  }
 },
 "nbformat": 4,
 "nbformat_minor": 5
}
