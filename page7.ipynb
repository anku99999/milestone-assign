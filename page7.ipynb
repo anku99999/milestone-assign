{
 "cells": [
  {
   "cell_type": "code",
   "execution_count": 71,
   "id": "9ca94d47-91c3-47f7-bf1a-547911ac49ec",
   "metadata": {},
   "outputs": [],
   "source": [
    "#6.Write a code for Restaurant Management System Using OOPS\n",
    "# Create a menu item class that has attributes such as name,discription,price and category\n",
    "# Impliment method to add new menu item , update menu item information, and remove menu item from the menu.\n",
    "# Use encapsulation to hide the menu item unique identification number.\n",
    "# Inherit the menuitem class to create a fooditem class and a beverageitem class ,each with their own specific attributes and methods."
   ]
  },
  {
   "cell_type": "code",
   "execution_count": 72,
   "id": "79970c99-df80-4a22-841f-e3fa587c7d2f",
   "metadata": {},
   "outputs": [],
   "source": [
    "class MenuItem:\n",
    "    def __init__(self,name,discription,price,category,iden_no):\n",
    "        self.name=name\n",
    "        self.discription=discription\n",
    "        self.price=price\n",
    "        self.category=category\n",
    "        self.__iden_no=iden_no\n",
    "        \n",
    "    \n",
    "    def update_name(self,name):\n",
    "        self.name=name\n",
    "    def update_discription(self,discription):\n",
    "        self.discription=discription\n",
    "    def update_price(self,price):\n",
    "        self.price=price\n",
    "    def update_category(self,category):\n",
    "        self.category=category\n",
    "    def update_iden_no(self):\n",
    "        self.__iden_no=iden_no\n",
    "    \n",
    "    \n",
    "    def menu_info(self):\n",
    "        print(f\"food_name : {self.name} ,discription : {self.discription}, price : {self.price}, category : {self.category}\")\n",
    "        \n",
    "        \n",
    "class BeverageItem(MenuItem):\n",
    "    def __init__(self,name,discription,price,category,iden_no,nature):\n",
    "        self.name=name\n",
    "        self.discription=discription\n",
    "        self.price=price\n",
    "        self.category=category\n",
    "        self.__iden_no=iden_no\n",
    "        self.nature=nature\n",
    "            \n",
    "    def beverage_info(self):\n",
    "        print(f\"beverage_name : {self.name} ,discription : {self.discription}, price : {self.price}, category : {self.category}, nature : {self.nature}\")\n",
    "        \n",
    "class FoodItem(MenuItem):\n",
    "    def __init__(self,name,discription,price,category,iden_no,food_type):\n",
    "        self.name=name\n",
    "        self.discription=discription\n",
    "        self.price=price\n",
    "        self.category=category\n",
    "        self.__iden_no=iden_no\n",
    "        self.food_type=food_type\n",
    "        \n",
    "    def food_info(self):\n",
    "        print(f\"food_name : {self.name} , discription : {self.discription}, price : {self.price}, category : {self.category}, self.food_item : {self.food_item}\")        "
   ]
  },
  {
   "cell_type": "code",
   "execution_count": 73,
   "id": "81d51584-b9ad-4613-8634-b30e186bae12",
   "metadata": {},
   "outputs": [],
   "source": [
    "menu=MenuItem(\"biryani\",\"non veg rice based\",180,\"indian\",\"A18\")"
   ]
  },
  {
   "cell_type": "code",
   "execution_count": 74,
   "id": "39dab6b4-e673-4b44-8972-31e7bf5be6b5",
   "metadata": {},
   "outputs": [
    {
     "name": "stdout",
     "output_type": "stream",
     "text": [
      "food_name : biryani ,discription : non veg rice based, price : 180, category : indian\n"
     ]
    }
   ],
   "source": [
    "menu.menu_info()"
   ]
  },
  {
   "cell_type": "code",
   "execution_count": 75,
   "id": "c97be597-467f-42ed-b7f2-a0563330609b",
   "metadata": {},
   "outputs": [],
   "source": [
    "menu.update_category(\"south indian\")"
   ]
  },
  {
   "cell_type": "code",
   "execution_count": 76,
   "id": "3c36b264-4ed3-40ba-8402-b2d89b9018c5",
   "metadata": {},
   "outputs": [
    {
     "name": "stdout",
     "output_type": "stream",
     "text": [
      "food_name : biryani ,discription : non veg rice based, price : 180, category : south indian\n"
     ]
    }
   ],
   "source": [
    "menu.menu_info()"
   ]
  },
  {
   "cell_type": "code",
   "execution_count": 77,
   "id": "fa3f154f-bddc-46fb-9dc2-02d414c2a5a1",
   "metadata": {},
   "outputs": [],
   "source": [
    "bev= BeverageItem(\"mojito\",\"lemon based\",400,\"italian\",\"A23\",\"non alcoholic\")"
   ]
  },
  {
   "cell_type": "code",
   "execution_count": 78,
   "id": "3ff969be-e75e-46f1-9c0a-24f45f592c6f",
   "metadata": {},
   "outputs": [
    {
     "name": "stdout",
     "output_type": "stream",
     "text": [
      "beverage_name : mojito ,discription : lemon based, price : 400, category : italian, nature : non alcoholic\n"
     ]
    }
   ],
   "source": [
    "bev.beverage_info()"
   ]
  },
  {
   "cell_type": "code",
   "execution_count": 79,
   "id": "5c5ceb48-94e9-4d49-8287-07b401d029d0",
   "metadata": {},
   "outputs": [],
   "source": [
    "#7.Write a code for Hotel Management System using OOPS \n",
    "# Create a Room class that has attributes such as room number, room type, rate, and availability (private)\n",
    "# Impliment methods to book a room, check in a guest, and check out a guest\n",
    "# Use encpsulation to hide the room's unique identification number\n",
    "# Inherit from the Room class to create a Suit,Room class and a StandardRoom class, each with their own\n",
    "# specific attributes and methods."
   ]
  },
  {
   "cell_type": "code",
   "execution_count": 80,
   "id": "9da720d0-c699-4e60-8d1c-16347323572d",
   "metadata": {},
   "outputs": [],
   "source": [
    "class Room:\n",
    "    def __init__(self,room_number,room_type,rate):\n",
    "        self.__room_number=room_number\n",
    "        self.room_type=room_type\n",
    "        self.rate=rate\n",
    "        self.__is_available=True\n",
    "    \n",
    "    def room_book(self):\n",
    "        if self.__is_available:\n",
    "            self.__is_available = False\n",
    "            print(f\"room {self.__room_number} is booked\")\n",
    "        else:\n",
    "            print(f\"room {self.__room_number} is already booked\")\n",
    "            \n",
    "    def check_in(self):\n",
    "        if not self.__is_available:\n",
    "            print(f\"Guest has checked into room {self.__room_number}.\")\n",
    "        else:\n",
    "            print(f\"Room {self.__room_number} is not booked yet.\")\n",
    "    \n",
    "    \n",
    "    def check_out(self):\n",
    "        if not self.__is_available:\n",
    "            self.__is_available = True\n",
    "            print(f\"Guest has checked out of room {self.__room_number}.\")\n",
    "        else:\n",
    "            print(f\"Room {self.__room_number} is already available.\")\n",
    "            \n",
    "    def is_available(self):\n",
    "        return self.__is_available\n",
    "\n",
    "    def get_room_number(self):\n",
    "        return self.__room_number\n",
    "\n",
    "    def get_room_details(self):\n",
    "        return {\n",
    "            'Room Number': self.__room_number,\n",
    "            'Room Type': self.room_type,\n",
    "            'Rate': self.rate,\n",
    "            'Availability': 'Available' if self.__is_available else 'Booked'\n",
    "        }\n",
    "\n",
    "class SuiteRoom(Room):\n",
    "    def __init__(self, room_number, rate, has_living_room=True):\n",
    "        super().__init__(room_number, \"Suite\", rate)\n",
    "        self.has_living_room = has_living_room\n",
    "\n",
    "    def get_room_details(self):\n",
    "        details = super().get_room_details()\n",
    "        details['Has Living Room'] = self.has_living_room\n",
    "        return details\n",
    "\n",
    "\n",
    "class StandardRoom(Room):\n",
    "    def __init__(self, room_number, rate, has_double_bed=True):\n",
    "        super().__init__(room_number, \"Standard\", rate)\n",
    "        self.has_double_bed = has_double_bed\n",
    "    \n",
    "    \n",
    "    def get_room_details(self):\n",
    "        details = super().get_room_details()\n",
    "        details['Has Double Bed'] = self.has_double_bed\n",
    "        return details"
   ]
  },
  {
   "cell_type": "code",
   "execution_count": 81,
   "id": "e2c1c6c6-edb3-45f2-8645-7e124e6affd2",
   "metadata": {},
   "outputs": [],
   "source": [
    "suite1 = SuiteRoom(room_number=101, rate=200)\n",
    "standard1 = StandardRoom(room_number=102, rate=100)"
   ]
  },
  {
   "cell_type": "code",
   "execution_count": 82,
   "id": "916b502a-0869-41ca-a2b2-3159db138113",
   "metadata": {},
   "outputs": [
    {
     "name": "stdout",
     "output_type": "stream",
     "text": [
      "room 101 is booked\n"
     ]
    }
   ],
   "source": [
    "suite1.room_book()"
   ]
  },
  {
   "cell_type": "code",
   "execution_count": 83,
   "id": "3bbdbee6-6719-4b47-8071-4764f854a403",
   "metadata": {},
   "outputs": [
    {
     "name": "stdout",
     "output_type": "stream",
     "text": [
      "Guest has checked into room 101.\n"
     ]
    }
   ],
   "source": [
    "suite1.check_in()"
   ]
  },
  {
   "cell_type": "code",
   "execution_count": 84,
   "id": "1b5e323f-133a-4580-9e46-0b013dbabe0a",
   "metadata": {},
   "outputs": [
    {
     "data": {
      "text/plain": [
       "{'Room Number': 101,\n",
       " 'Room Type': 'Suite',\n",
       " 'Rate': 200,\n",
       " 'Availability': 'Booked',\n",
       " 'Has Living Room': True}"
      ]
     },
     "execution_count": 84,
     "metadata": {},
     "output_type": "execute_result"
    }
   ],
   "source": [
    "suite1.get_room_details()"
   ]
  },
  {
   "cell_type": "code",
   "execution_count": 85,
   "id": "b348b38e-4b2b-4d7b-8f0e-88e2e3153993",
   "metadata": {},
   "outputs": [
    {
     "name": "stdout",
     "output_type": "stream",
     "text": [
      "Guest has checked out of room 101.\n"
     ]
    }
   ],
   "source": [
    "suite1.check_out()"
   ]
  },
  {
   "cell_type": "code",
   "execution_count": 86,
   "id": "e7a36be1-b235-4932-acb7-7de17513876e",
   "metadata": {},
   "outputs": [],
   "source": [
    "#8.Write a code for Fitness Club Management System using OOPS\n",
    "# Create a Member class that has attributes such as name, age, membership type, and membership status\n",
    "# (private)\n",
    "# Impliment methods to register a new member, renew a membership, and cancel a membership\n",
    "# Use encapsulation to hide the member's unique identcation number\n",
    "# Inherit from the Member class to create a FamilyMember class and an IndividualMember class, each with\n",
    "# their own specific attributes and methods"
   ]
  },
  {
   "cell_type": "code",
   "execution_count": 87,
   "id": "588d947d-926b-4108-8ee7-fd7e681e9594",
   "metadata": {},
   "outputs": [],
   "source": [
    "class Member:\n",
    "    def __init__(self,name,age,membership_type,membership_status,Iden_no):\n",
    "        self.name=name\n",
    "        self.age=age\n",
    "        self.membership_type=membership_type\n",
    "        self.__membership_status= \"active\"\n",
    "        self.__Iden_no=Iden_no\n",
    "        \n",
    "    def member_info(self):\n",
    "        print(f\"member_name : {self.name} , age : {self.age} , membership_type : {self.membership_type}\")\n",
    "        \n",
    "              \n",
    "    def register_no(self):\n",
    "              print(f\" member {self.name} has been registered \")\n",
    "              \n",
    "    def renew_membership(self):\n",
    "        if self.__membership_status == \"active\" :\n",
    "            print(f\"membership for {self.name} has been renewed\")\n",
    "        else:\n",
    "                  print(f\" membership for {self.name} cant be renewed ,currently Inactive\")\n",
    "                \n",
    "    def cancel_membership(self):\n",
    "        self.__membership_status = \"inactive\"\n",
    "        print(f\" membership for {self.name} has been cancelled\")\n",
    "        \n",
    "        \n",
    "    def get_membership_status(self):\n",
    "        return self.__membership_status\n",
    "    \n",
    "    \n",
    "class FamilyMember(Member):\n",
    "    def  __init__(self,name,age,membership_type,family_size):\n",
    "        self.name=name\n",
    "        self.age=age\n",
    "        self.membership_type=membership_type\n",
    "        self.family_size=family_size\n",
    "        \n",
    "    def member_info(self):\n",
    "        print(f\"member_name : {self.name} , age : {self.age} , membership_type : {self.membership_type}, family_size : {self.family_size}\")\n",
    "\n",
    "        \n",
    "class IndividualMember(Member):\n",
    "    def __init__(self,name,age,size=1):\n",
    "        self.name=name\n",
    "        self.age=age\n",
    "        self.size=size\n",
    "        \n",
    "        \n",
    "    def member_info(self):\n",
    "        print(f\" member_name : {self.name} , age : {self.age} , size : 1 \")             "
   ]
  },
  {
   "cell_type": "code",
   "execution_count": 88,
   "id": "65009d89-4323-48d8-a521-c5725772e22b",
   "metadata": {},
   "outputs": [],
   "source": [
    "m = Member( \"Ankit\",28,\"yearly\",\"active\",\"a111\")"
   ]
  },
  {
   "cell_type": "code",
   "execution_count": 89,
   "id": "d637ec00-324d-4f61-81d7-3072982ecfd3",
   "metadata": {},
   "outputs": [
    {
     "name": "stdout",
     "output_type": "stream",
     "text": [
      "member_name : Ankit , age : 28 , membership_type : yearly\n"
     ]
    }
   ],
   "source": [
    "m.member_info()"
   ]
  },
  {
   "cell_type": "code",
   "execution_count": 90,
   "id": "4c6a7e24-41f6-47c2-b19c-65aa09ae1500",
   "metadata": {},
   "outputs": [
    {
     "name": "stdout",
     "output_type": "stream",
     "text": [
      " membership for Ankit has been cancelled\n"
     ]
    }
   ],
   "source": [
    "m.cancel_membership()"
   ]
  },
  {
   "cell_type": "code",
   "execution_count": 91,
   "id": "5f94bbb4-6bee-4bff-af0d-b419a7fca66a",
   "metadata": {},
   "outputs": [
    {
     "name": "stdout",
     "output_type": "stream",
     "text": [
      " membership for Ankit cant be renewed ,currently Inactive\n"
     ]
    }
   ],
   "source": [
    "m.renew_membership()"
   ]
  },
  {
   "cell_type": "code",
   "execution_count": 92,
   "id": "6d85f818-7862-4d55-b419-6ff1c7722c61",
   "metadata": {},
   "outputs": [
    {
     "name": "stdout",
     "output_type": "stream",
     "text": [
      " member Ankit has been registered \n"
     ]
    }
   ],
   "source": [
    "m.register_no()"
   ]
  },
  {
   "cell_type": "code",
   "execution_count": 93,
   "id": "4aa2441b-b164-4227-9a35-07332716d2e9",
   "metadata": {},
   "outputs": [],
   "source": [
    "i = IndividualMember(\"Anupam\",29)"
   ]
  },
  {
   "cell_type": "code",
   "execution_count": 94,
   "id": "42005736-242f-43cb-aa2c-a65d86ae8462",
   "metadata": {},
   "outputs": [
    {
     "name": "stdout",
     "output_type": "stream",
     "text": [
      " member_name : Anupam , age : 29 , size : 1 \n"
     ]
    }
   ],
   "source": [
    "i.member_info()"
   ]
  },
  {
   "cell_type": "code",
   "execution_count": 95,
   "id": "1cea083a-4a9e-47dc-ac49-0d0a3ea33a5e",
   "metadata": {},
   "outputs": [
    {
     "name": "stdout",
     "output_type": "stream",
     "text": [
      " membership for Anupam has been cancelled\n"
     ]
    }
   ],
   "source": [
    "i.cancel_membership()"
   ]
  },
  {
   "cell_type": "code",
   "execution_count": 96,
   "id": "bd4050ec-5ca0-4ba9-8663-3fea6a957b2f",
   "metadata": {},
   "outputs": [],
   "source": [
    "f= FamilyMember(\"Guptas\",\"22-33\",\"yearly\",5)"
   ]
  },
  {
   "cell_type": "code",
   "execution_count": 97,
   "id": "52fa8612-266e-4c9e-bfcb-bf50fe42f171",
   "metadata": {},
   "outputs": [
    {
     "name": "stdout",
     "output_type": "stream",
     "text": [
      "member_name : Guptas , age : 22-33 , membership_type : yearly, family_size : 5\n"
     ]
    }
   ],
   "source": [
    "f.member_info()"
   ]
  },
  {
   "cell_type": "code",
   "execution_count": 98,
   "id": "366d1678-1827-41b5-a730-c40914cf70c9",
   "metadata": {},
   "outputs": [
    {
     "name": "stdout",
     "output_type": "stream",
     "text": [
      " membership for Guptas has been cancelled\n"
     ]
    }
   ],
   "source": [
    "f.cancel_membership()"
   ]
  },
  {
   "cell_type": "code",
   "execution_count": 99,
   "id": "1b1ad504-ab1f-4b87-8b8e-69317748e572",
   "metadata": {},
   "outputs": [],
   "source": [
    "#  9. Write a code for Event Management System using OOPS\n",
    "# Create an Event class that has attributes such as name, date, time, location, and list of attendees (private)\n",
    "# Impliment methods to create a new event, add or remove attendeees, and get the total number of\n",
    "# attendees\n",
    "# Use ecapsulation to hide the event's unique identification number\n",
    "# Inherit from the Event class to create a PrivateEvent class and a PublicEvent class, each with their own\n",
    "# specific attributes and methods."
   ]
  },
  {
   "cell_type": "code",
   "execution_count": 110,
   "id": "4b789354-2f04-4e5c-92d3-21ab40b764c9",
   "metadata": {},
   "outputs": [],
   "source": [
    "class Event:\n",
    "    def __init__(self,event_id,name,date,time,location):\n",
    "        self.__event_id=event_id\n",
    "        self.name=name\n",
    "        self.date=date\n",
    "        self.time=time\n",
    "        self.location=location\n",
    "        self.__list_attendees=[]\n",
    "        \n",
    "    def add_attendees(self,attendee):\n",
    "        self.__list_attendees.append(attendee)\n",
    "        print(f\"attendee {attendee} is added to the list\")\n",
    "        \n",
    "    def remove_attendees(self,attendee):\n",
    "        if attendee in self.__attendees:\n",
    "            self.__attendees.remove(attendee)\n",
    "            print(f\"Attendee {attendee} removed from the event {self.name}.\")\n",
    "        else:\n",
    "            print(f\"Attendee {attendee} not found in the event {self.name}.\")\n",
    "            \n",
    "    def get_total_attendees(self):\n",
    "        return len(self.__attendees)\n",
    "    \n",
    "    def event_info(self):\n",
    "        print(f\"event_name : {self.name} , date : {self.date} , time : {self.time} , location : {self.location} , total_attendees : {self.get_total_attendees}\")\n",
    "        \n",
    "    def get_attendees(self):\n",
    "        return self.__attendees\n",
    "    \n",
    "class PrivateEvent(Event):\n",
    "    def __init__(self,event_id,name,date,time,location,invite_only=True):\n",
    "        self.__event_id=event_id\n",
    "        self.name=name\n",
    "        self.date=date\n",
    "        self.time=time\n",
    "        self.location=location\n",
    "        self.invite_only=invite_only\n",
    "        \n",
    "    def event_info(self):\n",
    "        print(f\" event_name : {self.name} , date : {self.date} , time : {self.time} , location : {self.location} , invite_only : {self.invite_only}\")\n",
    "        \n",
    "        \n",
    "class PublicEvent(Event):\n",
    "    def __init__(self,event_id,name,date,time,location,open_to_all=True):\n",
    "        self.__event_id=event_id\n",
    "        self.name=name\n",
    "        self.date=date\n",
    "        self.time=time\n",
    "        self.location=location\n",
    "        self.open_to_all=open_to_all\n",
    "        \n",
    "    def event_info(self):\n",
    "        print(f\" event_name : {self.name} , date : {self.name} , time : {self.time} , location : {self.location} , open_to_all : {self.open_to_all}\")             "
   ]
  },
  {
   "cell_type": "code",
   "execution_count": 113,
   "id": "55f1eab9-4912-4c0a-bd14-3113b40d980f",
   "metadata": {},
   "outputs": [],
   "source": [
    "p = PrivateEvent(event_id=101, name=\"Board Meeting\", date=\"2023-08-01\", time=\"10:00 AM\", location=\"Conference Room\")\n",
    "pe = PublicEvent(event_id=102, name=\"Community Gathering\", date=\"2023-08-05\", time=\"05:00 PM\", location=\"Community Hall\")"
   ]
  },
  {
   "cell_type": "code",
   "execution_count": 115,
   "id": "f7a967dc-68bf-43b0-ba3e-702d143436e4",
   "metadata": {},
   "outputs": [
    {
     "name": "stdout",
     "output_type": "stream",
     "text": [
      " event_name : Board Meeting , date : 2023-08-01 , time : 10:00 AM , location : Conference Room , invite_only : True\n"
     ]
    }
   ],
   "source": [
    "p.event_info()"
   ]
  },
  {
   "cell_type": "code",
   "execution_count": 118,
   "id": "9a0e0248-696d-478c-a86d-d9c8a6cb9871",
   "metadata": {},
   "outputs": [
    {
     "name": "stdout",
     "output_type": "stream",
     "text": [
      " event_name : Community Gathering , date : Community Gathering , time : 05:00 PM , location : Community Hall , open_to_all : True\n"
     ]
    }
   ],
   "source": [
    "pe.event_info()"
   ]
  },
  {
   "cell_type": "code",
   "execution_count": 120,
   "id": "52b20bc5-cb07-49d3-98d7-b927a53b45bf",
   "metadata": {},
   "outputs": [],
   "source": [
    "# 10.Write a code for Airline Reservation System using OOPS\n",
    "# Create a Flight class that has attributes such as flight number, departure and arrival airports, departure and\n",
    "# arrival times, and available seats (private)\n",
    "# Impliment methods to book a seat, cancel a reservation, and get the remaining available seats\n",
    "# Use encapsulation to hide the flight's unique identification number\n",
    "# Inherit from the Flight class to create a DomesticFlight class and an InternationalFlight class, each with their\n",
    "# own specific attributes and methods."
   ]
  },
  {
   "cell_type": "code",
   "execution_count": 141,
   "id": "5ecbad10-7af1-4fe3-9a4d-bf8d0ba43c42",
   "metadata": {},
   "outputs": [],
   "source": [
    "class Flight:\n",
    "    def __init__(self,flight_number,departure,arraival,departure_time,arrival_time,availaible_seat):\n",
    "        self.flight_number=flight_number\n",
    "        self.departure=departure\n",
    "        self.arrival=arrival\n",
    "        self.departure_time=departure_time\n",
    "        self.arrival_time=arrival_time\n",
    "        self.__availaible_seat=availaible_seat\n",
    "        self.__booked_seat=0\n",
    "        \n",
    "    def flight_info(self):\n",
    "        print(f\" flight_no : { self.flight_number} , departure_airport : {self.departure} , arrival_airport : { self.arrival} ,  departure_time : { self.departure_time} , arrival_timr :  {self.arrival_time}\")\n",
    "              \n",
    "        \n",
    "    def book_seat(self):\n",
    "        if self.__availaible_seat > 0 :\n",
    "            self.__availaible_seat -= 1\n",
    "            self.__book_seat += 1\n",
    "            print(f\"Seat booked on flight {self.flight_number}. Remaining seats: {self.__availaible_seat}.\")\n",
    "        else:\n",
    "            print(f\"No available seats on flight {self.flight_number}.\")\n",
    "            \n",
    "    def cancel_reservation(self):\n",
    "        if self.__booked_seat > 0:\n",
    "            self.__availaible_seat += 1\n",
    "            self.__booked_seat -= 1\n",
    "            print(f\"Reservation cancelled on flight {self.flight_number}. Remaining seats: {self.__availaible_seats}.\")\n",
    "        else:\n",
    "            print(f\"No reservations to cancel on flight {self.flight_number}.\")\n",
    "            \n",
    "            \n",
    "    def get_remaining_seats(self):\n",
    "        return self.__availaible_seats\n",
    "    \n",
    "class DomesticFlight(Flight):\n",
    "    def __init__(self,flight_number,departure,arrival,departure_time,arrival_time,availaible_seat,state_code):\n",
    "        self.flight_number=flight_number\n",
    "        self.departure=departure\n",
    "        self.arrival=arrival\n",
    "        self.departure_time=departure_time\n",
    "        self.arrival_time=arrival_time\n",
    "        self.__availaible_seat=availaible_seat\n",
    "        self.state_code=state_code\n",
    "        \n",
    "   \n",
    "        \n",
    "    def get_flight_type(self):\n",
    "        return \"domestic\"\n",
    "    \n",
    "class InternationalFlight(Flight):\n",
    "    def __init__(self,flight_number,departure,arrival,departure_time,arrival_time,availaible_seat,country_code):\n",
    "        self.flight_number=flight_number\n",
    "        self.departure=departure\n",
    "        self.arrival=arrival\n",
    "        self.departure_time=departure_time\n",
    "        self.arrival_time=arrival_time\n",
    "        self.__availaible_seat=availaible_seat\n",
    "        self.country_code=country_code\n",
    "        \n",
    "    def get_flight_type(self):\n",
    "        return \"International\"           "
   ]
  },
  {
   "cell_type": "code",
   "execution_count": 143,
   "id": "ca7e95c8-7e90-4877-acf0-5768fec12dcf",
   "metadata": {},
   "outputs": [],
   "source": [
    "df=DomesticFlight(\"IE2034\",\"DELHI\",\"BANGLORE\",\"9:30\",\"13:00\",88,\"A11\")"
   ]
  },
  {
   "cell_type": "code",
   "execution_count": 144,
   "id": "1f4bff67-bbc0-4eae-a7a7-d94e02044270",
   "metadata": {},
   "outputs": [
    {
     "data": {
      "text/plain": [
       "'domestic'"
      ]
     },
     "execution_count": 144,
     "metadata": {},
     "output_type": "execute_result"
    }
   ],
   "source": [
    "df.get_flight_type()"
   ]
  },
  {
   "cell_type": "code",
   "execution_count": 145,
   "id": "a8950a34-277b-43b3-afda-ff0481da53da",
   "metadata": {},
   "outputs": [
    {
     "name": "stdout",
     "output_type": "stream",
     "text": [
      " flight_no : IE2034 , departure_airport : DELHI , arrival_airport : BANGLORE ,  departure_time : 9:30 , arrival_timr :  13:00\n"
     ]
    }
   ],
   "source": [
    "df.flight_info()"
   ]
  },
  {
   "cell_type": "code",
   "execution_count": null,
   "id": "0934d035-2c16-4754-a250-77ea57aa05f8",
   "metadata": {},
   "outputs": [],
   "source": []
  }
 ],
 "metadata": {
  "kernelspec": {
   "display_name": "Python 3 (ipykernel)",
   "language": "python",
   "name": "python3"
  },
  "language_info": {
   "codemirror_mode": {
    "name": "ipython",
    "version": 3
   },
   "file_extension": ".py",
   "mimetype": "text/x-python",
   "name": "python",
   "nbconvert_exporter": "python",
   "pygments_lexer": "ipython3",
   "version": "3.10.8"
  }
 },
 "nbformat": 4,
 "nbformat_minor": 5
}
