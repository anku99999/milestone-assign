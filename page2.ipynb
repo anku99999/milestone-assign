{
 "cells": [
  {
   "cell_type": "code",
   "execution_count": 3,
   "id": "5c3e06af-7946-4282-a187-e867df57cb8f",
   "metadata": {},
   "outputs": [],
   "source": [
    "#Question 1.1: Write the Answer to these questions."
   ]
  },
  {
   "cell_type": "code",
   "execution_count": 4,
   "id": "56670522-3c8f-404b-8505-ccb3af078a48",
   "metadata": {},
   "outputs": [],
   "source": [
    "# What is te difference between static and dynamic variables in Pyton."
   ]
  },
  {
   "cell_type": "code",
   "execution_count": 14,
   "id": "ef87258e-a992-46dd-ad88-310c6e85da0a",
   "metadata": {},
   "outputs": [],
   "source": [
    "#static variable are those whose memory allocation is known\n",
    "#dynamic variable are those whose memory allocation is not known"
   ]
  },
  {
   "cell_type": "code",
   "execution_count": 15,
   "id": "aa7be2d4-5759-4542-8c5f-11f9e9824399",
   "metadata": {},
   "outputs": [
    {
     "name": "stdout",
     "output_type": "stream",
     "text": [
      "0 0\n"
     ]
    }
   ],
   "source": [
    "#example of static variable\n",
    "class Self_Created:\n",
    "    static_variabe=0\n",
    "    def __init__(self):\n",
    "        self.instance_variable=1\n",
    "my_obj1= Self_Created()\n",
    "my_obj2= Self_Created()\n",
    "print(my_obj1.static_variabe,my_obj2.static_variabe)"
   ]
  },
  {
   "cell_type": "code",
   "execution_count": 16,
   "id": "632f9435-b74d-45e5-bb66-99e528f06a22",
   "metadata": {},
   "outputs": [],
   "source": [
    "Self_Created.static_variabe = 2"
   ]
  },
  {
   "cell_type": "code",
   "execution_count": 17,
   "id": "36f51b07-61a0-46c1-84c1-3dfb5bd51da0",
   "metadata": {},
   "outputs": [
    {
     "name": "stdout",
     "output_type": "stream",
     "text": [
      "2 2\n"
     ]
    }
   ],
   "source": [
    "print(my_obj1.static_variabe,my_obj2.static_variabe)"
   ]
  },
  {
   "cell_type": "code",
   "execution_count": 18,
   "id": "e8001c1a-ee93-4be9-b3a1-7b19c17cf6a4",
   "metadata": {},
   "outputs": [
    {
     "name": "stdout",
     "output_type": "stream",
     "text": [
      "1 1\n"
     ]
    }
   ],
   "source": [
    "#example of Dynamic_variable\n",
    "class Self_Created:\n",
    "    def __init__(self):\n",
    "        self.dynamic_variable=1\n",
    "obj1=Self_Created()\n",
    "obj2=Self_Created()\n",
    "print(obj1.dynamic_variable,obj2.dynamic_variable)"
   ]
  },
  {
   "cell_type": "code",
   "execution_count": 19,
   "id": "084fb35e-c9ef-4381-9210-66741bae5c84",
   "metadata": {},
   "outputs": [],
   "source": [
    "obj1.dynamic_variable=2"
   ]
  },
  {
   "cell_type": "code",
   "execution_count": 20,
   "id": "33b58a74-44a7-4b89-8708-9d8adbe5cee9",
   "metadata": {},
   "outputs": [
    {
     "name": "stdout",
     "output_type": "stream",
     "text": [
      "2 1\n"
     ]
    }
   ],
   "source": [
    "print(obj1.dynamic_variable,obj2.dynamic_variable)"
   ]
  },
  {
   "cell_type": "code",
   "execution_count": 21,
   "id": "a77e315c-8198-4669-b6c7-d6ddb1cbc445",
   "metadata": {},
   "outputs": [],
   "source": [
    "# Explain the purpose of \"pop\",\"popitem\",\"clear()\" in a dictionary with suitable example."
   ]
  },
  {
   "cell_type": "code",
   "execution_count": 22,
   "id": "bf4f12fa-205c-4366-b942-a93ed5a6f192",
   "metadata": {},
   "outputs": [],
   "source": [
    "#lets create a dictionary first"
   ]
  },
  {
   "cell_type": "code",
   "execution_count": 23,
   "id": "d1f16318-bafc-43e0-8c64-d3f2fe949a49",
   "metadata": {},
   "outputs": [],
   "source": [
    "dict={'a':12,'b':13,'c':14,'d':17,'e':23}"
   ]
  },
  {
   "cell_type": "code",
   "execution_count": 24,
   "id": "de33abb8-c872-4529-bab4-f120f11d9342",
   "metadata": {},
   "outputs": [
    {
     "data": {
      "text/plain": [
       "{'a': 12, 'b': 13, 'c': 14, 'd': 17, 'e': 23}"
      ]
     },
     "execution_count": 24,
     "metadata": {},
     "output_type": "execute_result"
    }
   ],
   "source": [
    "dict"
   ]
  },
  {
   "cell_type": "code",
   "execution_count": 25,
   "id": "53a5e51c-9199-42e6-ae9d-35ecb52fb858",
   "metadata": {},
   "outputs": [],
   "source": [
    "dict1=dict.pop('c')  # here you can delete by index"
   ]
  },
  {
   "cell_type": "code",
   "execution_count": 26,
   "id": "766bd304-f6f3-432d-9c7a-214f63294e43",
   "metadata": {},
   "outputs": [
    {
     "data": {
      "text/plain": [
       "{'a': 12, 'b': 13, 'd': 17, 'e': 23}"
      ]
     },
     "execution_count": 26,
     "metadata": {},
     "output_type": "execute_result"
    }
   ],
   "source": [
    "dict"
   ]
  },
  {
   "cell_type": "code",
   "execution_count": 27,
   "id": "c0c17cf4-0029-4c6f-a92b-5436af6ca277",
   "metadata": {},
   "outputs": [],
   "source": [
    "dict2=dict.popitem() # Here it delete the last index only"
   ]
  },
  {
   "cell_type": "code",
   "execution_count": 28,
   "id": "1954f108-6ec1-47e3-96e7-e572a2863afb",
   "metadata": {},
   "outputs": [
    {
     "data": {
      "text/plain": [
       "{'a': 12, 'b': 13, 'd': 17}"
      ]
     },
     "execution_count": 28,
     "metadata": {},
     "output_type": "execute_result"
    }
   ],
   "source": [
    "dict"
   ]
  },
  {
   "cell_type": "code",
   "execution_count": 29,
   "id": "e9d6f23a-17aa-41ec-b0b2-1934d23b6094",
   "metadata": {},
   "outputs": [],
   "source": [
    "dict.clear()   # clear all the elements of the dictionary  "
   ]
  },
  {
   "cell_type": "code",
   "execution_count": 30,
   "id": "1b2cfc03-7db0-4056-a59b-94781189920d",
   "metadata": {},
   "outputs": [
    {
     "data": {
      "text/plain": [
       "{}"
      ]
     },
     "execution_count": 30,
     "metadata": {},
     "output_type": "execute_result"
    }
   ],
   "source": [
    "dict"
   ]
  },
  {
   "cell_type": "code",
   "execution_count": 31,
   "id": "39ba47ed-bab6-4d3e-8025-f9c229ea1982",
   "metadata": {},
   "outputs": [],
   "source": [
    "# What do you mean by the frozenset? Explain with proper example"
   ]
  },
  {
   "cell_type": "code",
   "execution_count": 32,
   "id": "2921bddc-2654-4a46-b3f7-d05a15792fef",
   "metadata": {},
   "outputs": [],
   "source": [
    "#Frozen set are same as set ,the only difference is frozen set is immutable in nature.\n",
    "#sets are those in which there are no repeated element"
   ]
  },
  {
   "cell_type": "code",
   "execution_count": 33,
   "id": "f94bb04a-d80b-4ae2-a701-ffdde44e90e0",
   "metadata": {},
   "outputs": [],
   "source": [
    "set1={1,2,2,3,4,5,6,7,7}"
   ]
  },
  {
   "cell_type": "code",
   "execution_count": 34,
   "id": "8a31affb-5821-4c41-97e8-557240b3bb37",
   "metadata": {},
   "outputs": [
    {
     "data": {
      "text/plain": [
       "{1, 2, 3, 4, 5, 6, 7}"
      ]
     },
     "execution_count": 34,
     "metadata": {},
     "output_type": "execute_result"
    }
   ],
   "source": [
    "set1  # here all the repeated element are automatically replaced"
   ]
  },
  {
   "cell_type": "code",
   "execution_count": 35,
   "id": "3d7dacb3-2970-4ead-9844-0a97534ee8b7",
   "metadata": {},
   "outputs": [],
   "source": [
    "set1.add(9)"
   ]
  },
  {
   "cell_type": "code",
   "execution_count": 36,
   "id": "d98c9aba-7d57-41b5-a708-2190ad872a46",
   "metadata": {},
   "outputs": [
    {
     "data": {
      "text/plain": [
       "{1, 2, 3, 4, 5, 6, 7, 9}"
      ]
     },
     "execution_count": 36,
     "metadata": {},
     "output_type": "execute_result"
    }
   ],
   "source": [
    "set1  # we can add element"
   ]
  },
  {
   "cell_type": "code",
   "execution_count": 37,
   "id": "fda36f4e-d194-4fc7-a63a-1489e17cfcba",
   "metadata": {},
   "outputs": [],
   "source": [
    "set2=frozenset(set1)        "
   ]
  },
  {
   "cell_type": "code",
   "execution_count": 38,
   "id": "01b594ec-0f69-4591-a148-f610a833c30a",
   "metadata": {},
   "outputs": [
    {
     "data": {
      "text/plain": [
       "frozenset({1, 2, 3, 4, 5, 6, 7, 9})"
      ]
     },
     "execution_count": 38,
     "metadata": {},
     "output_type": "execute_result"
    }
   ],
   "source": [
    "set2  # It is our frozen set"
   ]
  },
  {
   "cell_type": "code",
   "execution_count": 39,
   "id": "0b95cc38-b44d-46fa-828e-2f32ee2647c5",
   "metadata": {},
   "outputs": [
    {
     "ename": "AttributeError",
     "evalue": "'frozenset' object has no attribute 'add'",
     "output_type": "error",
     "traceback": [
      "\u001b[0;31m---------------------------------------------------------------------------\u001b[0m",
      "\u001b[0;31mAttributeError\u001b[0m                            Traceback (most recent call last)",
      "Cell \u001b[0;32mIn[39], line 1\u001b[0m\n\u001b[0;32m----> 1\u001b[0m \u001b[43mset2\u001b[49m\u001b[38;5;241;43m.\u001b[39;49m\u001b[43madd\u001b[49m(\u001b[38;5;241m11\u001b[39m)   \u001b[38;5;66;03m# shows erroe because in frozen set is immutable\u001b[39;00m\n",
      "\u001b[0;31mAttributeError\u001b[0m: 'frozenset' object has no attribute 'add'"
     ]
    }
   ],
   "source": [
    "set2.add(11)   # shows erroe because in frozen set is immutable"
   ]
  },
  {
   "cell_type": "code",
   "execution_count": 40,
   "id": "c3129bac-c440-4bf1-82d9-a7031b6f5bb4",
   "metadata": {},
   "outputs": [],
   "source": [
    "# Differenciate between mutable and immutable data types in python and give example of it as well."
   ]
  },
  {
   "cell_type": "code",
   "execution_count": 41,
   "id": "e66e9045-25a7-4ae7-a78d-10527e2e1cec",
   "metadata": {},
   "outputs": [],
   "source": [
    "# Mutable data types : In these datatypes ,we can easily make changes the element of data set after the dataset is created.\n",
    "# Example of these datatypes is list,set,dictionary.."
   ]
  },
  {
   "cell_type": "code",
   "execution_count": 42,
   "id": "b7415c10-a873-45c4-8197-670477b35f2c",
   "metadata": {},
   "outputs": [],
   "source": [
    "list1=[1,2,3,4,5,6]   # A list is created "
   ]
  },
  {
   "cell_type": "code",
   "execution_count": 43,
   "id": "06c1eb76-d878-40f8-a6f1-47f1e2a9a212",
   "metadata": {},
   "outputs": [],
   "source": [
    "list1[3]=9"
   ]
  },
  {
   "cell_type": "code",
   "execution_count": 44,
   "id": "70b18776-bb0e-4a41-aaab-92cfc3d162c3",
   "metadata": {},
   "outputs": [
    {
     "data": {
      "text/plain": [
       "[1, 2, 3, 9, 5, 6]"
      ]
     },
     "execution_count": 44,
     "metadata": {},
     "output_type": "execute_result"
    }
   ],
   "source": [
    "list1  # We change the 3 index of list and change it from '4' to '9'"
   ]
  },
  {
   "cell_type": "code",
   "execution_count": 45,
   "id": "f8d2e3a8-c128-493c-a6ef-b63acace9284",
   "metadata": {},
   "outputs": [],
   "source": [
    "# Immutable data types : In these datatypes, we cannot cmake changes in the element once these data set are created.\n",
    "# Example of these datset are tuple , frozenset"
   ]
  },
  {
   "cell_type": "code",
   "execution_count": 46,
   "id": "258ae48e-af9c-4aec-8ccb-6eda7be28382",
   "metadata": {},
   "outputs": [],
   "source": [
    "#eg lets create a tuple first\n",
    "tup1=(1,2,3,4,5,6)"
   ]
  },
  {
   "cell_type": "code",
   "execution_count": 47,
   "id": "03a7c8de-2473-48c1-a39f-91d290bf6172",
   "metadata": {},
   "outputs": [
    {
     "data": {
      "text/plain": [
       "tuple"
      ]
     },
     "execution_count": 47,
     "metadata": {},
     "output_type": "execute_result"
    }
   ],
   "source": [
    "type(tup1)  # lets confirrm the type of data set"
   ]
  },
  {
   "cell_type": "code",
   "execution_count": 48,
   "id": "4f652aab-7491-4af9-af74-1dce9c57246a",
   "metadata": {},
   "outputs": [
    {
     "ename": "TypeError",
     "evalue": "'tuple' object does not support item assignment",
     "output_type": "error",
     "traceback": [
      "\u001b[0;31m---------------------------------------------------------------------------\u001b[0m",
      "\u001b[0;31mTypeError\u001b[0m                                 Traceback (most recent call last)",
      "Cell \u001b[0;32mIn[48], line 1\u001b[0m\n\u001b[0;32m----> 1\u001b[0m \u001b[43mtup1\u001b[49m\u001b[43m[\u001b[49m\u001b[38;5;241;43m2\u001b[39;49m\u001b[43m]\u001b[49m\u001b[38;5;241m=\u001b[39m\u001b[38;5;241m5\u001b[39m   \u001b[38;5;66;03m# here we can see that we cant make changes the tuple once we make changes in the tuple\u001b[39;00m\n",
      "\u001b[0;31mTypeError\u001b[0m: 'tuple' object does not support item assignment"
     ]
    }
   ],
   "source": [
    "tup1[2]=5   # here we can see that we cant make changes the tuple once we make changes in the tuple"
   ]
  },
  {
   "cell_type": "code",
   "execution_count": 49,
   "id": "37a9a74e-417d-4ab9-a749-88e84f997a9b",
   "metadata": {},
   "outputs": [],
   "source": [
    "# what is __init__? Explain with suitable example"
   ]
  },
  {
   "cell_type": "code",
   "execution_count": 50,
   "id": "dd48b69c-d84b-4a02-adaf-9eb5ccf9c0c0",
   "metadata": {},
   "outputs": [],
   "source": [
    "#The __init__ method is crucial in OOPs. \n",
    "# This method allows us to intiallise an object\"s attributes and perform any necessary setup or initialisation task"
   ]
  },
  {
   "cell_type": "code",
   "execution_count": 51,
   "id": "e9d028cc-c03e-4435-82db-cce58381c84f",
   "metadata": {},
   "outputs": [],
   "source": [
    "class Myclass:\n",
    "    def __init__(self):\n",
    "        self.age=18\n",
    "my1=Myclass()      "
   ]
  },
  {
   "cell_type": "code",
   "execution_count": 52,
   "id": "56d4c9af-711a-4ccf-980f-89fbf411b9f0",
   "metadata": {},
   "outputs": [
    {
     "data": {
      "text/plain": [
       "18"
      ]
     },
     "execution_count": 52,
     "metadata": {},
     "output_type": "execute_result"
    }
   ],
   "source": [
    "my1.age  "
   ]
  },
  {
   "cell_type": "code",
   "execution_count": 53,
   "id": "4501e63e-ad33-464b-af11-61c9676a895c",
   "metadata": {},
   "outputs": [],
   "source": [
    "# What is docstring in python ? explain with an example"
   ]
  },
  {
   "cell_type": "code",
   "execution_count": 54,
   "id": "8d548ae8-e012-44c4-a775-73a1a57f38f0",
   "metadata": {},
   "outputs": [],
   "source": [
    "# A python Docstring is a string used to document a python module,class,function,method."
   ]
  },
  {
   "cell_type": "code",
   "execution_count": 55,
   "id": "2b91b20e-08e9-461c-8bcb-41c2963eea73",
   "metadata": {},
   "outputs": [],
   "source": [
    "def func():\n",
    "    \"\"\" This function always return None , We just provide information in it and it never get executed\"\"\"  # here the information proivided under triple quotes is all called docstring\"\n",
    "    \n",
    "    return None   # here a function is created"
   ]
  },
  {
   "cell_type": "code",
   "execution_count": 56,
   "id": "fcf1e517-06b6-4f49-b764-1f548b44ef44",
   "metadata": {},
   "outputs": [
    {
     "name": "stdout",
     "output_type": "stream",
     "text": [
      " This function always return None , We just provide information in it and it never get executed\n"
     ]
    }
   ],
   "source": [
    "print(func.__doc__)"
   ]
  },
  {
   "cell_type": "code",
   "execution_count": 57,
   "id": "dbf94901-3be2-40cb-8e9b-0cd90b1cd527",
   "metadata": {},
   "outputs": [],
   "source": [
    "# What are unit test in python."
   ]
  },
  {
   "cell_type": "code",
   "execution_count": 58,
   "id": "40a7547c-b9c0-4394-a5aa-1c8bd62f05c1",
   "metadata": {},
   "outputs": [],
   "source": [
    "# This is a block of code which help to test the condition defined for a function"
   ]
  },
  {
   "cell_type": "code",
   "execution_count": 59,
   "id": "67462422-06a3-4c48-b6cb-ed0031171766",
   "metadata": {},
   "outputs": [],
   "source": [
    "#eg"
   ]
  },
  {
   "cell_type": "code",
   "execution_count": 60,
   "id": "0096bcce-89b8-490e-ba55-afb7a06965bd",
   "metadata": {},
   "outputs": [],
   "source": [
    "def sum(a,b):\n",
    "    if a<2:\n",
    "        print(\"addition is not possible\")  # this is basically unit test where we assign an condition for function to work\"\n",
    "    else:\n",
    "        return a+b\n",
    "    "
   ]
  },
  {
   "cell_type": "code",
   "execution_count": 48,
   "id": "6c8a3e83-5770-4aa0-a775-3bdc2e850952",
   "metadata": {},
   "outputs": [
    {
     "name": "stdout",
     "output_type": "stream",
     "text": [
      "addition is not possible\n"
     ]
    }
   ],
   "source": [
    "sum(1,3)   # here  the condition is not fullfilled we provide the unit_test in it"
   ]
  },
  {
   "cell_type": "code",
   "execution_count": 61,
   "id": "0079a03e-18bf-4ae6-a310-b938abff7469",
   "metadata": {},
   "outputs": [
    {
     "data": {
      "text/plain": [
       "9"
      ]
     },
     "execution_count": 61,
     "metadata": {},
     "output_type": "execute_result"
    }
   ],
   "source": [
    "sum(4,5)"
   ]
  },
  {
   "cell_type": "code",
   "execution_count": 62,
   "id": "a43840a5-f9f8-4fc3-a09b-830954fa0cd1",
   "metadata": {},
   "outputs": [],
   "source": [
    "# What is break, cointinue, pass in python"
   ]
  },
  {
   "cell_type": "code",
   "execution_count": 63,
   "id": "7bf903dd-9d31-47bd-b133-5a9444f4e797",
   "metadata": {},
   "outputs": [],
   "source": [
    "# pass is just to craete an class without providing any condition"
   ]
  },
  {
   "cell_type": "code",
   "execution_count": 64,
   "id": "e8862a62-5750-4e90-bdc3-770b488a8472",
   "metadata": {},
   "outputs": [],
   "source": [
    "def my_func():\n",
    "    pass"
   ]
  },
  {
   "cell_type": "code",
   "execution_count": 65,
   "id": "fc2093d2-7a70-4785-80bc-5418eef9b4fa",
   "metadata": {},
   "outputs": [
    {
     "data": {
      "text/plain": [
       "<function __main__.my_func()>"
      ]
     },
     "execution_count": 65,
     "metadata": {},
     "output_type": "execute_result"
    }
   ],
   "source": [
    "my_func  # we created a function \"my_func\" without any condition"
   ]
  },
  {
   "cell_type": "code",
   "execution_count": 66,
   "id": "a8cf1820-f911-47b6-8d25-141b0b97afb0",
   "metadata": {},
   "outputs": [
    {
     "name": "stdout",
     "output_type": "stream",
     "text": [
      "0\n",
      "1\n",
      "2\n",
      "3\n",
      "4\n"
     ]
    }
   ],
   "source": [
    "for i in range(10):  # Break statement is used to break the loop\n",
    "    print(i)\n",
    "    if i==4:\n",
    "        break"
   ]
  },
  {
   "cell_type": "code",
   "execution_count": 67,
   "id": "e008d9fb-deed-4ec2-99dd-457b9e7f2f49",
   "metadata": {},
   "outputs": [
    {
     "name": "stdout",
     "output_type": "stream",
     "text": [
      "0\n",
      "1\n",
      "2\n",
      "3\n",
      "5\n",
      "6\n",
      "7\n",
      "8\n",
      "9\n"
     ]
    }
   ],
   "source": [
    "for i in range(10):  # When cintinue statement is executed in the loop, the code inside the loop following the cointinue statement will be skipped for the current iteration and next iteration of the loop will begin.\n",
    "    if i==4:\n",
    "        continue\n",
    "    print(i)"
   ]
  },
  {
   "cell_type": "code",
   "execution_count": 68,
   "id": "ac98625d-c769-4519-b4e9-f91f2502b2ae",
   "metadata": {},
   "outputs": [
    {
     "data": {
      "text/plain": [
       "(26, 78)"
      ]
     },
     "execution_count": 68,
     "metadata": {},
     "output_type": "execute_result"
    }
   ],
   "source": [
    "# What are global protected and private attributes\n",
    "# Global attributes are accessed by everyone easily\n",
    "#eg\n",
    "class MyClass:\n",
    "    def __init__(self,age,weight):\n",
    "        self.age=age\n",
    "        self.weight=weight\n",
    "profile=MyClass(26,78)   \n",
    "profile.age,profile.weight # Can accesed by everyone      "
   ]
  },
  {
   "cell_type": "code",
   "execution_count": 76,
   "id": "18cdc4cd-8652-47eb-91c7-53b25bf48b2c",
   "metadata": {},
   "outputs": [
    {
     "ename": "AttributeError",
     "evalue": "'Info' object has no attribute 'name'",
     "output_type": "error",
     "traceback": [
      "\u001b[0;31m---------------------------------------------------------------------------\u001b[0m",
      "\u001b[0;31mAttributeError\u001b[0m                            Traceback (most recent call last)",
      "Cell \u001b[0;32mIn[76], line 7\u001b[0m\n\u001b[1;32m      5\u001b[0m         \u001b[38;5;28mself\u001b[39m\u001b[38;5;241m.\u001b[39m__age\u001b[38;5;241m=\u001b[39mage\n\u001b[1;32m      6\u001b[0m information\u001b[38;5;241m=\u001b[39mInfo(\u001b[38;5;124m\"\u001b[39m\u001b[38;5;124mankit\u001b[39m\u001b[38;5;124m\"\u001b[39m,\u001b[38;5;241m28\u001b[39m)  \u001b[38;5;66;03m# as the attributes are protected we cant access it ,if we need to access it we access it from outside in inherited class\u001b[39;00m\n\u001b[0;32m----> 7\u001b[0m \u001b[43minformation\u001b[49m\u001b[38;5;241;43m.\u001b[39;49m\u001b[43mname\u001b[49m\n",
      "\u001b[0;31mAttributeError\u001b[0m: 'Info' object has no attribute 'name'"
     ]
    }
   ],
   "source": [
    "#Protected attributes is those attributes which is not accessed by everyone unless we have the access\n",
    "class Info:\n",
    "    def __init__(self,name,age):\n",
    "        self.__name=name\n",
    "        self.__age=age\n",
    "information=Info(\"ankit\",28)  # as the attributes are protected we cant access it ,if we need to access it we access it from outside in inherited class\n",
    "information.name"
   ]
  },
  {
   "cell_type": "code",
   "execution_count": 86,
   "id": "7af3925e-6d25-4ba6-aab8-79cb02f6bc8a",
   "metadata": {},
   "outputs": [
    {
     "data": {
      "text/plain": [
       "<bound method Info.access_name of <__main__.Info object at 0x7f86b3703160>>"
      ]
     },
     "execution_count": 86,
     "metadata": {},
     "output_type": "execute_result"
    }
   ],
   "source": [
    "#to access protected attrtibutes we define an outside class\n",
    "class Info:\n",
    "    def __init__(self,name,age):\n",
    "        self.__name=name\n",
    "        self.__age=age\n",
    "        \n",
    "    def access_name(self):\n",
    "        return self.name\n",
    "infor=Info(\"ankit\",28)\n",
    "infor.access_name"
   ]
  },
  {
   "cell_type": "code",
   "execution_count": 2,
   "id": "c9d75a87-64a6-464e-8c20-4879771e3cfb",
   "metadata": {},
   "outputs": [
    {
     "ename": "AttributeError",
     "evalue": "'MyClass' object has no attribute 'age'",
     "output_type": "error",
     "traceback": [
      "\u001b[0;31m---------------------------------------------------------------------------\u001b[0m",
      "\u001b[0;31mAttributeError\u001b[0m                            Traceback (most recent call last)",
      "Cell \u001b[0;32mIn[2], line 6\u001b[0m\n\u001b[1;32m      4\u001b[0m         \u001b[38;5;28mself\u001b[39m\u001b[38;5;241m.\u001b[39m__age\u001b[38;5;241m=\u001b[39mage\n\u001b[1;32m      5\u001b[0m profile1\u001b[38;5;241m=\u001b[39mMyClass(\u001b[38;5;241m25\u001b[39m)\n\u001b[0;32m----> 6\u001b[0m \u001b[43mprofile1\u001b[49m\u001b[38;5;241;43m.\u001b[39;49m\u001b[43mage\u001b[49m\n",
      "\u001b[0;31mAttributeError\u001b[0m: 'MyClass' object has no attribute 'age'"
     ]
    }
   ],
   "source": [
    "# Private attributes are not accessed by anyone outside the class\n",
    "class MyClass:\n",
    "    def __init__(self,age):\n",
    "        self.__age=age\n",
    "profile1=MyClass(25)\n",
    "profile1.age"
   ]
  },
  {
   "cell_type": "code",
   "execution_count": 61,
   "id": "50d36c51-27b8-4081-bc89-02f7e339301f",
   "metadata": {},
   "outputs": [],
   "source": [
    "# What is the use of self in python.\n",
    "# Self is used to access and manupulate the instance variable and methods within the class."
   ]
  },
  {
   "cell_type": "code",
   "execution_count": 62,
   "id": "e7a8cc9a-91ae-46d1-a021-5794b530a597",
   "metadata": {},
   "outputs": [],
   "source": [
    "#eg,\n",
    "class Myclass:\n",
    "    def __init__(self):\n",
    "        self.age=18"
   ]
  },
  {
   "cell_type": "code",
   "execution_count": 63,
   "id": "c96b938d-2fa1-4b50-b0d3-98291b8e2ce9",
   "metadata": {},
   "outputs": [],
   "source": [
    "# so self is used to assign and access the instance variable"
   ]
  },
  {
   "cell_type": "code",
   "execution_count": 64,
   "id": "4ecb5bb9-c0f0-465c-a235-1c8bd6921892",
   "metadata": {},
   "outputs": [],
   "source": [
    "# What are module and pakages in python"
   ]
  },
  {
   "cell_type": "code",
   "execution_count": 65,
   "id": "e8335095-4bcd-4299-8a65-f1df920950d9",
   "metadata": {},
   "outputs": [],
   "source": [
    "#  Module is file consist of code.\n",
    "# Module assist us and we dont need to code again again for some standard methods."
   ]
  },
  {
   "cell_type": "code",
   "execution_count": 66,
   "id": "712ae386-64fe-43ae-a85b-f862fe9a0ebd",
   "metadata": {},
   "outputs": [
    {
     "name": "stdout",
     "output_type": "stream",
     "text": [
      "the squaredroot list is [1.0, 1.4142135623730951, 1.7320508075688772, 2.0, 2.23606797749979, 2.449489742783178, 2.6457513110645907]\n"
     ]
    }
   ],
   "source": [
    "#eg.\n",
    "l=[1,2,3,4,5,6,7]\n",
    "# for eg we need to find the square root  of the list l\n",
    "# we dont need to code all over to find squareroot we just import the module math\n",
    "import math\n",
    "l1=[]\n",
    "for i in l:\n",
    "    l1.append(math.sqrt(i))\n",
    "print(\"the squaredroot list is\",l1)\n",
    "    "
   ]
  },
  {
   "cell_type": "code",
   "execution_count": 67,
   "id": "295ef820-331f-4d40-9b8f-a29e353c8b0e",
   "metadata": {},
   "outputs": [],
   "source": [
    "# pakage is basically collection of modules"
   ]
  },
  {
   "cell_type": "code",
   "execution_count": 68,
   "id": "b4238e37-daba-49ca-96ee-272995f6cb63",
   "metadata": {},
   "outputs": [],
   "source": [
    "l=[1,2,3,4,6,6,7,8]"
   ]
  },
  {
   "cell_type": "code",
   "execution_count": 69,
   "id": "fffa8e9d-4aa1-41c2-8de2-85920e18ced5",
   "metadata": {},
   "outputs": [],
   "source": [
    "#for eg we need to find the mean ,median of the list\n",
    "# we just need to install the pakage and then import the pakage and find the mean and median without coding for it"
   ]
  },
  {
   "cell_type": "code",
   "execution_count": 70,
   "id": "b18d93e7-e403-4ade-b92a-dc767ea48f6c",
   "metadata": {},
   "outputs": [
    {
     "name": "stdout",
     "output_type": "stream",
     "text": [
      "Requirement already satisfied: numpy in /opt/conda/lib/python3.10/site-packages (1.23.5)\n",
      "Note: you may need to restart the kernel to use updated packages.\n"
     ]
    }
   ],
   "source": [
    "pip install numpy"
   ]
  },
  {
   "cell_type": "code",
   "execution_count": 71,
   "id": "4c527a72-b4c4-479f-bbe1-d5f14189dbd4",
   "metadata": {},
   "outputs": [],
   "source": [
    "import numpy as np"
   ]
  },
  {
   "cell_type": "code",
   "execution_count": 72,
   "id": "053e4548-9ff0-48fa-887f-7e40cebb41d8",
   "metadata": {},
   "outputs": [],
   "source": [
    "mean=np.mean(l)"
   ]
  },
  {
   "cell_type": "code",
   "execution_count": 73,
   "id": "ece1f418-be1c-41cc-86ce-8ca50d96553d",
   "metadata": {},
   "outputs": [],
   "source": [
    "median=np.median(l)"
   ]
  },
  {
   "cell_type": "code",
   "execution_count": 74,
   "id": "2faa038f-17be-4004-8d04-ee08361ca6d2",
   "metadata": {},
   "outputs": [
    {
     "name": "stdout",
     "output_type": "stream",
     "text": [
      "the mean and median is :   4.625 5.0\n"
     ]
    }
   ],
   "source": [
    "print(\"the mean and median is :  \",mean,median)"
   ]
  },
  {
   "cell_type": "code",
   "execution_count": 75,
   "id": "682d71a4-bc28-4629-b731-b629cf4423b4",
   "metadata": {},
   "outputs": [],
   "source": [
    "# What are list and tuples? What is the key differne between the two ?\n",
    "# list and tuples are datatypes which can store any type of data in it\n",
    "# the main difference between list and tuples is that list is mutable but tuple is immutable"
   ]
  },
  {
   "cell_type": "code",
   "execution_count": 76,
   "id": "dbbf625b-c474-4bab-97e7-cecf41b9a471",
   "metadata": {},
   "outputs": [],
   "source": [
    "#example of list\n",
    "list1=[1,2,3,4,5]"
   ]
  },
  {
   "cell_type": "code",
   "execution_count": 77,
   "id": "ad04382c-e65a-4c51-b726-ed6e238888ec",
   "metadata": {},
   "outputs": [
    {
     "data": {
      "text/plain": [
       "[1, 2, 3, 100, 5]"
      ]
     },
     "execution_count": 77,
     "metadata": {},
     "output_type": "execute_result"
    }
   ],
   "source": [
    "list1[3]=100\n",
    "list1   #  This shows that list is immutable"
   ]
  },
  {
   "cell_type": "code",
   "execution_count": 78,
   "id": "83ee43ee-2f79-459a-a490-79e5b91e6d4c",
   "metadata": {},
   "outputs": [
    {
     "data": {
      "text/plain": [
       "(1, 2, 3, 4, 5)"
      ]
     },
     "execution_count": 78,
     "metadata": {},
     "output_type": "execute_result"
    }
   ],
   "source": [
    "tup1=(1,2,3,4,5)\n",
    "tup1"
   ]
  },
  {
   "cell_type": "code",
   "execution_count": 79,
   "id": "b7b25333-0aad-4ee3-963c-9c43bee13d43",
   "metadata": {},
   "outputs": [
    {
     "ename": "TypeError",
     "evalue": "'tuple' object does not support item assignment",
     "output_type": "error",
     "traceback": [
      "\u001b[0;31m---------------------------------------------------------------------------\u001b[0m",
      "\u001b[0;31mTypeError\u001b[0m                                 Traceback (most recent call last)",
      "Cell \u001b[0;32mIn[79], line 1\u001b[0m\n\u001b[0;32m----> 1\u001b[0m \u001b[43mtup1\u001b[49m\u001b[43m[\u001b[49m\u001b[38;5;241;43m2\u001b[39;49m\u001b[43m]\u001b[49m\u001b[38;5;241m=\u001b[39m\u001b[38;5;241m4\u001b[39m     \u001b[38;5;66;03m# so we cant make changes in tuple after creating one\u001b[39;00m\n",
      "\u001b[0;31mTypeError\u001b[0m: 'tuple' object does not support item assignment"
     ]
    }
   ],
   "source": [
    "tup1[2]=4     # so we cant make changes in tuple after creating one"
   ]
  },
  {
   "cell_type": "code",
   "execution_count": null,
   "id": "9e463c1b-3c30-43e9-8223-845c4929298b",
   "metadata": {},
   "outputs": [],
   "source": [
    "# What is an intrepeted language and dynamically typed language ? Write 5 diffrenece between them\n",
    "# The interpreted language is a language in which the implimentation execute instructions directly without earlier compiling a program into machine language.\n",
    "# The Dynamically typed language donot require any predefined data type for any variable as it is interpreted at runtime by the machine itself\n",
    "# difference between interpreted language {IL} AND dynamically typed language(DTL) \n",
    "#(1) >> IT tyoe checking is completed at a compile time but DTL type checking is completed by runtime\n",
    "#(2) >> IT explicit type decalaration is usually required but in DLP not required\n",
    "#(3) >> in IT error are detected earlier but in DLP erroe are detected later during execution\n",
    "#(4) >> In IT variable assignment is static but in DLP variable assignment is dynamic\n",
    "#(5) >> In IT it produces more optimised code as compare to DLP\n"
   ]
  },
  {
   "cell_type": "code",
   "execution_count": 132,
   "id": "bec2b357-e719-4ae6-b294-48bf4cfac72a",
   "metadata": {},
   "outputs": [],
   "source": [
    "# What are dict and list comprehension ???\n",
    "# List comprehension offer a shorter syntax when you want to create a new list based on the values of an existing list\n",
    "#eg There are a list of fruits and you want a list of fruit out of it which cointian letter a in it we use list comprehension\n",
    "fruit=[\"apple\",\"banana\",\"mango\",\"grapes\",\"kiwi\"]"
   ]
  },
  {
   "cell_type": "code",
   "execution_count": 133,
   "id": "c7e98545-850c-4b27-8d9c-9044b48fecb1",
   "metadata": {},
   "outputs": [
    {
     "name": "stdout",
     "output_type": "stream",
     "text": [
      "['apple', 'banana', 'mango', 'grapes']\n"
     ]
    }
   ],
   "source": [
    "a_fruit=[]\n",
    "for x in fruit:\n",
    "    if \"a\" in x:\n",
    "        a_fruit.append(x)\n",
    "print(a_fruit)"
   ]
  },
  {
   "cell_type": "code",
   "execution_count": 134,
   "id": "ca17570c-228d-4b90-9750-4fbea095db7b",
   "metadata": {},
   "outputs": [],
   "source": [
    "# Dict comprehension offer a shorter syntax when you want to create a new dict based on the existing dict\n",
    "dict2={'a':1,'b':2,'c':3,'d':4,'e':5}"
   ]
  },
  {
   "cell_type": "code",
   "execution_count": 135,
   "id": "6ca580fe-46ae-44a0-a53a-d1cdf44528dc",
   "metadata": {},
   "outputs": [
    {
     "data": {
      "text/plain": [
       "{'a': 1, 'b': 2, 'c': 3, 'd': 4, 'e': 5}"
      ]
     },
     "execution_count": 135,
     "metadata": {},
     "output_type": "execute_result"
    }
   ],
   "source": [
    "dict2"
   ]
  },
  {
   "cell_type": "code",
   "execution_count": 136,
   "id": "b8df1607-a0a0-4f9e-86af-2e3e25c7e0b5",
   "metadata": {},
   "outputs": [],
   "source": [
    "# I want to create a new dictionary from dict1 whose value is square of dict1 value "
   ]
  },
  {
   "cell_type": "code",
   "execution_count": 137,
   "id": "d3e6987d-9667-4941-9ad4-a123f23090d1",
   "metadata": {},
   "outputs": [],
   "source": [
    "new_dict={key:value**2 for key,value in dict2.items()}"
   ]
  },
  {
   "cell_type": "code",
   "execution_count": 138,
   "id": "9abf01f7-c3fc-4225-8d2f-6512aecc6ab4",
   "metadata": {},
   "outputs": [
    {
     "data": {
      "text/plain": [
       "{'a': 1, 'b': 4, 'c': 9, 'd': 16, 'e': 25}"
      ]
     },
     "execution_count": 138,
     "metadata": {},
     "output_type": "execute_result"
    }
   ],
   "source": [
    "new_dict"
   ]
  },
  {
   "cell_type": "code",
   "execution_count": 139,
   "id": "318955f4-fece-4735-a7bf-7703d97c7db8",
   "metadata": {},
   "outputs": [],
   "source": [
    "# what is decorator in python ? Dxplain it with an example . Write down its use cases."
   ]
  },
  {
   "cell_type": "code",
   "execution_count": 140,
   "id": "5d48ff93-822b-4764-9f2a-424b93b451e1",
   "metadata": {},
   "outputs": [],
   "source": [
    "# Decorator are a powerful and elegant feature in python that  allows you to modify or extend the behaviour of functions or methods without changing the actual code"
   ]
  },
  {
   "cell_type": "code",
   "execution_count": 141,
   "id": "f6e7b2fd-0e24-43d4-a21c-cf4e8080e563",
   "metadata": {},
   "outputs": [],
   "source": [
    "#Eg We create the profile of a person in protected attribute\n",
    "class Student:\n",
    "    def __init__(self,name,price):\n",
    "        self.name=name\n",
    "        self.__price=price\n",
    "    @property\n",
    "    def access_price(self):\n",
    "        return self.__price\n",
    "        \n",
    "    \n",
    " "
   ]
  },
  {
   "cell_type": "code",
   "execution_count": 142,
   "id": "c93c0c50-8ed7-40cd-b759-49ff7dc9d091",
   "metadata": {},
   "outputs": [],
   "source": [
    "s=Student(\"ankit\",2000)"
   ]
  },
  {
   "cell_type": "code",
   "execution_count": 143,
   "id": "80d44814-dec4-4650-975a-aafe9498b375",
   "metadata": {},
   "outputs": [
    {
     "data": {
      "text/plain": [
       "2000"
      ]
     },
     "execution_count": 143,
     "metadata": {},
     "output_type": "execute_result"
    }
   ],
   "source": [
    "s.access_price"
   ]
  },
  {
   "cell_type": "code",
   "execution_count": null,
   "id": "d87ec017-90bc-4ec4-87a5-f1ab7186a635",
   "metadata": {},
   "outputs": [],
   "source": [
    "#How is memory managed at python.\n",
    "# You can classify memory management in python in one of two ways:\n",
    "# Dynamic allocation\n",
    "# Static allocation\n",
    "# Dynamic allocation occur as the program is runnung\n",
    "#This mean that as the program operates , it can dynamically determine to allocate memory while reusing and releasing it."
   ]
  },
  {
   "cell_type": "code",
   "execution_count": 144,
   "id": "66329cde-7304-44ae-9bba-3d58219fc9af",
   "metadata": {},
   "outputs": [],
   "source": [
    "#  What is lambda in python ? Why is it used ?\n",
    "# Lambda function are similar to user defined function but without a name.\n",
    "# They are commonly reffered to as anonymous function.\n",
    "# Lambda function are efficient whenever you want to create a function that will only cointain simple expression .\n",
    "#eg\n",
    "addition=lambda a,b:a+b"
   ]
  },
  {
   "cell_type": "code",
   "execution_count": 145,
   "id": "f2e812f5-a309-4dfb-8aa9-f71044cc4e9b",
   "metadata": {},
   "outputs": [
    {
     "data": {
      "text/plain": [
       "6"
      ]
     },
     "execution_count": 145,
     "metadata": {},
     "output_type": "execute_result"
    }
   ],
   "source": [
    "addition(2,4)"
   ]
  },
  {
   "cell_type": "code",
   "execution_count": 160,
   "id": "c45ab6d7-b75d-4764-a810-64029ffdb859",
   "metadata": {},
   "outputs": [],
   "source": [
    "# Explain split() and join() function in python ?\n",
    "# split function is used to split the string into list\n",
    "name=\"Ankit,Ashish,Anupam\""
   ]
  },
  {
   "cell_type": "code",
   "execution_count": 161,
   "id": "b9a648c4-e3e9-47e2-9586-b18e27af895c",
   "metadata": {},
   "outputs": [],
   "source": [
    "stat=name.split(sep=\",\")"
   ]
  },
  {
   "cell_type": "code",
   "execution_count": 162,
   "id": "0a626bfe-0a25-4574-8ae6-657170b6a567",
   "metadata": {},
   "outputs": [
    {
     "name": "stdout",
     "output_type": "stream",
     "text": [
      "['Ankit', 'Ashish', 'Anupam']\n"
     ]
    }
   ],
   "source": [
    "print(stat)"
   ]
  },
  {
   "cell_type": "code",
   "execution_count": 163,
   "id": "266ae22e-8cf7-46a1-9574-c9f5f80224b4",
   "metadata": {},
   "outputs": [],
   "source": [
    "word=[\"Hello\",\"my\",\"name\",\"is\",\"Ankit\"]\n",
    "separator=\" \"\n",
    "sentence=separator.join(word)"
   ]
  },
  {
   "cell_type": "code",
   "execution_count": 164,
   "id": "b5e083d8-9b7d-49a1-aa3a-669d0be29c15",
   "metadata": {},
   "outputs": [
    {
     "data": {
      "text/plain": [
       "'Hello my name is Ankit'"
      ]
     },
     "execution_count": 164,
     "metadata": {},
     "output_type": "execute_result"
    }
   ],
   "source": [
    "sentence"
   ]
  },
  {
   "cell_type": "code",
   "execution_count": 165,
   "id": "a60a5a79-9b9a-417f-b47f-e70c5610c5bd",
   "metadata": {},
   "outputs": [],
   "source": [
    "# What are iterators,iterable and generators in python ?\n",
    "# An iterator is an object that allows you to iterate over a sequence(such as a list,tuple,or string) or another iterbale object, one element at a time.\n",
    "list1=[1,2,3,4]"
   ]
  },
  {
   "cell_type": "code",
   "execution_count": 87,
   "id": "e8e21b34-2dca-4412-a60c-935d7cc5fd51",
   "metadata": {},
   "outputs": [
    {
     "data": {
      "text/plain": [
       "<list_iterator at 0x7f86b340ed10>"
      ]
     },
     "execution_count": 87,
     "metadata": {},
     "output_type": "execute_result"
    }
   ],
   "source": [
    "list1.__iter__()   # returns the iterator"
   ]
  },
  {
   "cell_type": "code",
   "execution_count": 170,
   "id": "a5cb5fb5-a5e4-427f-a977-fd925f3e4134",
   "metadata": {},
   "outputs": [],
   "source": [
    "# Generator are a type of iterable, like lists or tuples, but they dont store all the values in memory at once.\n",
    "# Instead , they generate values on-the-fly as you iterate over them.\n",
    "# This make them very efficient for large data set.\n",
    "def infinite_sequence():\n",
    "    num=0\n",
    "    while True:\n",
    "        yield num\n",
    "        num=+1\n",
    "gen=infinite_sequence()"
   ]
  },
  {
   "cell_type": "code",
   "execution_count": 173,
   "id": "e49099e8-0a5c-4232-a2f9-82759851593d",
   "metadata": {},
   "outputs": [
    {
     "name": "stdout",
     "output_type": "stream",
     "text": [
      "0\n"
     ]
    }
   ],
   "source": [
    "print(next(gen))"
   ]
  },
  {
   "cell_type": "code",
   "execution_count": 174,
   "id": "400b3982-d9a8-4fcc-99d4-408f269cb18e",
   "metadata": {},
   "outputs": [
    {
     "name": "stdout",
     "output_type": "stream",
     "text": [
      "1\n"
     ]
    }
   ],
   "source": [
    "print(next(gen))"
   ]
  },
  {
   "cell_type": "code",
   "execution_count": 190,
   "id": "5af76d5e-5e0c-4dc0-95b3-0696b8b95ef2",
   "metadata": {},
   "outputs": [
    {
     "name": "stdout",
     "output_type": "stream",
     "text": [
      "1\n",
      "3\n",
      "5\n",
      "7\n",
      "9\n"
     ]
    }
   ],
   "source": [
    "# What is the difference between xrange and range in python ?\n",
    "# xrange() is a built in function that generates an object producing numbers within a specified range.\n",
    "for i in range(1,10,2):\n",
    "    print(i)"
   ]
  },
  {
   "cell_type": "code",
   "execution_count": 191,
   "id": "471c4e5f-0256-4326-bcc6-7b39ba15c7a7",
   "metadata": {},
   "outputs": [
    {
     "name": "stdout",
     "output_type": "stream",
     "text": [
      "0\n",
      "1\n",
      "2\n",
      "3\n",
      "4\n"
     ]
    }
   ],
   "source": [
    "# Range is built in function that generates an object of producing number excliudind the element\n",
    "for i in range(5):\n",
    "    print(i)"
   ]
  },
  {
   "cell_type": "code",
   "execution_count": null,
   "id": "32f910ec-9da8-48a9-beb5-46049f5c07b5",
   "metadata": {},
   "outputs": [],
   "source": [
    "# Pillars of oops."
   ]
  },
  {
   "cell_type": "code",
   "execution_count": 192,
   "id": "1eb81eb8-40af-4c9a-a4ff-634217939e2e",
   "metadata": {},
   "outputs": [],
   "source": [
    "# Pillars of oops :\n",
    "# Encapsulation\n",
    "# Abstraction\n",
    "# Inheritance\n",
    "# Polymorphism"
   ]
  },
  {
   "cell_type": "code",
   "execution_count": 195,
   "id": "8eca4142-0142-4335-b396-f956a00e8447",
   "metadata": {},
   "outputs": [],
   "source": [
    "# How will you check if a class is a child of another class ?\n",
    "class Parent:\n",
    "    def Car(self):\n",
    "        print(\"Car is parent\")\n",
    "class Child(Parent):\n",
    "    def buses(self):\n",
    "        print(\"buses is child\")"
   ]
  },
  {
   "cell_type": "code",
   "execution_count": 196,
   "id": "368fbab5-a5c9-4125-84de-c67620230c10",
   "metadata": {},
   "outputs": [],
   "source": [
    "cc=Parent()"
   ]
  },
  {
   "cell_type": "code",
   "execution_count": 198,
   "id": "d9fd291e-89bf-478f-9b99-eabd18b45194",
   "metadata": {},
   "outputs": [
    {
     "name": "stdout",
     "output_type": "stream",
     "text": [
      "Car is parent\n"
     ]
    }
   ],
   "source": [
    "cc.Car()   # Here only Car function is defined whic gives us the indication that cc is a Parent class."
   ]
  },
  {
   "cell_type": "code",
   "execution_count": 201,
   "id": "180bb4b8-6d36-4f27-9f9f-5ea7f7059a58",
   "metadata": {},
   "outputs": [],
   "source": [
    "cc1=Child()    # when we see cc1 and hit tab we see both function Car and buses which help us to understand that the cc1 is child class"
   ]
  },
  {
   "cell_type": "code",
   "execution_count": 205,
   "id": "efd20cde-e31f-4d56-930f-60fd01fb3f10",
   "metadata": {},
   "outputs": [
    {
     "name": "stdout",
     "output_type": "stream",
     "text": [
      "buses is child\n"
     ]
    }
   ],
   "source": [
    "cc1.buses()"
   ]
  },
  {
   "cell_type": "code",
   "execution_count": 206,
   "id": "874de10b-33f9-4170-8d31-81e7c6aea91e",
   "metadata": {},
   "outputs": [
    {
     "name": "stdout",
     "output_type": "stream",
     "text": [
      "Car is parent\n"
     ]
    }
   ],
   "source": [
    "cc1.Car()"
   ]
  },
  {
   "cell_type": "code",
   "execution_count": 207,
   "id": "3ef0ed5d-d93b-4ee7-88ea-1c5861ac0e2e",
   "metadata": {},
   "outputs": [],
   "source": [
    "# How does inheritance works in python ? Explian all types of inheritance with an example"
   ]
  },
  {
   "cell_type": "code",
   "execution_count": 208,
   "id": "a480a99b-5207-4307-839e-f83a5dbefd7a",
   "metadata": {},
   "outputs": [],
   "source": [
    "# Inheritance is a mechanism that allows one class to inherit the properties and behaviour of other class.\n",
    "# The class that inherits is called child class and those class which gives its properties is called parent class.\n",
    "class Dog:\n",
    "    def sound(self):\n",
    "        print(\"Barks\")\n",
    "class Rotwhiller(Dog):\n",
    "    def behaviour(self):\n",
    "        print(\"aggresive\")"
   ]
  },
  {
   "cell_type": "code",
   "execution_count": 209,
   "id": "efd767f7-5d01-4100-9387-7b51639a9fe2",
   "metadata": {},
   "outputs": [],
   "source": [
    "dog=Dog()"
   ]
  },
  {
   "cell_type": "code",
   "execution_count": 210,
   "id": "6e07898b-335d-4c6b-b573-b7e7f07da47c",
   "metadata": {},
   "outputs": [],
   "source": [
    "doggy=Rotwhiller()"
   ]
  },
  {
   "cell_type": "code",
   "execution_count": 212,
   "id": "05c28dbd-cfe7-4d24-8c02-69936e633bcf",
   "metadata": {},
   "outputs": [
    {
     "name": "stdout",
     "output_type": "stream",
     "text": [
      "Barks\n"
     ]
    }
   ],
   "source": [
    "dog.sound()  # This is the parent class "
   ]
  },
  {
   "cell_type": "code",
   "execution_count": 215,
   "id": "c3229d57-31ca-446a-9564-767c6d29a27b",
   "metadata": {},
   "outputs": [
    {
     "name": "stdout",
     "output_type": "stream",
     "text": [
      "aggresive\n",
      "Barks\n"
     ]
    }
   ],
   "source": [
    "doggy.behaviour()   # Here you see doggy  is the child class that inheerits from the parent class dog and have both function ie behaviour,sound\n",
    "doggy.sound()"
   ]
  },
  {
   "cell_type": "code",
   "execution_count": 216,
   "id": "aab0378d-ae06-4843-8f99-30f1f6dbcdd0",
   "metadata": {},
   "outputs": [],
   "source": [
    "# Types of Inheritance\n",
    "# Single Inheritance\n",
    "# Multiple Inheritance\n",
    "# multi Level Inheritance\n",
    "# Hierachical inheritance\n",
    "# Hybrid Inheritance"
   ]
  },
  {
   "cell_type": "code",
   "execution_count": 223,
   "id": "3f2808c0-6806-4a67-aac7-72662eb54996",
   "metadata": {},
   "outputs": [
    {
     "name": "stdout",
     "output_type": "stream",
     "text": [
      "always wins\n",
      "sometimes wins\n"
     ]
    },
    {
     "data": {
      "text/plain": [
       "(None, None)"
      ]
     },
     "execution_count": 223,
     "metadata": {},
     "output_type": "execute_result"
    }
   ],
   "source": [
    "#single Inheritance\n",
    "# A child class inherits from a single parent class\n",
    "class Parent:\n",
    "    def info(self):\n",
    "        print(\"always wins\")\n",
    "class Child(Parent):\n",
    "    def infos(self):\n",
    "        print(\"sometimes wins\")  # here child class only have one parent\n",
    "i=Child()\n",
    "i.info(),i.infos()    "
   ]
  },
  {
   "cell_type": "code",
   "execution_count": 224,
   "id": "a894d297-5091-449c-8d84-245862da2a3e",
   "metadata": {},
   "outputs": [],
   "source": [
    "# Muntiple Inheritance\n",
    "# A child class inherits from more than one parent\n",
    "class Parent1:\n",
    "    def Cheesy(self):\n",
    "        print(\"He is cheesy in behaviour\")\n",
    "class Parent2:\n",
    "    def shy(self):\n",
    "        print(\" He is shy\")\n",
    "class Child1(Parent1,Parent2):\n",
    "    def bollant(self):\n",
    "        print(\"He is bollant\")"
   ]
  },
  {
   "cell_type": "code",
   "execution_count": 225,
   "id": "69240890-c053-4652-999e-5a4595030796",
   "metadata": {},
   "outputs": [],
   "source": [
    "d1=Child1()"
   ]
  },
  {
   "cell_type": "code",
   "execution_count": 226,
   "id": "e75e775b-76ae-409a-9731-2ea8dfcfc7a0",
   "metadata": {},
   "outputs": [],
   "source": [
    "# d1 inherits from two parent so It cointain three function,one of its own and other two from the parents"
   ]
  },
  {
   "cell_type": "code",
   "execution_count": 229,
   "id": "c0e7dcea-92ba-4c54-9e8f-911ee147fe32",
   "metadata": {},
   "outputs": [
    {
     "name": "stdout",
     "output_type": "stream",
     "text": [
      "He is bollant\n",
      "He is cheesy in behaviour\n",
      " He is shy\n"
     ]
    },
    {
     "data": {
      "text/plain": [
       "(None, None, None)"
      ]
     },
     "execution_count": 229,
     "metadata": {},
     "output_type": "execute_result"
    }
   ],
   "source": [
    "d1.bollant(),d1.Cheesy(),d1.shy()"
   ]
  },
  {
   "cell_type": "code",
   "execution_count": 232,
   "id": "9dda0422-c36a-4325-a077-8cf11b1f838d",
   "metadata": {},
   "outputs": [],
   "source": [
    "# Multi level Inheritance : A child class inherits from parent class that inherits from other parent class\n",
    "class GrandParent:\n",
    "    def grumpy(self):\n",
    "        print(\"Grumpy in Nature\")\n",
    "class Parent2(GrandParent):\n",
    "    def mature(self):\n",
    "        print(\"they are mature\")\n",
    "class Child2(Parent2):\n",
    "    def foolish(self):\n",
    "        print(\"they are foolish\")\n",
    "        "
   ]
  },
  {
   "cell_type": "code",
   "execution_count": 234,
   "id": "ef269176-41ba-477c-aea6-e0d8d045ba1c",
   "metadata": {},
   "outputs": [],
   "source": [
    "n= Child2()"
   ]
  },
  {
   "cell_type": "code",
   "execution_count": 235,
   "id": "1ede9c46-921a-4acc-b806-2286eff3249a",
   "metadata": {},
   "outputs": [
    {
     "name": "stdout",
     "output_type": "stream",
     "text": [
      "they are foolish\n",
      "they are foolish\n",
      "they are mature\n"
     ]
    },
    {
     "data": {
      "text/plain": [
       "(None, None, None)"
      ]
     },
     "execution_count": 235,
     "metadata": {},
     "output_type": "execute_result"
    }
   ],
   "source": [
    "n.foolish(),n.foolish(),n.mature()  # child 2 inherits all three function, parent2 inherits two func so they inherits level vice"
   ]
  },
  {
   "cell_type": "code",
   "execution_count": 236,
   "id": "3363bb7d-37a6-40b0-8f7e-ff8a5330268e",
   "metadata": {},
   "outputs": [],
   "source": [
    "# Hierichal Inheritance : Muntiple child classes inherits from a single parent class\n",
    "class Dad:\n",
    "    def caring(self):\n",
    "        print(\"care too much\")\n",
    "class Son1(Dad):\n",
    "    def careless(self):\n",
    "        print(\"careless in nature\")\n",
    "class Son2(Dad):\n",
    "    def mature(self):\n",
    "        print(\"mature in nature\")"
   ]
  },
  {
   "cell_type": "code",
   "execution_count": 237,
   "id": "a63b1387-868a-4bd1-bb50-2c16348f42fe",
   "metadata": {},
   "outputs": [],
   "source": [
    "# Here two child class Son1 and Son2  both inherits from the single parent ie \"Dad\""
   ]
  },
  {
   "cell_type": "code",
   "execution_count": 238,
   "id": "379151da-7d49-43ed-898a-868ff3d607a7",
   "metadata": {},
   "outputs": [],
   "source": [
    "# Hybrid Inheritance : A combination of muntiple and multilevel inheritance\n",
    "class Dad1:\n",
    "    def angry(self):\n",
    "        print(\"angry\")\n",
    "class Dad2:\n",
    "    def sweet(self):\n",
    "        print(\"sweet\")\n",
    "class Brother1(Dad1):  \n",
    "    def cool(self):\n",
    "        print(\"cool\")\n",
    "class Me(Dad2):\n",
    "    def selfish(self):\n",
    "        print(\"selfish\")\n",
    "class Child(Me):\n",
    "    def clueless(self):\n",
    "        print(\"clueless\")"
   ]
  },
  {
   "cell_type": "code",
   "execution_count": 239,
   "id": "98e4ffee-35fb-450b-ba0f-64f46623e0d8",
   "metadata": {},
   "outputs": [],
   "source": [
    "# What is encapsulation. Explain it with an example"
   ]
  },
  {
   "cell_type": "code",
   "execution_count": 241,
   "id": "2ddcf98b-9689-49c5-8415-429924b347bf",
   "metadata": {},
   "outputs": [],
   "source": [
    "# Encapsulation is a process of hiding the data\n",
    "# We decide how much data we need to share.\n",
    "#eg\n",
    "class Profile:\n",
    "    def __init__(self,name,age,weight):\n",
    "        self.name=name\n",
    "        self.age=age\n",
    "        self.__weight=weight\n",
    "# Here we use encapsulation where we give access to name and age but not weight      "
   ]
  },
  {
   "cell_type": "code",
   "execution_count": 242,
   "id": "6b1ada5c-1827-4057-9328-87bfd35ee569",
   "metadata": {},
   "outputs": [],
   "source": [
    "pro=Profile(\"ankit\",28,78)"
   ]
  },
  {
   "cell_type": "code",
   "execution_count": 244,
   "id": "f162533d-7eea-468e-8b49-0b7f3e58302a",
   "metadata": {},
   "outputs": [
    {
     "data": {
      "text/plain": [
       "'ankit'"
      ]
     },
     "execution_count": 244,
     "metadata": {},
     "output_type": "execute_result"
    }
   ],
   "source": [
    "pro.name"
   ]
  },
  {
   "cell_type": "code",
   "execution_count": 247,
   "id": "abc058aa-4a66-4b14-8b60-9cd4646016f7",
   "metadata": {},
   "outputs": [
    {
     "ename": "AttributeError",
     "evalue": "'Profile' object has no attribute 'weight'",
     "output_type": "error",
     "traceback": [
      "\u001b[0;31m---------------------------------------------------------------------------\u001b[0m",
      "\u001b[0;31mAttributeError\u001b[0m                            Traceback (most recent call last)",
      "Cell \u001b[0;32mIn[247], line 1\u001b[0m\n\u001b[0;32m----> 1\u001b[0m \u001b[43mpro\u001b[49m\u001b[38;5;241;43m.\u001b[39;49m\u001b[43mweight\u001b[49m \u001b[38;5;66;03m# Here we cant access weight\u001b[39;00m\n",
      "\u001b[0;31mAttributeError\u001b[0m: 'Profile' object has no attribute 'weight'"
     ]
    }
   ],
   "source": [
    "pro.weight # Here we cant access weight"
   ]
  },
  {
   "cell_type": "code",
   "execution_count": 248,
   "id": "dbfa62df-4970-40fb-b5e5-938d3711b15a",
   "metadata": {},
   "outputs": [],
   "source": [
    "# What is polymorphism ? Explain with an example"
   ]
  },
  {
   "cell_type": "code",
   "execution_count": 249,
   "id": "5c397840-123f-4590-b7af-cf925dd0d772",
   "metadata": {},
   "outputs": [],
   "source": [
    "# Polymorphism is the ability of an object to take on muntiple forms. This can be done by two method \n",
    "# Method Overriding\n",
    "# Method Overloading"
   ]
  },
  {
   "cell_type": "code",
   "execution_count": 266,
   "id": "5687a8ed-3908-4d49-bce7-19456d6b7868",
   "metadata": {},
   "outputs": [],
   "source": [
    "class Shape:\n",
    "    def __init__(self,name):\n",
    "        self.name=name\n",
    "        \n",
    "    def area(self):\n",
    "        pass\n",
    "\n",
    "class Circle(Shape):\n",
    "    def __init__(self,name,radius):\n",
    "        self.name=name\n",
    "        self.radius=radius\n",
    "        \n",
    "    def area(self):\n",
    "        return 3.14*self.radius**2\n",
    "# This method is Method Overridding   "
   ]
  },
  {
   "cell_type": "code",
   "execution_count": 264,
   "id": "d34819ff-5858-436b-9947-fa69aae20364",
   "metadata": {},
   "outputs": [],
   "source": [
    "shape=Circle(\"circle\",5)"
   ]
  },
  {
   "cell_type": "code",
   "execution_count": 265,
   "id": "446cd807-d319-4a92-8b42-6228703f8537",
   "metadata": {},
   "outputs": [
    {
     "data": {
      "text/plain": [
       "78.5"
      ]
     },
     "execution_count": 265,
     "metadata": {},
     "output_type": "execute_result"
    }
   ],
   "source": [
    "shape.area()"
   ]
  }
 ],
 "metadata": {
  "kernelspec": {
   "display_name": "Python 3 (ipykernel)",
   "language": "python",
   "name": "python3"
  },
  "language_info": {
   "codemirror_mode": {
    "name": "ipython",
    "version": 3
   },
   "file_extension": ".py",
   "mimetype": "text/x-python",
   "name": "python",
   "nbconvert_exporter": "python",
   "pygments_lexer": "ipython3",
   "version": "3.10.8"
  }
 },
 "nbformat": 4,
 "nbformat_minor": 5
}
