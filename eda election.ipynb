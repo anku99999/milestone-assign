{
 "cells": [
  {
   "cell_type": "code",
   "execution_count": 1,
   "id": "71d10ffe-c257-4c7c-9d52-8be14564ef8f",
   "metadata": {},
   "outputs": [],
   "source": [
    "import pandas as pd\n",
    "import numpy as np\n",
    "import seaborn as sns\n",
    "import matplotlib.pyplot as plt\n",
    "import warnings\n",
    "warnings.filterwarnings(\"ignore\")"
   ]
  },
  {
   "cell_type": "code",
   "execution_count": 2,
   "id": "bdc47d28-3daf-4e3c-900e-037cc5ba7042",
   "metadata": {},
   "outputs": [],
   "source": [
    "df1 = pd.read_csv(\"election2024.csv\")"
   ]
  },
  {
   "cell_type": "code",
   "execution_count": 3,
   "id": "c589bd78-201a-47a5-99bc-d1a0b39444cd",
   "metadata": {},
   "outputs": [
    {
     "data": {
      "text/html": [
       "<div>\n",
       "<style scoped>\n",
       "    .dataframe tbody tr th:only-of-type {\n",
       "        vertical-align: middle;\n",
       "    }\n",
       "\n",
       "    .dataframe tbody tr th {\n",
       "        vertical-align: top;\n",
       "    }\n",
       "\n",
       "    .dataframe thead th {\n",
       "        text-align: right;\n",
       "    }\n",
       "</style>\n",
       "<table border=\"1\" class=\"dataframe\">\n",
       "  <thead>\n",
       "    <tr style=\"text-align: right;\">\n",
       "      <th></th>\n",
       "      <th>id</th>\n",
       "      <th>sex</th>\n",
       "      <th>age</th>\n",
       "      <th>federal_district</th>\n",
       "      <th>type_of_city</th>\n",
       "      <th>knows_election_date</th>\n",
       "      <th>will_vote</th>\n",
       "      <th>candidate</th>\n",
       "      <th>television_usage</th>\n",
       "      <th>internet_usage</th>\n",
       "      <th>education</th>\n",
       "      <th>income</th>\n",
       "      <th>employment</th>\n",
       "      <th>job_type</th>\n",
       "      <th>company_type</th>\n",
       "      <th>weight1</th>\n",
       "    </tr>\n",
       "  </thead>\n",
       "  <tbody>\n",
       "    <tr>\n",
       "      <th>0</th>\n",
       "      <td>07169ed8148ce047</td>\n",
       "      <td>male</td>\n",
       "      <td>18.0</td>\n",
       "      <td>north caucasian</td>\n",
       "      <td>village</td>\n",
       "      <td>named correct date</td>\n",
       "      <td>not sure</td>\n",
       "      <td>Putin</td>\n",
       "      <td>several times a week</td>\n",
       "      <td>over 4 hours a day</td>\n",
       "      <td>incomplete school education</td>\n",
       "      <td>very high</td>\n",
       "      <td>entrepreneur</td>\n",
       "      <td>NaN</td>\n",
       "      <td>farming</td>\n",
       "      <td>1.445172</td>\n",
       "    </tr>\n",
       "    <tr>\n",
       "      <th>1</th>\n",
       "      <td>0716a4f3354cecdd</td>\n",
       "      <td>male</td>\n",
       "      <td>23.0</td>\n",
       "      <td>north caucasian</td>\n",
       "      <td>village</td>\n",
       "      <td>named correct date</td>\n",
       "      <td>not sure</td>\n",
       "      <td>Putin</td>\n",
       "      <td>once half a year</td>\n",
       "      <td>over 4 hours a day</td>\n",
       "      <td>college</td>\n",
       "      <td>very high</td>\n",
       "      <td>work for hire</td>\n",
       "      <td>commercial organization</td>\n",
       "      <td>trade</td>\n",
       "      <td>1.445172</td>\n",
       "    </tr>\n",
       "    <tr>\n",
       "      <th>2</th>\n",
       "      <td>0716889b304ce79c</td>\n",
       "      <td>male</td>\n",
       "      <td>20.0</td>\n",
       "      <td>volga</td>\n",
       "      <td>city with population of less than 50k</td>\n",
       "      <td>named correct date</td>\n",
       "      <td>definitely yes</td>\n",
       "      <td>Putin</td>\n",
       "      <td>several times a week</td>\n",
       "      <td>over 4 hours a day</td>\n",
       "      <td>college</td>\n",
       "      <td>very high</td>\n",
       "      <td>work for hire</td>\n",
       "      <td>law enforcement agency</td>\n",
       "      <td>law enforcement agency</td>\n",
       "      <td>1.301691</td>\n",
       "    </tr>\n",
       "    <tr>\n",
       "      <th>3</th>\n",
       "      <td>07168e28b5cce563</td>\n",
       "      <td>male</td>\n",
       "      <td>22.0</td>\n",
       "      <td>northwestern</td>\n",
       "      <td>city with population of 1 million and higher</td>\n",
       "      <td>not sure or no answer</td>\n",
       "      <td>not sure</td>\n",
       "      <td>Davankov</td>\n",
       "      <td>several times a week</td>\n",
       "      <td>over 4 hours a day</td>\n",
       "      <td>college</td>\n",
       "      <td>very high</td>\n",
       "      <td>unemployed</td>\n",
       "      <td>NaN</td>\n",
       "      <td>NaN</td>\n",
       "      <td>1.538628</td>\n",
       "    </tr>\n",
       "    <tr>\n",
       "      <th>4</th>\n",
       "      <td>0716a563914ce549</td>\n",
       "      <td>male</td>\n",
       "      <td>21.0</td>\n",
       "      <td>southern</td>\n",
       "      <td>city with population of 1 million and higher</td>\n",
       "      <td>named correct date</td>\n",
       "      <td>definitely yes</td>\n",
       "      <td>Putin</td>\n",
       "      <td>does not watch</td>\n",
       "      <td>over 4 hours a day</td>\n",
       "      <td>bachelor degree</td>\n",
       "      <td>very high</td>\n",
       "      <td>employed student</td>\n",
       "      <td>commercial organization</td>\n",
       "      <td>tech, programming, communications</td>\n",
       "      <td>1.967015</td>\n",
       "    </tr>\n",
       "    <tr>\n",
       "      <th>...</th>\n",
       "      <td>...</td>\n",
       "      <td>...</td>\n",
       "      <td>...</td>\n",
       "      <td>...</td>\n",
       "      <td>...</td>\n",
       "      <td>...</td>\n",
       "      <td>...</td>\n",
       "      <td>...</td>\n",
       "      <td>...</td>\n",
       "      <td>...</td>\n",
       "      <td>...</td>\n",
       "      <td>...</td>\n",
       "      <td>...</td>\n",
       "      <td>...</td>\n",
       "      <td>...</td>\n",
       "      <td>...</td>\n",
       "    </tr>\n",
       "    <tr>\n",
       "      <th>1595</th>\n",
       "      <td>0716b23c2c0cee3a</td>\n",
       "      <td>male</td>\n",
       "      <td>61.0</td>\n",
       "      <td>central</td>\n",
       "      <td>settlement</td>\n",
       "      <td>named correct date</td>\n",
       "      <td>definitely no</td>\n",
       "      <td>will not take part</td>\n",
       "      <td>over 4 hours a day</td>\n",
       "      <td>less than 4 hours a day</td>\n",
       "      <td>bachelor degree</td>\n",
       "      <td>hard to say</td>\n",
       "      <td>unemployed pensioner</td>\n",
       "      <td>NaN</td>\n",
       "      <td>NaN</td>\n",
       "      <td>1.270761</td>\n",
       "    </tr>\n",
       "    <tr>\n",
       "      <th>1596</th>\n",
       "      <td>07168254d14ceb55</td>\n",
       "      <td>female</td>\n",
       "      <td>80.0</td>\n",
       "      <td>volga</td>\n",
       "      <td>village</td>\n",
       "      <td>named correct date</td>\n",
       "      <td>likely yes</td>\n",
       "      <td>struggle to answer</td>\n",
       "      <td>several times a week</td>\n",
       "      <td>does not use internet</td>\n",
       "      <td>college</td>\n",
       "      <td>hard to say</td>\n",
       "      <td>unemployed pensioner</td>\n",
       "      <td>NaN</td>\n",
       "      <td>NaN</td>\n",
       "      <td>0.921724</td>\n",
       "    </tr>\n",
       "    <tr>\n",
       "      <th>1597</th>\n",
       "      <td>071690f34d4ce164</td>\n",
       "      <td>female</td>\n",
       "      <td>76.0</td>\n",
       "      <td>northwestern</td>\n",
       "      <td>city with population of 50-100k</td>\n",
       "      <td>named correct date</td>\n",
       "      <td>definitely yes</td>\n",
       "      <td>Putin</td>\n",
       "      <td>does not watch</td>\n",
       "      <td>over 4 hours a day</td>\n",
       "      <td>bachelor degree</td>\n",
       "      <td>hard to say</td>\n",
       "      <td>unemployed pensioner</td>\n",
       "      <td>NaN</td>\n",
       "      <td>NaN</td>\n",
       "      <td>1.396691</td>\n",
       "    </tr>\n",
       "    <tr>\n",
       "      <th>1598</th>\n",
       "      <td>0716bfa9c48ce79a</td>\n",
       "      <td>female</td>\n",
       "      <td>74.0</td>\n",
       "      <td>central</td>\n",
       "      <td>city with population of less than 50k</td>\n",
       "      <td>not sure or no answer</td>\n",
       "      <td>definitely yes</td>\n",
       "      <td>Putin</td>\n",
       "      <td>over 4 hours a day</td>\n",
       "      <td>over 4 hours a day</td>\n",
       "      <td>academic degree</td>\n",
       "      <td>hard to say</td>\n",
       "      <td>employed pensioner</td>\n",
       "      <td>commercial organization</td>\n",
       "      <td>industry, manufacturing</td>\n",
       "      <td>0.995849</td>\n",
       "    </tr>\n",
       "    <tr>\n",
       "      <th>1599</th>\n",
       "      <td>07168088318cef88</td>\n",
       "      <td>female</td>\n",
       "      <td>76.0</td>\n",
       "      <td>ural</td>\n",
       "      <td>village</td>\n",
       "      <td>named correct date</td>\n",
       "      <td>definitely yes</td>\n",
       "      <td>Putin</td>\n",
       "      <td>over 4 hours a day</td>\n",
       "      <td>over 4 hours a day</td>\n",
       "      <td>school</td>\n",
       "      <td>hard to say</td>\n",
       "      <td>unemployed pensioner</td>\n",
       "      <td>NaN</td>\n",
       "      <td>NaN</td>\n",
       "      <td>0.860836</td>\n",
       "    </tr>\n",
       "  </tbody>\n",
       "</table>\n",
       "<p>1600 rows × 16 columns</p>\n",
       "</div>"
      ],
      "text/plain": [
       "                    id     sex   age federal_district  \\\n",
       "0     07169ed8148ce047    male  18.0  north caucasian   \n",
       "1     0716a4f3354cecdd    male  23.0  north caucasian   \n",
       "2     0716889b304ce79c    male  20.0            volga   \n",
       "3     07168e28b5cce563    male  22.0     northwestern   \n",
       "4     0716a563914ce549    male  21.0         southern   \n",
       "...                ...     ...   ...              ...   \n",
       "1595  0716b23c2c0cee3a    male  61.0          central   \n",
       "1596  07168254d14ceb55  female  80.0            volga   \n",
       "1597  071690f34d4ce164  female  76.0     northwestern   \n",
       "1598  0716bfa9c48ce79a  female  74.0          central   \n",
       "1599  07168088318cef88  female  76.0             ural   \n",
       "\n",
       "                                      type_of_city    knows_election_date  \\\n",
       "0                                          village     named correct date   \n",
       "1                                          village     named correct date   \n",
       "2            city with population of less than 50k     named correct date   \n",
       "3     city with population of 1 million and higher  not sure or no answer   \n",
       "4     city with population of 1 million and higher     named correct date   \n",
       "...                                            ...                    ...   \n",
       "1595                                    settlement     named correct date   \n",
       "1596                                       village     named correct date   \n",
       "1597               city with population of 50-100k     named correct date   \n",
       "1598         city with population of less than 50k  not sure or no answer   \n",
       "1599                                       village     named correct date   \n",
       "\n",
       "           will_vote           candidate      television_usage  \\\n",
       "0           not sure               Putin  several times a week   \n",
       "1           not sure               Putin      once half a year   \n",
       "2     definitely yes               Putin  several times a week   \n",
       "3           not sure            Davankov  several times a week   \n",
       "4     definitely yes               Putin        does not watch   \n",
       "...              ...                 ...                   ...   \n",
       "1595   definitely no  will not take part    over 4 hours a day   \n",
       "1596      likely yes  struggle to answer  several times a week   \n",
       "1597  definitely yes               Putin        does not watch   \n",
       "1598  definitely yes               Putin    over 4 hours a day   \n",
       "1599  definitely yes               Putin    over 4 hours a day   \n",
       "\n",
       "               internet_usage                    education       income  \\\n",
       "0          over 4 hours a day  incomplete school education    very high   \n",
       "1          over 4 hours a day                      college    very high   \n",
       "2          over 4 hours a day                      college    very high   \n",
       "3          over 4 hours a day                      college    very high   \n",
       "4          over 4 hours a day              bachelor degree    very high   \n",
       "...                       ...                          ...          ...   \n",
       "1595  less than 4 hours a day              bachelor degree  hard to say   \n",
       "1596    does not use internet                      college  hard to say   \n",
       "1597       over 4 hours a day              bachelor degree  hard to say   \n",
       "1598       over 4 hours a day              academic degree  hard to say   \n",
       "1599       over 4 hours a day                       school  hard to say   \n",
       "\n",
       "                employment                 job_type  \\\n",
       "0             entrepreneur                      NaN   \n",
       "1            work for hire  commercial organization   \n",
       "2            work for hire   law enforcement agency   \n",
       "3               unemployed                      NaN   \n",
       "4         employed student  commercial organization   \n",
       "...                    ...                      ...   \n",
       "1595  unemployed pensioner                      NaN   \n",
       "1596  unemployed pensioner                      NaN   \n",
       "1597  unemployed pensioner                      NaN   \n",
       "1598    employed pensioner  commercial organization   \n",
       "1599  unemployed pensioner                      NaN   \n",
       "\n",
       "                           company_type   weight1  \n",
       "0                               farming  1.445172  \n",
       "1                                 trade  1.445172  \n",
       "2                law enforcement agency  1.301691  \n",
       "3                                   NaN  1.538628  \n",
       "4     tech, programming, communications  1.967015  \n",
       "...                                 ...       ...  \n",
       "1595                                NaN  1.270761  \n",
       "1596                                NaN  0.921724  \n",
       "1597                                NaN  1.396691  \n",
       "1598            industry, manufacturing  0.995849  \n",
       "1599                                NaN  0.860836  \n",
       "\n",
       "[1600 rows x 16 columns]"
      ]
     },
     "execution_count": 3,
     "metadata": {},
     "output_type": "execute_result"
    }
   ],
   "source": [
    "df1"
   ]
  },
  {
   "cell_type": "code",
   "execution_count": 4,
   "id": "8f636fa2-ebe4-4837-9fa4-53766a80e8b7",
   "metadata": {},
   "outputs": [
    {
     "data": {
      "text/plain": [
       "Index(['id', 'sex', 'age', 'federal_district', 'type_of_city',\n",
       "       'knows_election_date', 'will_vote', 'candidate', 'television_usage',\n",
       "       'internet_usage', 'education', 'income', 'employment', 'job_type',\n",
       "       'company_type', 'weight1'],\n",
       "      dtype='object')"
      ]
     },
     "execution_count": 4,
     "metadata": {},
     "output_type": "execute_result"
    }
   ],
   "source": [
    "df1.columns"
   ]
  },
  {
   "cell_type": "code",
   "execution_count": 5,
   "id": "63cefc9e-1380-49e2-bcd1-644653550f71",
   "metadata": {},
   "outputs": [
    {
     "data": {
      "text/plain": [
       "(1600, 16)"
      ]
     },
     "execution_count": 5,
     "metadata": {},
     "output_type": "execute_result"
    }
   ],
   "source": [
    "df1.shape"
   ]
  },
  {
   "cell_type": "code",
   "execution_count": 6,
   "id": "7d428bba-e985-430f-ad61-6c054ea04b99",
   "metadata": {},
   "outputs": [],
   "source": [
    "# We have 1600 rows and 16 column"
   ]
  },
  {
   "cell_type": "code",
   "execution_count": 7,
   "id": "6ee2cf78-43e2-4b47-8d78-8ad4d003fade",
   "metadata": {},
   "outputs": [
    {
     "name": "stdout",
     "output_type": "stream",
     "text": [
      "<class 'pandas.core.frame.DataFrame'>\n",
      "RangeIndex: 1600 entries, 0 to 1599\n",
      "Data columns (total 16 columns):\n",
      " #   Column               Non-Null Count  Dtype  \n",
      "---  ------               --------------  -----  \n",
      " 0   id                   1600 non-null   object \n",
      " 1   sex                  1600 non-null   object \n",
      " 2   age                  1600 non-null   float64\n",
      " 3   federal_district     1600 non-null   object \n",
      " 4   type_of_city         1600 non-null   object \n",
      " 5   knows_election_date  1600 non-null   object \n",
      " 6   will_vote            1600 non-null   object \n",
      " 7   candidate            1600 non-null   object \n",
      " 8   television_usage     1600 non-null   object \n",
      " 9   internet_usage       1600 non-null   object \n",
      " 10  education            1600 non-null   object \n",
      " 11  income               1600 non-null   object \n",
      " 12  employment           1600 non-null   object \n",
      " 13  job_type             692 non-null    object \n",
      " 14  company_type         879 non-null    object \n",
      " 15  weight1              1600 non-null   float64\n",
      "dtypes: float64(2), object(14)\n",
      "memory usage: 200.1+ KB\n"
     ]
    }
   ],
   "source": [
    "df1.info()"
   ]
  },
  {
   "cell_type": "code",
   "execution_count": 8,
   "id": "43103f1f-327e-43ff-aa40-03976a6568af",
   "metadata": {},
   "outputs": [
    {
     "data": {
      "text/plain": [
       "id                       0\n",
       "sex                      0\n",
       "age                      0\n",
       "federal_district         0\n",
       "type_of_city             0\n",
       "knows_election_date      0\n",
       "will_vote                0\n",
       "candidate                0\n",
       "television_usage         0\n",
       "internet_usage           0\n",
       "education                0\n",
       "income                   0\n",
       "employment               0\n",
       "job_type               908\n",
       "company_type           721\n",
       "weight1                  0\n",
       "dtype: int64"
      ]
     },
     "execution_count": 8,
     "metadata": {},
     "output_type": "execute_result"
    }
   ],
   "source": [
    "df1.isnull().sum()"
   ]
  },
  {
   "cell_type": "code",
   "execution_count": 9,
   "id": "84c9c46e-3eef-474c-9b64-4721612696f3",
   "metadata": {},
   "outputs": [],
   "source": [
    "df1.fillna(\"NIL\" , inplace = True)"
   ]
  },
  {
   "cell_type": "code",
   "execution_count": 10,
   "id": "061aad95-6fc1-4b23-b23d-a364480128b9",
   "metadata": {},
   "outputs": [
    {
     "data": {
      "text/plain": [
       "id                     0\n",
       "sex                    0\n",
       "age                    0\n",
       "federal_district       0\n",
       "type_of_city           0\n",
       "knows_election_date    0\n",
       "will_vote              0\n",
       "candidate              0\n",
       "television_usage       0\n",
       "internet_usage         0\n",
       "education              0\n",
       "income                 0\n",
       "employment             0\n",
       "job_type               0\n",
       "company_type           0\n",
       "weight1                0\n",
       "dtype: int64"
      ]
     },
     "execution_count": 10,
     "metadata": {},
     "output_type": "execute_result"
    }
   ],
   "source": [
    "df1.isnull().sum()"
   ]
  },
  {
   "cell_type": "code",
   "execution_count": 11,
   "id": "50263f28-41c7-41d6-a57b-8480cfbca183",
   "metadata": {},
   "outputs": [
    {
     "data": {
      "text/plain": [
       "0"
      ]
     },
     "execution_count": 11,
     "metadata": {},
     "output_type": "execute_result"
    }
   ],
   "source": [
    "df1.duplicated().sum()"
   ]
  },
  {
   "cell_type": "code",
   "execution_count": 12,
   "id": "0dcef38e-185c-4e0f-aefd-5fab8fc281df",
   "metadata": {},
   "outputs": [
    {
     "data": {
      "text/html": [
       "<div>\n",
       "<style scoped>\n",
       "    .dataframe tbody tr th:only-of-type {\n",
       "        vertical-align: middle;\n",
       "    }\n",
       "\n",
       "    .dataframe tbody tr th {\n",
       "        vertical-align: top;\n",
       "    }\n",
       "\n",
       "    .dataframe thead th {\n",
       "        text-align: right;\n",
       "    }\n",
       "</style>\n",
       "<table border=\"1\" class=\"dataframe\">\n",
       "  <thead>\n",
       "    <tr style=\"text-align: right;\">\n",
       "      <th></th>\n",
       "      <th>id</th>\n",
       "      <th>sex</th>\n",
       "      <th>age</th>\n",
       "      <th>federal_district</th>\n",
       "      <th>type_of_city</th>\n",
       "      <th>knows_election_date</th>\n",
       "      <th>will_vote</th>\n",
       "      <th>candidate</th>\n",
       "      <th>television_usage</th>\n",
       "      <th>internet_usage</th>\n",
       "      <th>education</th>\n",
       "      <th>income</th>\n",
       "      <th>employment</th>\n",
       "      <th>job_type</th>\n",
       "      <th>company_type</th>\n",
       "      <th>weight1</th>\n",
       "    </tr>\n",
       "  </thead>\n",
       "  <tbody>\n",
       "    <tr>\n",
       "      <th>0</th>\n",
       "      <td>07169ed8148ce047</td>\n",
       "      <td>male</td>\n",
       "      <td>18.0</td>\n",
       "      <td>north caucasian</td>\n",
       "      <td>village</td>\n",
       "      <td>named correct date</td>\n",
       "      <td>not sure</td>\n",
       "      <td>Putin</td>\n",
       "      <td>several times a week</td>\n",
       "      <td>over 4 hours a day</td>\n",
       "      <td>incomplete school education</td>\n",
       "      <td>very high</td>\n",
       "      <td>entrepreneur</td>\n",
       "      <td>NIL</td>\n",
       "      <td>farming</td>\n",
       "      <td>1.445172</td>\n",
       "    </tr>\n",
       "    <tr>\n",
       "      <th>1</th>\n",
       "      <td>0716a4f3354cecdd</td>\n",
       "      <td>male</td>\n",
       "      <td>23.0</td>\n",
       "      <td>north caucasian</td>\n",
       "      <td>village</td>\n",
       "      <td>named correct date</td>\n",
       "      <td>not sure</td>\n",
       "      <td>Putin</td>\n",
       "      <td>once half a year</td>\n",
       "      <td>over 4 hours a day</td>\n",
       "      <td>college</td>\n",
       "      <td>very high</td>\n",
       "      <td>work for hire</td>\n",
       "      <td>commercial organization</td>\n",
       "      <td>trade</td>\n",
       "      <td>1.445172</td>\n",
       "    </tr>\n",
       "    <tr>\n",
       "      <th>2</th>\n",
       "      <td>0716889b304ce79c</td>\n",
       "      <td>male</td>\n",
       "      <td>20.0</td>\n",
       "      <td>volga</td>\n",
       "      <td>city with population of less than 50k</td>\n",
       "      <td>named correct date</td>\n",
       "      <td>definitely yes</td>\n",
       "      <td>Putin</td>\n",
       "      <td>several times a week</td>\n",
       "      <td>over 4 hours a day</td>\n",
       "      <td>college</td>\n",
       "      <td>very high</td>\n",
       "      <td>work for hire</td>\n",
       "      <td>law enforcement agency</td>\n",
       "      <td>law enforcement agency</td>\n",
       "      <td>1.301691</td>\n",
       "    </tr>\n",
       "    <tr>\n",
       "      <th>3</th>\n",
       "      <td>07168e28b5cce563</td>\n",
       "      <td>male</td>\n",
       "      <td>22.0</td>\n",
       "      <td>northwestern</td>\n",
       "      <td>city with population of 1 million and higher</td>\n",
       "      <td>not sure or no answer</td>\n",
       "      <td>not sure</td>\n",
       "      <td>Davankov</td>\n",
       "      <td>several times a week</td>\n",
       "      <td>over 4 hours a day</td>\n",
       "      <td>college</td>\n",
       "      <td>very high</td>\n",
       "      <td>unemployed</td>\n",
       "      <td>NIL</td>\n",
       "      <td>NIL</td>\n",
       "      <td>1.538628</td>\n",
       "    </tr>\n",
       "    <tr>\n",
       "      <th>4</th>\n",
       "      <td>0716a563914ce549</td>\n",
       "      <td>male</td>\n",
       "      <td>21.0</td>\n",
       "      <td>southern</td>\n",
       "      <td>city with population of 1 million and higher</td>\n",
       "      <td>named correct date</td>\n",
       "      <td>definitely yes</td>\n",
       "      <td>Putin</td>\n",
       "      <td>does not watch</td>\n",
       "      <td>over 4 hours a day</td>\n",
       "      <td>bachelor degree</td>\n",
       "      <td>very high</td>\n",
       "      <td>employed student</td>\n",
       "      <td>commercial organization</td>\n",
       "      <td>tech, programming, communications</td>\n",
       "      <td>1.967015</td>\n",
       "    </tr>\n",
       "  </tbody>\n",
       "</table>\n",
       "</div>"
      ],
      "text/plain": [
       "                 id   sex   age federal_district  \\\n",
       "0  07169ed8148ce047  male  18.0  north caucasian   \n",
       "1  0716a4f3354cecdd  male  23.0  north caucasian   \n",
       "2  0716889b304ce79c  male  20.0            volga   \n",
       "3  07168e28b5cce563  male  22.0     northwestern   \n",
       "4  0716a563914ce549  male  21.0         southern   \n",
       "\n",
       "                                   type_of_city    knows_election_date  \\\n",
       "0                                       village     named correct date   \n",
       "1                                       village     named correct date   \n",
       "2         city with population of less than 50k     named correct date   \n",
       "3  city with population of 1 million and higher  not sure or no answer   \n",
       "4  city with population of 1 million and higher     named correct date   \n",
       "\n",
       "        will_vote candidate      television_usage      internet_usage  \\\n",
       "0        not sure     Putin  several times a week  over 4 hours a day   \n",
       "1        not sure     Putin      once half a year  over 4 hours a day   \n",
       "2  definitely yes     Putin  several times a week  over 4 hours a day   \n",
       "3        not sure  Davankov  several times a week  over 4 hours a day   \n",
       "4  definitely yes     Putin        does not watch  over 4 hours a day   \n",
       "\n",
       "                     education     income        employment  \\\n",
       "0  incomplete school education  very high      entrepreneur   \n",
       "1                      college  very high     work for hire   \n",
       "2                      college  very high     work for hire   \n",
       "3                      college  very high        unemployed   \n",
       "4              bachelor degree  very high  employed student   \n",
       "\n",
       "                  job_type                       company_type   weight1  \n",
       "0                      NIL                            farming  1.445172  \n",
       "1  commercial organization                              trade  1.445172  \n",
       "2   law enforcement agency             law enforcement agency  1.301691  \n",
       "3                      NIL                                NIL  1.538628  \n",
       "4  commercial organization  tech, programming, communications  1.967015  "
      ]
     },
     "execution_count": 12,
     "metadata": {},
     "output_type": "execute_result"
    }
   ],
   "source": [
    "df1.head()"
   ]
  },
  {
   "cell_type": "code",
   "execution_count": 13,
   "id": "607222f8-bcbb-4de0-bcf1-e4673ee8ae18",
   "metadata": {},
   "outputs": [
    {
     "data": {
      "text/plain": [
       "130     2.515072\n",
       "592     2.515072\n",
       "848     2.317664\n",
       "1118    2.317664\n",
       "171     2.314985\n",
       "73      2.304516\n",
       "469     2.174385\n",
       "1114    2.157545\n",
       "579     2.108939\n",
       "498     2.103130\n",
       "Name: weight1, dtype: float64"
      ]
     },
     "execution_count": 13,
     "metadata": {},
     "output_type": "execute_result"
    }
   ],
   "source": [
    "df1.weight1.sort_values(ascending = False).head(10)"
   ]
  },
  {
   "cell_type": "code",
   "execution_count": 14,
   "id": "6aa2742b-fe46-4f21-bf81-393b467b5e36",
   "metadata": {},
   "outputs": [],
   "source": [
    "# These people have highest weight so these are most unlikely to put vote"
   ]
  },
  {
   "cell_type": "code",
   "execution_count": 15,
   "id": "9462d577-c4e4-4839-8640-85afd3eb2829",
   "metadata": {},
   "outputs": [
    {
     "data": {
      "text/plain": [
       "array(['several times a week', 'once half a year', 'does not watch',\n",
       "       'less than 4 hours a day', 'over 4 hours a day',\n",
       "       'several times a month'], dtype=object)"
      ]
     },
     "execution_count": 15,
     "metadata": {},
     "output_type": "execute_result"
    }
   ],
   "source": [
    "df1['television_usage'].unique()"
   ]
  },
  {
   "cell_type": "code",
   "execution_count": 16,
   "id": "efad0bf4-16c3-45bb-9b85-9108bc393365",
   "metadata": {},
   "outputs": [],
   "source": [
    "peop_no_tv = df1[df1['television_usage'] == 'does not watch'].id"
   ]
  },
  {
   "cell_type": "code",
   "execution_count": 17,
   "id": "447580b2-a0b8-4251-985c-e448bcecd362",
   "metadata": {},
   "outputs": [
    {
     "data": {
      "text/plain": [
       "332"
      ]
     },
     "execution_count": 17,
     "metadata": {},
     "output_type": "execute_result"
    }
   ],
   "source": [
    "len(peop_no_tv)"
   ]
  },
  {
   "cell_type": "code",
   "execution_count": 18,
   "id": "e588444f-b6f3-4971-b3b5-6daf8ed78cc2",
   "metadata": {},
   "outputs": [
    {
     "data": {
      "text/plain": [
       "4       0716a563914ce549\n",
       "5       0716aac995cce5ae\n",
       "7       07168daf680ceff8\n",
       "8       0716aa97fe4ce46d\n",
       "10      0716c4eb284cec10\n",
       "              ...       \n",
       "1588    071654d3300ce72e\n",
       "1589    071661f1c14cebe8\n",
       "1590    071690e53c4cee54\n",
       "1591    0716844ebb8ceafc\n",
       "1597    071690f34d4ce164\n",
       "Name: id, Length: 332, dtype: object"
      ]
     },
     "execution_count": 18,
     "metadata": {},
     "output_type": "execute_result"
    }
   ],
   "source": [
    "peop_no_tv\n",
    "# These are are highly unlikely to vote as they dont watch tv whatsoever"
   ]
  },
  {
   "cell_type": "code",
   "execution_count": 19,
   "id": "401d478d-5ec4-4e87-b2bc-eb9ef25a14e6",
   "metadata": {},
   "outputs": [
    {
     "data": {
      "text/plain": [
       "array(['over 4 hours a day', 'less than 4 hours a day',\n",
       "       'several times a week', 'does not use internet',\n",
       "       'several times a month', 'once half a year'], dtype=object)"
      ]
     },
     "execution_count": 19,
     "metadata": {},
     "output_type": "execute_result"
    }
   ],
   "source": [
    "df1[\"internet_usage\"].unique()"
   ]
  },
  {
   "cell_type": "code",
   "execution_count": 20,
   "id": "4d5e599f-dc5b-407a-b98d-ebafd870f550",
   "metadata": {},
   "outputs": [],
   "source": [
    "people_no_internet = df1[df1[\"internet_usage\"] == \"does not use internet\"].id"
   ]
  },
  {
   "cell_type": "code",
   "execution_count": 21,
   "id": "e8570ea3-a925-491e-9bcf-2cfbd04966e1",
   "metadata": {},
   "outputs": [
    {
     "data": {
      "text/plain": [
       "12      0716784400cce894\n",
       "17      071661f7fbcced2d\n",
       "18      07167a7849ccee79\n",
       "19      071694e1b00cec2f\n",
       "23      0716b4830a8ce014\n",
       "              ...       \n",
       "1570    07169a590ccceaf2\n",
       "1584    0716844d1f4cea4a\n",
       "1591    0716844ebb8ceafc\n",
       "1593    07166682350ce1b0\n",
       "1596    07168254d14ceb55\n",
       "Name: id, Length: 259, dtype: object"
      ]
     },
     "execution_count": 21,
     "metadata": {},
     "output_type": "execute_result"
    }
   ],
   "source": [
    "people_no_internet"
   ]
  },
  {
   "cell_type": "code",
   "execution_count": 22,
   "id": "c8bea721-2229-4aed-950f-8b331c7f68d5",
   "metadata": {},
   "outputs": [
    {
     "data": {
      "text/plain": [
       "259"
      ]
     },
     "execution_count": 22,
     "metadata": {},
     "output_type": "execute_result"
    }
   ],
   "source": [
    "len(people_no_internet)"
   ]
  },
  {
   "cell_type": "code",
   "execution_count": 23,
   "id": "4ea3cf07-4a96-4bf2-9ba7-b40b5b8a6b66",
   "metadata": {},
   "outputs": [],
   "source": [
    "# These people are not using internet so they are highly unlikely to vote"
   ]
  },
  {
   "cell_type": "code",
   "execution_count": 24,
   "id": "ed6923d3-6cd5-4411-921a-04cfcfe21aee",
   "metadata": {},
   "outputs": [],
   "source": [
    "unaware_people = df1[df1[\"knows_election_date\"] == \"not sure or no answer\"].id"
   ]
  },
  {
   "cell_type": "code",
   "execution_count": 109,
   "id": "f093dc09-2fab-4ea9-999f-008d5fd5b35c",
   "metadata": {},
   "outputs": [
    {
     "data": {
      "text/plain": [
       "165"
      ]
     },
     "execution_count": 109,
     "metadata": {},
     "output_type": "execute_result"
    }
   ],
   "source": [
    "len(unaware_people)"
   ]
  },
  {
   "cell_type": "code",
   "execution_count": 26,
   "id": "1a0b77dc-96d7-4dcc-babe-c5e55bca47fc",
   "metadata": {},
   "outputs": [],
   "source": [
    "# These people are unaware of election dates as they are highly unlikely to vote"
   ]
  },
  {
   "cell_type": "code",
   "execution_count": 27,
   "id": "e4ecace4-4eda-443d-8a7f-5e986f267fc0",
   "metadata": {},
   "outputs": [],
   "source": [
    "max_age = max(df1[\"age\"])\n",
    "min_age = min(df1[\"age\"])"
   ]
  },
  {
   "cell_type": "code",
   "execution_count": 28,
   "id": "22a75858-e845-4596-86b9-b976a4142150",
   "metadata": {},
   "outputs": [
    {
     "data": {
      "text/plain": [
       "(90.0, 18.0)"
      ]
     },
     "execution_count": 28,
     "metadata": {},
     "output_type": "execute_result"
    }
   ],
   "source": [
    "max_age , min_age"
   ]
  },
  {
   "cell_type": "code",
   "execution_count": 29,
   "id": "8d3f6470-46e1-4b53-8a28-8aaed3da18ca",
   "metadata": {},
   "outputs": [],
   "source": [
    "# The survey is between the people of age 18 to people of age 90"
   ]
  },
  {
   "cell_type": "code",
   "execution_count": 30,
   "id": "c400f513-5d54-4580-99e9-a600a4004718",
   "metadata": {},
   "outputs": [],
   "source": [
    "old_people = df1[df1[\"age\"] > 70 ].id"
   ]
  },
  {
   "cell_type": "code",
   "execution_count": 31,
   "id": "70aed3df-8de2-4c18-bd1f-11d770a7a6da",
   "metadata": {},
   "outputs": [
    {
     "data": {
      "text/plain": [
       "29      071697b9bd8ce670\n",
       "38      07165ff7b50ce953\n",
       "39      07168547b7ccea42\n",
       "43      0716b7e4decce28d\n",
       "44      0716a19cdecce7a3\n",
       "              ...       \n",
       "1549    0716753f7f8cecb5\n",
       "1596    07168254d14ceb55\n",
       "1597    071690f34d4ce164\n",
       "1598    0716bfa9c48ce79a\n",
       "1599    07168088318cef88\n",
       "Name: id, Length: 220, dtype: object"
      ]
     },
     "execution_count": 31,
     "metadata": {},
     "output_type": "execute_result"
    }
   ],
   "source": [
    "old_people"
   ]
  },
  {
   "cell_type": "code",
   "execution_count": 32,
   "id": "b81d49b3-5ff1-4c64-b5dd-ebb0f60603c3",
   "metadata": {},
   "outputs": [
    {
     "data": {
      "text/plain": [
       "220"
      ]
     },
     "execution_count": 32,
     "metadata": {},
     "output_type": "execute_result"
    }
   ],
   "source": [
    "len(old_people)"
   ]
  },
  {
   "cell_type": "code",
   "execution_count": 33,
   "id": "d5aa12ab-729c-4fce-8b7e-39a447e16cc8",
   "metadata": {},
   "outputs": [],
   "source": [
    "# These people are very old so its difficult for them to vote"
   ]
  },
  {
   "cell_type": "code",
   "execution_count": 34,
   "id": "b2af0c7a-dcfc-48c8-8bc3-f98c86f41cc3",
   "metadata": {},
   "outputs": [
    {
     "data": {
      "text/plain": [
       "array(['not sure', 'definitely yes', 'likely no', 'definitely no',\n",
       "       'likely yes', 'struggle to answer'], dtype=object)"
      ]
     },
     "execution_count": 34,
     "metadata": {},
     "output_type": "execute_result"
    }
   ],
   "source": [
    "df1[\"will_vote\"].unique()"
   ]
  },
  {
   "cell_type": "code",
   "execution_count": 35,
   "id": "12df5abd-865f-423b-8aa1-7dee9d4d084d",
   "metadata": {},
   "outputs": [],
   "source": [
    "will_not_vote = df1[df1[\"will_vote\"] == \"definately no\"].id"
   ]
  },
  {
   "cell_type": "code",
   "execution_count": 36,
   "id": "35c646b8-a34d-4ec9-885a-6746b2015d4e",
   "metadata": {},
   "outputs": [
    {
     "data": {
      "text/plain": [
       "13"
      ]
     },
     "execution_count": 36,
     "metadata": {},
     "output_type": "execute_result"
    }
   ],
   "source": [
    "len(\"will_not_vote\")"
   ]
  },
  {
   "cell_type": "code",
   "execution_count": 37,
   "id": "582fb6c4-c710-412e-b553-5494d5ea5480",
   "metadata": {},
   "outputs": [],
   "source": [
    "# 13 people are not going to vote"
   ]
  },
  {
   "cell_type": "code",
   "execution_count": 38,
   "id": "ed7f361c-0b90-489c-855a-26e054627dc4",
   "metadata": {},
   "outputs": [],
   "source": [
    "will_vote = df1[df1[\"will_vote\"] == \"definitely yes\"].id"
   ]
  },
  {
   "cell_type": "code",
   "execution_count": 39,
   "id": "7bccf046-612e-4450-9fac-e3d51257b492",
   "metadata": {},
   "outputs": [
    {
     "data": {
      "text/plain": [
       "1062"
      ]
     },
     "execution_count": 39,
     "metadata": {},
     "output_type": "execute_result"
    }
   ],
   "source": [
    "len(will_vote)"
   ]
  },
  {
   "cell_type": "code",
   "execution_count": 40,
   "id": "ebca9831-e2bc-4f9f-b15a-167f4c62e834",
   "metadata": {},
   "outputs": [],
   "source": [
    "## insight >>> 1062 people out of 1600 people will definately vote"
   ]
  },
  {
   "cell_type": "code",
   "execution_count": 41,
   "id": "ca75d9b4-5a00-4432-9468-bca546242208",
   "metadata": {},
   "outputs": [],
   "source": [
    "high_income = df1[df1[\"income\"] == \"very high\" ]"
   ]
  },
  {
   "cell_type": "code",
   "execution_count": 42,
   "id": "ee27a295-1b8e-4322-ac05-cd4fcc7ace40",
   "metadata": {},
   "outputs": [
    {
     "data": {
      "text/plain": [
       "11"
      ]
     },
     "execution_count": 42,
     "metadata": {},
     "output_type": "execute_result"
    }
   ],
   "source": [
    "len(\"high_income\")"
   ]
  },
  {
   "cell_type": "code",
   "execution_count": 43,
   "id": "7952c2b3-ba37-4af7-af87-d6f8b7e1e9ff",
   "metadata": {},
   "outputs": [],
   "source": [
    "# Insights >>> 11 people out of 1600 have very high income\n",
    "## These people can provide funds to the political parties"
   ]
  },
  {
   "cell_type": "code",
   "execution_count": 44,
   "id": "6eb0ba76-de4b-4038-8626-40605d4b844b",
   "metadata": {},
   "outputs": [
    {
     "data": {
      "text/plain": [
       "array(['Putin', 'Davankov', 'will not take part', 'spoilt vote',\n",
       "       'Kharitonov', 'struggle to answer', 'Slutskiy'], dtype=object)"
      ]
     },
     "execution_count": 44,
     "metadata": {},
     "output_type": "execute_result"
    }
   ],
   "source": [
    "df1[\"candidate\"].unique()"
   ]
  },
  {
   "cell_type": "code",
   "execution_count": 45,
   "id": "49797ac8-c4f4-4c76-bcd3-6b9137e808f3",
   "metadata": {},
   "outputs": [],
   "source": [
    "support_chart = df1[\"candidate\"].value_counts()"
   ]
  },
  {
   "cell_type": "code",
   "execution_count": 46,
   "id": "4042aa3a-a0bf-4b99-8e7e-9985bd541480",
   "metadata": {},
   "outputs": [
    {
     "data": {
      "text/plain": [
       "<function matplotlib.pyplot.show(close=None, block=None)>"
      ]
     },
     "execution_count": 46,
     "metadata": {},
     "output_type": "execute_result"
    },
    {
     "data": {
      "image/png": "[encoded data removed]",
      "text/plain": [
       "<Figure size 640x480 with 1 Axes>"
      ]
     },
     "metadata": {},
     "output_type": "display_data"
    }
   ],
   "source": [
    "plt.barh(support_chart.index ,support_chart, color = \"r\")\n",
    "plt.title(\" support to candidate \" , fontsize = 12)\n",
    "plt.xlabel(\"candidate_name\"  , fontsize =2)\n",
    "plt.ylabel(\"no of supporter\")\n",
    "\n",
    "plt.show\n"
   ]
  },
  {
   "cell_type": "code",
   "execution_count": 47,
   "id": "2f5358b0-b97d-40f3-b2f3-2007d553c5a8",
   "metadata": {},
   "outputs": [],
   "source": [
    "# insights >>>> maximum number of supporters to putin"
   ]
  },
  {
   "cell_type": "code",
   "execution_count": 48,
   "id": "6a6971bb-e3b5-4622-98ee-01fba4af19e8",
   "metadata": {},
   "outputs": [
    {
     "data": {
      "text/plain": [
       "<AxesSubplot: xlabel='age', ylabel='Count'>"
      ]
     },
     "execution_count": 48,
     "metadata": {},
     "output_type": "execute_result"
    },
    {
     "data": {
      "image/png": "[encoded data removed]",
      "text/plain": [
       "<Figure size 640x480 with 1 Axes>"
      ]
     },
     "metadata": {},
     "output_type": "display_data"
    }
   ],
   "source": [
    "sns.histplot(df1[\"age\"] , kde = True)"
   ]
  },
  {
   "cell_type": "code",
   "execution_count": 49,
   "id": "ed42187f-5118-4c8c-86fc-fa1aab99e23b",
   "metadata": {},
   "outputs": [],
   "source": [
    "## insights >>>>> most people in the survey falls between 36 to 42"
   ]
  },
  {
   "cell_type": "code",
   "execution_count": 107,
   "id": "e42a483d-d3f5-4763-be95-36ba49656002",
   "metadata": {},
   "outputs": [
    {
     "data": {
      "text/plain": [
       "female    843\n",
       "male      757\n",
       "Name: sex, dtype: int64"
      ]
     },
     "execution_count": 107,
     "metadata": {},
     "output_type": "execute_result"
    }
   ],
   "source": [
    "gender_count = df1['sex'].value_counts()\n",
    "gender_count"
   ]
  },
  {
   "cell_type": "code",
   "execution_count": 51,
   "id": "53a7aafe-a4f2-46eb-a5dd-d7fe2cbe633b",
   "metadata": {},
   "outputs": [
    {
     "data": {
      "text/plain": [
       "<BarContainer object of 2 artists>"
      ]
     },
     "execution_count": 51,
     "metadata": {},
     "output_type": "execute_result"
    },
    {
     "data": {
      "image/png": "[encoded data removed]",
      "text/plain": [
       "<Figure size 640x480 with 1 Axes>"
      ]
     },
     "metadata": {},
     "output_type": "display_data"
    }
   ],
   "source": [
    "plt.bar(gender_count.index , gender_count)"
   ]
  },
  {
   "cell_type": "code",
   "execution_count": 52,
   "id": "feb0d829-55de-4aa2-984f-707a6f956e82",
   "metadata": {},
   "outputs": [],
   "source": [
    "# In survey more female are surveyed then man"
   ]
  },
  {
   "cell_type": "code",
   "execution_count": 53,
   "id": "62eec2fe-50bb-4c05-af8a-d169d5b7dab7",
   "metadata": {},
   "outputs": [],
   "source": [
    "voter_probability = df1[\"will_vote\"].value_counts()"
   ]
  },
  {
   "cell_type": "code",
   "execution_count": 54,
   "id": "b65431c5-0251-42a7-bbc4-4a3ee7936fdd",
   "metadata": {},
   "outputs": [
    {
     "data": {
      "text/plain": [
       "<StemContainer object of 3 artists>"
      ]
     },
     "execution_count": 54,
     "metadata": {},
     "output_type": "execute_result"
    },
    {
     "data": {
      "image/png": "[encoded data removed]",
      "text/plain": [
       "<Figure size 640x480 with 1 Axes>"
      ]
     },
     "metadata": {},
     "output_type": "display_data"
    }
   ],
   "source": [
    "plt.stem(voter_probability.index , voter_probability)"
   ]
  },
  {
   "cell_type": "code",
   "execution_count": 55,
   "id": "da91e0c4-af41-41cd-9c78-f2d4fd952369",
   "metadata": {},
   "outputs": [],
   "source": [
    "# so most people of the survey are highly likely to vote"
   ]
  },
  {
   "cell_type": "code",
   "execution_count": 56,
   "id": "1092a8db-8b88-45f0-b071-97d2838fd18f",
   "metadata": {},
   "outputs": [
    {
     "data": {
      "text/plain": [
       "Index(['id', 'sex', 'age', 'federal_district', 'type_of_city',\n",
       "       'knows_election_date', 'will_vote', 'candidate', 'television_usage',\n",
       "       'internet_usage', 'education', 'income', 'employment', 'job_type',\n",
       "       'company_type', 'weight1'],\n",
       "      dtype='object')"
      ]
     },
     "execution_count": 56,
     "metadata": {},
     "output_type": "execute_result"
    }
   ],
   "source": [
    "df1.columns"
   ]
  },
  {
   "cell_type": "code",
   "execution_count": 57,
   "id": "50b1003c-618c-4d6e-957b-32574d2a0532",
   "metadata": {},
   "outputs": [
    {
     "data": {
      "text/plain": [
       "array(['entrepreneur', 'work for hire', 'unemployed', 'employed student',\n",
       "       'self-employed', 'unemployed pensioner', 'employed pensioner',\n",
       "       'unemployed student', 'parental leave', 'hard to say',\n",
       "       'refused to answer'], dtype=object)"
      ]
     },
     "execution_count": 57,
     "metadata": {},
     "output_type": "execute_result"
    }
   ],
   "source": [
    "df1[\"employment\"].unique()"
   ]
  },
  {
   "cell_type": "code",
   "execution_count": 62,
   "id": "91f2229b-7591-4065-bd70-68f66ed31472",
   "metadata": {},
   "outputs": [],
   "source": [
    "job_status = df1[\"employment\"].value_counts()"
   ]
  },
  {
   "cell_type": "code",
   "execution_count": 63,
   "id": "1821e54c-10a2-43d5-abd9-2b8a7d5ed9f2",
   "metadata": {},
   "outputs": [
    {
     "data": {
      "text/plain": [
       "work for hire           535\n",
       "unemployed pensioner    502\n",
       "self-employed           122\n",
       "employed pensioner      120\n",
       "unemployed              101\n",
       "entrepreneur             87\n",
       "parental leave           44\n",
       "employed student         37\n",
       "unemployed student       27\n",
       "hard to say              22\n",
       "refused to answer         3\n",
       "Name: employment, dtype: int64"
      ]
     },
     "execution_count": 63,
     "metadata": {},
     "output_type": "execute_result"
    }
   ],
   "source": [
    "job_status"
   ]
  },
  {
   "cell_type": "code",
   "execution_count": 80,
   "id": "d9f654ce-e0c1-44f5-a9bd-49092dd043a0",
   "metadata": {},
   "outputs": [
    {
     "data": {
      "image/png": "[encoded data removed]",
      "text/plain": [
       "<Figure size 2000x800 with 1 Axes>"
      ]
     },
     "metadata": {},
     "output_type": "display_data"
    }
   ],
   "source": [
    "plt.figure(figsize=(20,8))\n",
    "sns.barplot(x = job_status.index , y = job_status)\n",
    "plt.show()"
   ]
  },
  {
   "cell_type": "code",
   "execution_count": 81,
   "id": "d476cf8f-718d-48e5-a482-fb1b90d05d7f",
   "metadata": {},
   "outputs": [],
   "source": [
    "# most people in the survey are work for hire and umemployed pensioner or unemployed , expect alot from laeder this election"
   ]
  },
  {
   "cell_type": "code",
   "execution_count": 84,
   "id": "4644cb95-f00c-4c0b-95af-ee1081d09a71",
   "metadata": {},
   "outputs": [
    {
     "data": {
      "text/plain": [
       "<AxesSubplot: xlabel='sex', ylabel='count'>"
      ]
     },
     "execution_count": 84,
     "metadata": {},
     "output_type": "execute_result"
    },
    {
     "data": {
      "image/png": "[encoded data removed]",
      "text/plain": [
       "<Figure size 640x480 with 1 Axes>"
      ]
     },
     "metadata": {},
     "output_type": "display_data"
    }
   ],
   "source": [
    "sns.countplot( x = \"sex\" , hue = \"candidate\" ,data = df1)"
   ]
  },
  {
   "cell_type": "code",
   "execution_count": 85,
   "id": "4c462a03-2a48-411e-b1b4-323b295182cf",
   "metadata": {},
   "outputs": [],
   "source": [
    "# more female support putin then man"
   ]
  },
  {
   "cell_type": "code",
   "execution_count": 88,
   "id": "185f0aad-2209-4edc-a720-d27b24c085d8",
   "metadata": {},
   "outputs": [
    {
     "data": {
      "text/plain": [
       "age   candidate         \n",
       "18.0  Putin                 13\n",
       "      struggle to answer     4\n",
       "      Davankov               2\n",
       "      Kharitonov             1\n",
       "19.0  Putin                  9\n",
       "                            ..\n",
       "85.0  will not take part     1\n",
       "86.0  Putin                  4\n",
       "87.0  Putin                  2\n",
       "      Davankov               1\n",
       "90.0  Putin                  1\n",
       "Name: candidate, Length: 308, dtype: int64"
      ]
     },
     "execution_count": 88,
     "metadata": {},
     "output_type": "execute_result"
    }
   ],
   "source": [
    "df1.groupby('age')['candidate'].value_counts()"
   ]
  },
  {
   "cell_type": "code",
   "execution_count": 89,
   "id": "1e18b92c-6eaf-416b-aae5-5831da23598a",
   "metadata": {},
   "outputs": [
    {
     "data": {
      "text/plain": [
       "sex\n",
       "female    52.83274\n",
       "male      46.71070\n",
       "Name: age, dtype: float64"
      ]
     },
     "execution_count": 89,
     "metadata": {},
     "output_type": "execute_result"
    }
   ],
   "source": [
    "df1.groupby('sex')['age'].mean()"
   ]
  },
  {
   "cell_type": "code",
   "execution_count": 90,
   "id": "15f7982a-21b8-4712-827b-e88602938030",
   "metadata": {},
   "outputs": [],
   "source": [
    "# average age of female in survey is greater than the average age of man"
   ]
  },
  {
   "cell_type": "code",
   "execution_count": 94,
   "id": "7aaa0cb5-0c37-4953-a98a-f1a4f32c575f",
   "metadata": {},
   "outputs": [
    {
     "data": {
      "text/plain": [
       "sex     will_vote         \n",
       "female  definitely yes        603\n",
       "        likely yes            114\n",
       "        not sure               63\n",
       "        definitely no          33\n",
       "        likely no              27\n",
       "        struggle to answer      3\n",
       "male    definitely yes        459\n",
       "        likely yes            104\n",
       "        not sure              103\n",
       "        definitely no          53\n",
       "        likely no              28\n",
       "        struggle to answer     10\n",
       "Name: will_vote, dtype: int64"
      ]
     },
     "execution_count": 94,
     "metadata": {},
     "output_type": "execute_result"
    }
   ],
   "source": [
    "df1.groupby('sex')['will_vote'].value_counts()"
   ]
  },
  {
   "cell_type": "code",
   "execution_count": null,
   "id": "42b96e86-5e18-47c7-aa1d-27524377f19f",
   "metadata": {},
   "outputs": [],
   "source": []
  },
  {
   "cell_type": "code",
   "execution_count": 95,
   "id": "d0612e53-4701-4d56-bfaa-1dfdb92b1834",
   "metadata": {},
   "outputs": [],
   "source": [
    "corr=df1.corr()"
   ]
  },
  {
   "cell_type": "code",
   "execution_count": 96,
   "id": "9ba71078-74be-4531-a6c9-6dc40d7c3578",
   "metadata": {},
   "outputs": [
    {
     "data": {
      "text/html": [
       "<div>\n",
       "<style scoped>\n",
       "    .dataframe tbody tr th:only-of-type {\n",
       "        vertical-align: middle;\n",
       "    }\n",
       "\n",
       "    .dataframe tbody tr th {\n",
       "        vertical-align: top;\n",
       "    }\n",
       "\n",
       "    .dataframe thead th {\n",
       "        text-align: right;\n",
       "    }\n",
       "</style>\n",
       "<table border=\"1\" class=\"dataframe\">\n",
       "  <thead>\n",
       "    <tr style=\"text-align: right;\">\n",
       "      <th></th>\n",
       "      <th>age</th>\n",
       "      <th>weight1</th>\n",
       "    </tr>\n",
       "  </thead>\n",
       "  <tbody>\n",
       "    <tr>\n",
       "      <th>age</th>\n",
       "      <td>1.000000</td>\n",
       "      <td>-0.319715</td>\n",
       "    </tr>\n",
       "    <tr>\n",
       "      <th>weight1</th>\n",
       "      <td>-0.319715</td>\n",
       "      <td>1.000000</td>\n",
       "    </tr>\n",
       "  </tbody>\n",
       "</table>\n",
       "</div>"
      ],
      "text/plain": [
       "              age   weight1\n",
       "age      1.000000 -0.319715\n",
       "weight1 -0.319715  1.000000"
      ]
     },
     "execution_count": 96,
     "metadata": {},
     "output_type": "execute_result"
    }
   ],
   "source": [
    "corr"
   ]
  },
  {
   "cell_type": "code",
   "execution_count": 97,
   "id": "4930fa8a-1863-44f9-ac12-4e0b7d6655d2",
   "metadata": {},
   "outputs": [
    {
     "data": {
      "text/plain": [
       "<AxesSubplot: >"
      ]
     },
     "execution_count": 97,
     "metadata": {},
     "output_type": "execute_result"
    },
    {
     "data": {
      "image/png": "[encoded data removed]",
      "text/plain": [
       "<Figure size 640x480 with 2 Axes>"
      ]
     },
     "metadata": {},
     "output_type": "display_data"
    }
   ],
   "source": [
    "sns.heatmap(corr)"
   ]
  },
  {
   "cell_type": "code",
   "execution_count": 100,
   "id": "1e32d383-117f-4fdd-87ad-746a38c617e5",
   "metadata": {},
   "outputs": [],
   "source": [
    "dt1=df1.groupby('will_vote')[\"candidate\"].value_counts()"
   ]
  },
  {
   "cell_type": "code",
   "execution_count": 104,
   "id": "ee494f9b-0b26-407a-9484-51322f27d69d",
   "metadata": {},
   "outputs": [
    {
     "data": {
      "text/plain": [
       "will_vote           candidate         \n",
       "definitely no       will not take part     56\n",
       "                    Putin                  21\n",
       "                    Kharitonov              4\n",
       "                    struggle to answer      3\n",
       "                    Davankov                1\n",
       "                    Slutskiy                1\n",
       "definitely yes      Putin                 834\n",
       "                    struggle to answer     93\n",
       "                    Davankov               47\n",
       "                    Kharitonov             34\n",
       "                    Slutskiy               32\n",
       "                    spoilt vote            16\n",
       "                    will not take part      6\n",
       "likely no           Putin                  23\n",
       "                    will not take part     23\n",
       "                    Kharitonov              3\n",
       "                    Davankov                2\n",
       "                    struggle to answer      2\n",
       "                    Slutskiy                1\n",
       "                    spoilt vote             1\n",
       "likely yes          Putin                 147\n",
       "                    struggle to answer     26\n",
       "                    Davankov               13\n",
       "                    Slutskiy               11\n",
       "                    Kharitonov             10\n",
       "                    spoilt vote             8\n",
       "                    will not take part      3\n",
       "not sure            Putin                  96\n",
       "                    struggle to answer     37\n",
       "                    Kharitonov             10\n",
       "                    Slutskiy               10\n",
       "                    will not take part      8\n",
       "                    Davankov                3\n",
       "                    spoilt vote             2\n",
       "struggle to answer  Putin                   7\n",
       "                    struggle to answer      3\n",
       "                    Kharitonov              2\n",
       "                    Davankov                1\n",
       "Name: candidate, dtype: int64"
      ]
     },
     "execution_count": 104,
     "metadata": {},
     "output_type": "execute_result"
    }
   ],
   "source": [
    "dt1"
   ]
  },
  {
   "cell_type": "code",
   "execution_count": 105,
   "id": "6d2c60e0-d2e1-4f94-a3c2-c24bff0702a2",
   "metadata": {},
   "outputs": [
    {
     "data": {
      "text/plain": [
       "<AxesSubplot: xlabel='will_vote', ylabel='Count'>"
      ]
     },
     "execution_count": 105,
     "metadata": {},
     "output_type": "execute_result"
    },
    {
     "data": {
      "image/png": "[encoded data removed]",
      "text/plain": [
       "<Figure size 640x480 with 1 Axes>"
      ]
     },
     "metadata": {},
     "output_type": "display_data"
    }
   ],
   "source": [
    "sns.histplot(df1[\"will_vote\"] == \"definitely yes\" )"
   ]
  },
  {
   "cell_type": "code",
   "execution_count": 116,
   "id": "c498af46-2cc4-4854-a596-240754d7ef5b",
   "metadata": {},
   "outputs": [],
   "source": [
    "from sklearn.preprocessing import LabelEncoder\n",
    "LE = LabelEncoder()\n",
    "df1[\"sex\"] = LE.fit_transform(df1[\"sex\"])"
   ]
  },
  {
   "cell_type": "code",
   "execution_count": 133,
   "id": "2d5d0d91-7a20-4461-89a7-0dc69732a493",
   "metadata": {},
   "outputs": [
    {
     "data": {
      "text/plain": [
       "array([6., 5., 4., 3., 2., 1., 0.])"
      ]
     },
     "execution_count": 133,
     "metadata": {},
     "output_type": "execute_result"
    }
   ],
   "source": [
    "df1[\"type_of_city\"].unique()"
   ]
  },
  {
   "cell_type": "code",
   "execution_count": 137,
   "id": "12f8fd91-e833-47b0-af7c-535ca9af8444",
   "metadata": {},
   "outputs": [
    {
     "data": {
      "text/html": [
       "<div>\n",
       "<style scoped>\n",
       "    .dataframe tbody tr th:only-of-type {\n",
       "        vertical-align: middle;\n",
       "    }\n",
       "\n",
       "    .dataframe tbody tr th {\n",
       "        vertical-align: top;\n",
       "    }\n",
       "\n",
       "    .dataframe thead th {\n",
       "        text-align: right;\n",
       "    }\n",
       "</style>\n",
       "<table border=\"1\" class=\"dataframe\">\n",
       "  <thead>\n",
       "    <tr style=\"text-align: right;\">\n",
       "      <th></th>\n",
       "      <th>id</th>\n",
       "      <th>sex</th>\n",
       "      <th>age</th>\n",
       "      <th>federal_district</th>\n",
       "      <th>type_of_city</th>\n",
       "      <th>knows_election_date</th>\n",
       "      <th>will_vote</th>\n",
       "      <th>candidate</th>\n",
       "      <th>television_usage</th>\n",
       "      <th>internet_usage</th>\n",
       "      <th>education</th>\n",
       "      <th>income</th>\n",
       "      <th>employment</th>\n",
       "      <th>job_type</th>\n",
       "      <th>company_type</th>\n",
       "      <th>weight1</th>\n",
       "    </tr>\n",
       "  </thead>\n",
       "  <tbody>\n",
       "    <tr>\n",
       "      <th>0</th>\n",
       "      <td>07169ed8148ce047</td>\n",
       "      <td>1</td>\n",
       "      <td>18.0</td>\n",
       "      <td>north caucasian</td>\n",
       "      <td>6.0</td>\n",
       "      <td>named correct date</td>\n",
       "      <td>not sure</td>\n",
       "      <td>Putin</td>\n",
       "      <td>several times a week</td>\n",
       "      <td>over 4 hours a day</td>\n",
       "      <td>incomplete school education</td>\n",
       "      <td>very high</td>\n",
       "      <td>entrepreneur</td>\n",
       "      <td>NIL</td>\n",
       "      <td>farming</td>\n",
       "      <td>1.445172</td>\n",
       "    </tr>\n",
       "    <tr>\n",
       "      <th>1</th>\n",
       "      <td>0716a4f3354cecdd</td>\n",
       "      <td>1</td>\n",
       "      <td>23.0</td>\n",
       "      <td>north caucasian</td>\n",
       "      <td>6.0</td>\n",
       "      <td>named correct date</td>\n",
       "      <td>not sure</td>\n",
       "      <td>Putin</td>\n",
       "      <td>once half a year</td>\n",
       "      <td>over 4 hours a day</td>\n",
       "      <td>college</td>\n",
       "      <td>very high</td>\n",
       "      <td>work for hire</td>\n",
       "      <td>commercial organization</td>\n",
       "      <td>trade</td>\n",
       "      <td>1.445172</td>\n",
       "    </tr>\n",
       "    <tr>\n",
       "      <th>2</th>\n",
       "      <td>0716889b304ce79c</td>\n",
       "      <td>1</td>\n",
       "      <td>20.0</td>\n",
       "      <td>volga</td>\n",
       "      <td>5.0</td>\n",
       "      <td>named correct date</td>\n",
       "      <td>definitely yes</td>\n",
       "      <td>Putin</td>\n",
       "      <td>several times a week</td>\n",
       "      <td>over 4 hours a day</td>\n",
       "      <td>college</td>\n",
       "      <td>very high</td>\n",
       "      <td>work for hire</td>\n",
       "      <td>law enforcement agency</td>\n",
       "      <td>law enforcement agency</td>\n",
       "      <td>1.301691</td>\n",
       "    </tr>\n",
       "    <tr>\n",
       "      <th>3</th>\n",
       "      <td>07168e28b5cce563</td>\n",
       "      <td>1</td>\n",
       "      <td>22.0</td>\n",
       "      <td>northwestern</td>\n",
       "      <td>4.0</td>\n",
       "      <td>not sure or no answer</td>\n",
       "      <td>not sure</td>\n",
       "      <td>Davankov</td>\n",
       "      <td>several times a week</td>\n",
       "      <td>over 4 hours a day</td>\n",
       "      <td>college</td>\n",
       "      <td>very high</td>\n",
       "      <td>unemployed</td>\n",
       "      <td>NIL</td>\n",
       "      <td>NIL</td>\n",
       "      <td>1.538628</td>\n",
       "    </tr>\n",
       "    <tr>\n",
       "      <th>4</th>\n",
       "      <td>0716a563914ce549</td>\n",
       "      <td>1</td>\n",
       "      <td>21.0</td>\n",
       "      <td>southern</td>\n",
       "      <td>4.0</td>\n",
       "      <td>named correct date</td>\n",
       "      <td>definitely yes</td>\n",
       "      <td>Putin</td>\n",
       "      <td>does not watch</td>\n",
       "      <td>over 4 hours a day</td>\n",
       "      <td>bachelor degree</td>\n",
       "      <td>very high</td>\n",
       "      <td>employed student</td>\n",
       "      <td>commercial organization</td>\n",
       "      <td>tech, programming, communications</td>\n",
       "      <td>1.967015</td>\n",
       "    </tr>\n",
       "    <tr>\n",
       "      <th>...</th>\n",
       "      <td>...</td>\n",
       "      <td>...</td>\n",
       "      <td>...</td>\n",
       "      <td>...</td>\n",
       "      <td>...</td>\n",
       "      <td>...</td>\n",
       "      <td>...</td>\n",
       "      <td>...</td>\n",
       "      <td>...</td>\n",
       "      <td>...</td>\n",
       "      <td>...</td>\n",
       "      <td>...</td>\n",
       "      <td>...</td>\n",
       "      <td>...</td>\n",
       "      <td>...</td>\n",
       "      <td>...</td>\n",
       "    </tr>\n",
       "    <tr>\n",
       "      <th>1595</th>\n",
       "      <td>0716b23c2c0cee3a</td>\n",
       "      <td>1</td>\n",
       "      <td>61.0</td>\n",
       "      <td>central</td>\n",
       "      <td>1.0</td>\n",
       "      <td>named correct date</td>\n",
       "      <td>definitely no</td>\n",
       "      <td>will not take part</td>\n",
       "      <td>over 4 hours a day</td>\n",
       "      <td>less than 4 hours a day</td>\n",
       "      <td>bachelor degree</td>\n",
       "      <td>hard to say</td>\n",
       "      <td>unemployed pensioner</td>\n",
       "      <td>NIL</td>\n",
       "      <td>NIL</td>\n",
       "      <td>1.270761</td>\n",
       "    </tr>\n",
       "    <tr>\n",
       "      <th>1596</th>\n",
       "      <td>07168254d14ceb55</td>\n",
       "      <td>0</td>\n",
       "      <td>80.0</td>\n",
       "      <td>volga</td>\n",
       "      <td>6.0</td>\n",
       "      <td>named correct date</td>\n",
       "      <td>likely yes</td>\n",
       "      <td>struggle to answer</td>\n",
       "      <td>several times a week</td>\n",
       "      <td>does not use internet</td>\n",
       "      <td>college</td>\n",
       "      <td>hard to say</td>\n",
       "      <td>unemployed pensioner</td>\n",
       "      <td>NIL</td>\n",
       "      <td>NIL</td>\n",
       "      <td>0.921724</td>\n",
       "    </tr>\n",
       "    <tr>\n",
       "      <th>1597</th>\n",
       "      <td>071690f34d4ce164</td>\n",
       "      <td>0</td>\n",
       "      <td>76.0</td>\n",
       "      <td>northwestern</td>\n",
       "      <td>3.0</td>\n",
       "      <td>named correct date</td>\n",
       "      <td>definitely yes</td>\n",
       "      <td>Putin</td>\n",
       "      <td>does not watch</td>\n",
       "      <td>over 4 hours a day</td>\n",
       "      <td>bachelor degree</td>\n",
       "      <td>hard to say</td>\n",
       "      <td>unemployed pensioner</td>\n",
       "      <td>NIL</td>\n",
       "      <td>NIL</td>\n",
       "      <td>1.396691</td>\n",
       "    </tr>\n",
       "    <tr>\n",
       "      <th>1598</th>\n",
       "      <td>0716bfa9c48ce79a</td>\n",
       "      <td>0</td>\n",
       "      <td>74.0</td>\n",
       "      <td>central</td>\n",
       "      <td>5.0</td>\n",
       "      <td>not sure or no answer</td>\n",
       "      <td>definitely yes</td>\n",
       "      <td>Putin</td>\n",
       "      <td>over 4 hours a day</td>\n",
       "      <td>over 4 hours a day</td>\n",
       "      <td>academic degree</td>\n",
       "      <td>hard to say</td>\n",
       "      <td>employed pensioner</td>\n",
       "      <td>commercial organization</td>\n",
       "      <td>industry, manufacturing</td>\n",
       "      <td>0.995849</td>\n",
       "    </tr>\n",
       "    <tr>\n",
       "      <th>1599</th>\n",
       "      <td>07168088318cef88</td>\n",
       "      <td>0</td>\n",
       "      <td>76.0</td>\n",
       "      <td>ural</td>\n",
       "      <td>6.0</td>\n",
       "      <td>named correct date</td>\n",
       "      <td>definitely yes</td>\n",
       "      <td>Putin</td>\n",
       "      <td>over 4 hours a day</td>\n",
       "      <td>over 4 hours a day</td>\n",
       "      <td>school</td>\n",
       "      <td>hard to say</td>\n",
       "      <td>unemployed pensioner</td>\n",
       "      <td>NIL</td>\n",
       "      <td>NIL</td>\n",
       "      <td>0.860836</td>\n",
       "    </tr>\n",
       "  </tbody>\n",
       "</table>\n",
       "<p>1600 rows × 16 columns</p>\n",
       "</div>"
      ],
      "text/plain": [
       "                    id  sex   age federal_district  type_of_city  \\\n",
       "0     07169ed8148ce047    1  18.0  north caucasian           6.0   \n",
       "1     0716a4f3354cecdd    1  23.0  north caucasian           6.0   \n",
       "2     0716889b304ce79c    1  20.0            volga           5.0   \n",
       "3     07168e28b5cce563    1  22.0     northwestern           4.0   \n",
       "4     0716a563914ce549    1  21.0         southern           4.0   \n",
       "...                ...  ...   ...              ...           ...   \n",
       "1595  0716b23c2c0cee3a    1  61.0          central           1.0   \n",
       "1596  07168254d14ceb55    0  80.0            volga           6.0   \n",
       "1597  071690f34d4ce164    0  76.0     northwestern           3.0   \n",
       "1598  0716bfa9c48ce79a    0  74.0          central           5.0   \n",
       "1599  07168088318cef88    0  76.0             ural           6.0   \n",
       "\n",
       "        knows_election_date       will_vote           candidate  \\\n",
       "0        named correct date        not sure               Putin   \n",
       "1        named correct date        not sure               Putin   \n",
       "2        named correct date  definitely yes               Putin   \n",
       "3     not sure or no answer        not sure            Davankov   \n",
       "4        named correct date  definitely yes               Putin   \n",
       "...                     ...             ...                 ...   \n",
       "1595     named correct date   definitely no  will not take part   \n",
       "1596     named correct date      likely yes  struggle to answer   \n",
       "1597     named correct date  definitely yes               Putin   \n",
       "1598  not sure or no answer  definitely yes               Putin   \n",
       "1599     named correct date  definitely yes               Putin   \n",
       "\n",
       "          television_usage           internet_usage  \\\n",
       "0     several times a week       over 4 hours a day   \n",
       "1         once half a year       over 4 hours a day   \n",
       "2     several times a week       over 4 hours a day   \n",
       "3     several times a week       over 4 hours a day   \n",
       "4           does not watch       over 4 hours a day   \n",
       "...                    ...                      ...   \n",
       "1595    over 4 hours a day  less than 4 hours a day   \n",
       "1596  several times a week    does not use internet   \n",
       "1597        does not watch       over 4 hours a day   \n",
       "1598    over 4 hours a day       over 4 hours a day   \n",
       "1599    over 4 hours a day       over 4 hours a day   \n",
       "\n",
       "                        education       income            employment  \\\n",
       "0     incomplete school education    very high          entrepreneur   \n",
       "1                         college    very high         work for hire   \n",
       "2                         college    very high         work for hire   \n",
       "3                         college    very high            unemployed   \n",
       "4                 bachelor degree    very high      employed student   \n",
       "...                           ...          ...                   ...   \n",
       "1595              bachelor degree  hard to say  unemployed pensioner   \n",
       "1596                      college  hard to say  unemployed pensioner   \n",
       "1597              bachelor degree  hard to say  unemployed pensioner   \n",
       "1598              academic degree  hard to say    employed pensioner   \n",
       "1599                       school  hard to say  unemployed pensioner   \n",
       "\n",
       "                     job_type                       company_type   weight1  \n",
       "0                         NIL                            farming  1.445172  \n",
       "1     commercial organization                              trade  1.445172  \n",
       "2      law enforcement agency             law enforcement agency  1.301691  \n",
       "3                         NIL                                NIL  1.538628  \n",
       "4     commercial organization  tech, programming, communications  1.967015  \n",
       "...                       ...                                ...       ...  \n",
       "1595                      NIL                                NIL  1.270761  \n",
       "1596                      NIL                                NIL  0.921724  \n",
       "1597                      NIL                                NIL  1.396691  \n",
       "1598  commercial organization            industry, manufacturing  0.995849  \n",
       "1599                      NIL                                NIL  0.860836  \n",
       "\n",
       "[1600 rows x 16 columns]"
      ]
     },
     "execution_count": 137,
     "metadata": {},
     "output_type": "execute_result"
    }
   ],
   "source": [
    "df1   # by using ordinal encoder we change city acc to ranks"
   ]
  },
  {
   "cell_type": "code",
   "execution_count": 131,
   "id": "875e9ee6-381f-4399-83d7-e41bacdd5820",
   "metadata": {},
   "outputs": [],
   "source": [
    "# more  people will vote"
   ]
  },
  {
   "cell_type": "code",
   "execution_count": 132,
   "id": "47a97cbc-5060-4f6d-8804-e29ce0dc543b",
   "metadata": {},
   "outputs": [],
   "source": [
    "#summarization \n",
    "# the survey is on 1600 people\n",
    "# there are 843 females and 757 male\n",
    "# there are 332 people who is not watching television at all\n",
    "# there are 259 people who is not using internet at all.\n",
    "# 165 people out of 1600 will not vote definately\n",
    "# 1062 people will definately vote\n",
    "# 603 female will definately vote and 409 male will definately vote\n",
    "# putin is the most supported candidate\n",
    "# He is single handed support for the election then other\n",
    "# Seems like putin is single handedly winning the election\n"
   ]
  },
  {
   "cell_type": "code",
   "execution_count": null,
   "id": "263224ce-6fed-44ed-b2a0-1ad8a2b39c64",
   "metadata": {},
   "outputs": [],
   "source": []
  }
 ],
 "metadata": {
  "kernelspec": {
   "display_name": "Python 3 (ipykernel)",
   "language": "python",
   "name": "python3"
  },
  "language_info": {
   "codemirror_mode": {
    "name": "ipython",
    "version": 3
   },
   "file_extension": ".py",
   "mimetype": "text/x-python",
   "name": "python",
   "nbconvert_exporter": "python",
   "pygments_lexer": "ipython3",
   "version": "3.10.8"
  }
 },
 "nbformat": 4,
 "nbformat_minor": 5
}
