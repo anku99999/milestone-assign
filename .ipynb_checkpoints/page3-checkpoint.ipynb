{
 "cells": [
  {
   "cell_type": "code",
   "execution_count": 39,
   "id": "caad1972-42c9-4676-9b4c-7df8e7ecd5fe",
   "metadata": {},
   "outputs": [],
   "source": [
    "#  Question 1. 2. Which of the following identifier names are invalid and why?\n",
    "#a) Serial_no.\n",
    "#b) 1st_Room\n",
    "#c) Hundred$\n",
    "#d) Total_Marks\n",
    "#e) total-Marks\n",
    "#f) Total Marks\n",
    "#g) True\n",
    "#h) _Percentag"
   ]
  },
  {
   "cell_type": "code",
   "execution_count": 40,
   "id": "eefb4d78-0739-4e1c-bbc0-12f31e6799a8",
   "metadata": {},
   "outputs": [
    {
     "name": "stdout",
     "output_type": "stream",
     "text": [
      "Only option(a),option(d),option(h) is valid\n"
     ]
    }
   ],
   "source": [
    "# There are certain rules for recognizing and identifier\n",
    "# RULE1\n",
    "# They must start from letter(A-Z OR a-z) or an underscore(_)\n",
    "# Option(b) is invalid because start from an digit\n",
    "#RULE2\n",
    "# Cannot cointain special character such as ($,%,&,*,#,@,! etc).\n",
    "# option(c),option(e) is invalid ,cointain special character\n",
    "#RULE3\n",
    "# They cannot cointain reserved keywords \n",
    "#such as ('True','False','if','for','else' etc).\n",
    "# Option(g) is invalid\n",
    "#RULE4\n",
    "# Cannot cointain space\n",
    "# option (f) is invalid\n",
    "print(\"Only option(a),option(d),option(h) is valid\")"
   ]
  },
  {
   "cell_type": "code",
   "execution_count": 41,
   "id": "17197ace-d4eb-42a1-a213-4fbd620d3d15",
   "metadata": {},
   "outputs": [],
   "source": [
    "#Question 1.3.\n",
    "name = [\"Mohan\", \"dash\", \"karam\", \"chandra\",\"gandhi\",\"Bapu\"]\n",
    "#do the following operations in this list;"
   ]
  },
  {
   "cell_type": "code",
   "execution_count": 42,
   "id": "490ba76c-a315-4b43-9303-1c3c55d50c92",
   "metadata": {},
   "outputs": [
    {
     "data": {
      "text/plain": [
       "['Mohan', 'dash', 'karam', 'chandra', 'gandhi', 'Bapu']"
      ]
     },
     "execution_count": 42,
     "metadata": {},
     "output_type": "execute_result"
    }
   ],
   "source": [
    "name"
   ]
  },
  {
   "cell_type": "code",
   "execution_count": 43,
   "id": "151f241f-31ea-4b71-a1ef-db28f91999c2",
   "metadata": {},
   "outputs": [],
   "source": [
    "#a) add an element \"freedom_fighter\" in this list at the 0th index.\n",
    "name.insert(0,\"freedom_fighter\")"
   ]
  },
  {
   "cell_type": "code",
   "execution_count": 44,
   "id": "d544ba04-150c-41f7-bcf5-d432128c5f5c",
   "metadata": {},
   "outputs": [
    {
     "data": {
      "text/plain": [
       "['freedom_fighter', 'Mohan', 'dash', 'karam', 'chandra', 'gandhi', 'Bapu']"
      ]
     },
     "execution_count": 44,
     "metadata": {},
     "output_type": "execute_result"
    }
   ],
   "source": [
    "name"
   ]
  },
  {
   "cell_type": "code",
   "execution_count": 45,
   "id": "ad9c8ffc-3c34-413d-a3c0-5215692f1962",
   "metadata": {},
   "outputs": [],
   "source": [
    "#(b) find the output of the following ,and explain how?"
   ]
  },
  {
   "cell_type": "code",
   "execution_count": 46,
   "id": "f7b349a4-b414-4a53-9acc-8f762e2a0177",
   "metadata": {},
   "outputs": [],
   "source": [
    "name = [\"freedomFighter\",\"Bapuji\",\"MOhan\" \"dash\", \"karam\",\"chandra\",\"gandhi\"]"
   ]
  },
  {
   "cell_type": "code",
   "execution_count": 47,
   "id": "d6964cc0-0e93-441e-a2af-a0c6c239cc80",
   "metadata": {},
   "outputs": [],
   "source": [
    "#(b) Find the output of the following,and explain how ?\n",
    "name=[\"freedomFighter\",\"Bapuji\",\"Mohan\",\"dash\",\"karam\",\"Chandra\",\"gandhi\"]"
   ]
  },
  {
   "cell_type": "code",
   "execution_count": 48,
   "id": "4ea6eba7-2c45-46c1-b1a1-25d71766c7c7",
   "metadata": {},
   "outputs": [
    {
     "name": "stdout",
     "output_type": "stream",
     "text": [
      "8\n"
     ]
    }
   ],
   "source": [
    "length1=len((name[-len(name)+1:-1:2]))\n",
    "length2=len((name[-len(name)+1:-1]))\n",
    "print(length1+length2)"
   ]
  },
  {
   "cell_type": "code",
   "execution_count": 49,
   "id": "fc157664-9da3-480f-8a38-032cac23ede0",
   "metadata": {},
   "outputs": [
    {
     "data": {
      "text/plain": [
       "'Bapuji'"
      ]
     },
     "execution_count": 49,
     "metadata": {},
     "output_type": "execute_result"
    }
   ],
   "source": [
    "# Length 1 is slicing with  step 2 starting from index[-6] to -1\n",
    "name[-6]"
   ]
  },
  {
   "cell_type": "code",
   "execution_count": 50,
   "id": "fc7c0616-6a50-4556-bab8-0f9e2bbf2e46",
   "metadata": {},
   "outputs": [
    {
     "data": {
      "text/plain": [
       "'gandhi'"
      ]
     },
     "execution_count": 50,
     "metadata": {},
     "output_type": "execute_result"
    }
   ],
   "source": [
    "name[-1]  # so we consider length of name, list is [bapuji,dash,chandra]\n",
    "#hence length of 1 is 3"
   ]
  },
  {
   "cell_type": "code",
   "execution_count": 51,
   "id": "6138e2c9-770b-43a0-9d15-d30401639f19",
   "metadata": {},
   "outputs": [
    {
     "name": "stdout",
     "output_type": "stream",
     "text": [
      "length1=3\n"
     ]
    }
   ],
   "source": [
    "print(\"length1=3\")"
   ]
  },
  {
   "cell_type": "code",
   "execution_count": 52,
   "id": "87c46f28-f26c-44a5-8969-dc412e0fa828",
   "metadata": {},
   "outputs": [
    {
     "data": {
      "text/plain": [
       "'Bapuji'"
      ]
     },
     "execution_count": 52,
     "metadata": {},
     "output_type": "execute_result"
    }
   ],
   "source": [
    "#length 2 is slicing from length of [-6] to [-1]\n",
    "name[-6]"
   ]
  },
  {
   "cell_type": "code",
   "execution_count": 53,
   "id": "46bf5a47-4e49-4ed8-ac72-9494a3367846",
   "metadata": {},
   "outputs": [
    {
     "data": {
      "text/plain": [
       "'gandhi'"
      ]
     },
     "execution_count": 53,
     "metadata": {},
     "output_type": "execute_result"
    }
   ],
   "source": [
    "name[-1]"
   ]
  },
  {
   "cell_type": "code",
   "execution_count": 54,
   "id": "7d37a049-a8e3-429f-8cdf-7bf6541c0940",
   "metadata": {},
   "outputs": [
    {
     "name": "stdout",
     "output_type": "stream",
     "text": [
      "length2=5\n"
     ]
    }
   ],
   "source": [
    "# list we consider is [\"MOhan\" \"dash\", \"karam\",\"chandra\",\"gandhi\"]\n",
    "print(\"length2=5\")"
   ]
  },
  {
   "cell_type": "code",
   "execution_count": 55,
   "id": "1c1a146e-bbe3-4a32-9524-327f4b24e4d6",
   "metadata": {},
   "outputs": [],
   "source": [
    "# so length1 + length2 = 5 + 3 = 8"
   ]
  },
  {
   "cell_type": "code",
   "execution_count": 56,
   "id": "1b3cd53b-ae45-497d-b2e9-a5cfdb4a22e1",
   "metadata": {},
   "outputs": [],
   "source": [
    "#(c) add two more elements in the name [\"Netaji\",\"Bose\"] at the end of the list"
   ]
  },
  {
   "cell_type": "code",
   "execution_count": 58,
   "id": "80dee2fe-3edf-43e8-ab76-5b71bd7fd380",
   "metadata": {},
   "outputs": [],
   "source": [
    "list1=[\"Netaji\",\"Bose\"]\n",
    "new_list=name+list1"
   ]
  },
  {
   "cell_type": "code",
   "execution_count": 60,
   "id": "b1b0773f-128f-4650-87bb-312b02f47924",
   "metadata": {},
   "outputs": [
    {
     "name": "stdout",
     "output_type": "stream",
     "text": [
      "['freedomFighter', 'Bapuji', 'Mohan', 'dash', 'karam', 'Chandra', 'gandhi', 'Netaji', 'Bose']\n"
     ]
    }
   ],
   "source": [
    "print(new_list,sep=' ')"
   ]
  },
  {
   "cell_type": "code",
   "execution_count": 61,
   "id": "564d124c-0afc-458d-aa0f-8552c37e6bfe",
   "metadata": {},
   "outputs": [
    {
     "name": "stdout",
     "output_type": "stream",
     "text": [
      "['Mohan', 'dash', 'Karam', 'chandra', 'gandhi', 'Bapuji']\n"
     ]
    }
   ],
   "source": [
    "#(d) What is the value of temp:\n",
    "name=[\"Bapuji\",\"dash\",\"Karam\",\"chandra\",\"gandhi\",\"Mohan\"]\n",
    "temp=name[-1]\n",
    "name[-1]=name[0]\n",
    "name[0]=temp\n",
    "print(name)"
   ]
  },
  {
   "cell_type": "code",
   "execution_count": 62,
   "id": "161cd873-92c0-4b1c-b309-4261520203ac",
   "metadata": {},
   "outputs": [],
   "source": [
    "# temp=name[-1]\n",
    "# name[-1]= \"Mohan\"\n",
    "# now they replace name[0]=\"Bapuji\" to name[-1]=\"Mohan\"\n",
    "# new list is ['Mohan', 'dash', 'Karam', 'chandra', 'gandhi', 'Bapuji']\n",
    "# temp is also new_list[0] \n",
    "# temp = \"Mohan\""
   ]
  },
  {
   "cell_type": "code",
   "execution_count": 71,
   "id": "59b2bbec-fe1c-4a33-a2cb-646415040a89",
   "metadata": {},
   "outputs": [
    {
     "name": "stdout",
     "output_type": "stream",
     "text": [
      "2\n",
      "4\n",
      "7\n"
     ]
    }
   ],
   "source": [
    "# (1.4) Find the output of the following\n",
    "animal=[\"Human\",\"Cat\",\"mat\",\"cat\",\"rat\",\"Human\",\"Lion\"]\n",
    "print(animal.count(\"Human\")) # To count how many times \"Human\" occur in the list ie 2 times , ans is 2\n",
    "print(animal.index(\"rat\"))  # To find the index of \"rat\" which is 4 or -3 both ,, so the ans will be 4 and -3 as well\n",
    "print(len(animal)) # to find the length of list , total element in the list is 7 , hence ans is 7"
   ]
  },
  {
   "cell_type": "code",
   "execution_count": null,
   "id": "1fbda1b3-6adf-4bde-afcb-522e5020d427",
   "metadata": {},
   "outputs": [],
   "source": []
  }
 ],
 "metadata": {
  "kernelspec": {
   "display_name": "Python 3 (ipykernel)",
   "language": "python",
   "name": "python3"
  },
  "language_info": {
   "codemirror_mode": {
    "name": "ipython",
    "version": 3
   },
   "file_extension": ".py",
   "mimetype": "text/x-python",
   "name": "python",
   "nbconvert_exporter": "python",
   "pygments_lexer": "ipython3",
   "version": "3.10.8"
  }
 },
 "nbformat": 4,
 "nbformat_minor": 5
}
