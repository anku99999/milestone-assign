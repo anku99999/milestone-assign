{
 "cells": [
  {
   "cell_type": "code",
   "execution_count": 1,
   "id": "afce3dcc-5b24-4b29-9de4-4958bf53464b",
   "metadata": {},
   "outputs": [],
   "source": [
    "# Question 1.5 >>>>>> \n",
    "tuple1=(10,20,\"Apple\",3.4,\"a\",[\"Master\",\"ji\"],(\"sita\",\"geeta\",22),[{\"roll_no\":1},{\"name\":\"Navneet\"}])"
   ]
  },
  {
   "cell_type": "code",
   "execution_count": 2,
   "id": "c39f9ac9-8fcd-47c8-ba1b-c0ea59e5e382",
   "metadata": {},
   "outputs": [
    {
     "name": "stdout",
     "output_type": "stream",
     "text": [
      "8\n"
     ]
    }
   ],
   "source": [
    "#(a) print(len(tuple1))\n",
    "print(len(tuple1))"
   ]
  },
  {
   "cell_type": "code",
   "execution_count": 3,
   "id": "b79dc13c-1ad0-48e9-bc56-bf8791e39790",
   "metadata": {},
   "outputs": [
    {
     "name": "stdout",
     "output_type": "stream",
     "text": [
      "Navneet\n"
     ]
    }
   ],
   "source": [
    "#(b) print(tuple1[-1][-1][\"name\"])\n",
    "print(tuple1[-1][-1][\"name\"])"
   ]
  },
  {
   "cell_type": "code",
   "execution_count": 4,
   "id": "d4855d08-a329-465a-9183-eae7b332f9ee",
   "metadata": {},
   "outputs": [],
   "source": [
    "#(c) Fetch the value of roll_no from this tuple."
   ]
  },
  {
   "cell_type": "code",
   "execution_count": 5,
   "id": "3ae44462-93d7-43aa-8146-e795e04e42d1",
   "metadata": {},
   "outputs": [
    {
     "name": "stdout",
     "output_type": "stream",
     "text": [
      "1\n"
     ]
    }
   ],
   "source": [
    "roll_no=tuple1[-1][0]['roll_no']\n",
    "print(roll_no)"
   ]
  },
  {
   "cell_type": "code",
   "execution_count": 6,
   "id": "4b11dc41-32cc-4981-8023-8c3eec61a889",
   "metadata": {},
   "outputs": [
    {
     "name": "stdout",
     "output_type": "stream",
     "text": [
      "ji\n"
     ]
    }
   ],
   "source": [
    "#(d) print(tuple1[-3][1])\n",
    "print(tuple1[-3][1])"
   ]
  },
  {
   "cell_type": "code",
   "execution_count": 7,
   "id": "ea0716b2-bd6d-4974-af4d-1f8ee34a6cda",
   "metadata": {},
   "outputs": [
    {
     "name": "stdout",
     "output_type": "stream",
     "text": [
      "22\n"
     ]
    }
   ],
   "source": [
    "#(e) fetch the element \"22\" from the tuple\n",
    "print(tuple1[-2][2])"
   ]
  },
  {
   "cell_type": "code",
   "execution_count": 8,
   "id": "cb68b82a-6479-4b05-8e10-aab4ceaa3f1e",
   "metadata": {},
   "outputs": [],
   "source": [
    "# Q 1.6 >>> Write a program to display the appropriate message as per\n",
    "# the color of signal( RED-Stop/Yellow-Stay/Green-go) at the road crossing"
   ]
  },
  {
   "cell_type": "code",
   "execution_count": 11,
   "id": "94a453f7-5255-4cbc-ace6-148bb723acb0",
   "metadata": {},
   "outputs": [
    {
     "name": "stdin",
     "output_type": "stream",
     "text": [
      "enter the color :   RED\n"
     ]
    },
    {
     "name": "stdout",
     "output_type": "stream",
     "text": [
      "Stop\n"
     ]
    }
   ],
   "source": [
    "color_display=input(\"enter the color :  \")\n",
    "if color_display==\"RED\":\n",
    "    print(\"Stop\")\n",
    "elif color_display==\"Yellow\":\n",
    "    print(\"Stay\")\n",
    "else:\n",
    "    print(\"go\")"
   ]
  },
  {
   "cell_type": "code",
   "execution_count": 12,
   "id": "05d7680d-c267-40e4-aade-c793bc452adc",
   "metadata": {},
   "outputs": [],
   "source": [
    "# Q 1.7 >>> Write a program to create a simple calculator performing \n",
    "# performing only four basic opertation(+,-,/,*)"
   ]
  },
  {
   "cell_type": "code",
   "execution_count": 13,
   "id": "bcfce9a0-0f0e-4271-86a3-ee2908201834",
   "metadata": {},
   "outputs": [
    {
     "name": "stdin",
     "output_type": "stream",
     "text": [
      "enter first no :  34\n",
      "enter second no:  76\n",
      "enter the opetration:  *\n"
     ]
    },
    {
     "name": "stdout",
     "output_type": "stream",
     "text": [
      "2584\n"
     ]
    }
   ],
   "source": [
    "a=int(input(\"enter first no : \"))\n",
    "b=int(input(\"enter second no: \"))\n",
    "oper=input(\"enter the opetration: \")\n",
    "if oper==\"+\":\n",
    "    print(a+b)\n",
    "elif oper==\"-\":\n",
    "    print(a-b)\n",
    "elif oper==\"*\":\n",
    "    print(a*b)\n",
    "else:\n",
    "    print(a/b)\n"
   ]
  },
  {
   "cell_type": "code",
   "execution_count": 14,
   "id": "e43fcd0b-54de-4027-9e3e-353e529bf85e",
   "metadata": {},
   "outputs": [],
   "source": [
    "# (1.7) >>> Write a program to find the larger of the three pre_specified number using ternary operators.\n"
   ]
  },
  {
   "cell_type": "code",
   "execution_count": 15,
   "id": "530c874d-25de-4123-9c68-8c282b4ae4d7",
   "metadata": {},
   "outputs": [
    {
     "name": "stdout",
     "output_type": "stream",
     "text": [
      "9 is the largest number\n"
     ]
    }
   ],
   "source": [
    "a=5\n",
    "b=7\n",
    "c=9    # these are three pre_specified number\n",
    "if a>b & a>c:\n",
    "    print(\"5 is the largest number\")\n",
    "elif b>a & b>c:\n",
    "    print(\"7 is the largest number\")\n",
    "else:\n",
    "    print(\"9 is the largest number\")"
   ]
  },
  {
   "cell_type": "code",
   "execution_count": 18,
   "id": "8b723f89-6eb7-4973-b39f-ac614ee2b2b6",
   "metadata": {},
   "outputs": [
    {
     "name": "stdin",
     "output_type": "stream",
     "text": [
      "enter the whole number :   9\n"
     ]
    },
    {
     "name": "stdout",
     "output_type": "stream",
     "text": [
      "Factor of 9 are: \n",
      "1\n",
      "3\n",
      "9\n"
     ]
    }
   ],
   "source": [
    "#(1.9) Write a program to find the factors of a whole number using a while loop.\n",
    "a=int(input(\"enter the whole number :  \"))\n",
    "factor=[]\n",
    "i=1\n",
    "print(f\"Factor of {a} are: \")\n",
    "while i <= a:\n",
    "    if a % i ==0:\n",
    "        print(i)\n",
    "    i=i+1\n",
    "    \n",
    "\n",
    "      \n",
    "      "
   ]
  },
  {
   "cell_type": "code",
   "execution_count": 17,
   "id": "c71aef9d-ab0d-49e3-a749-85ef7130a8d7",
   "metadata": {},
   "outputs": [],
   "source": [
    "#(1.10) Write a program to find the sum of all positive numbers entered\n",
    "# by the user.As soon as the user enters a negative number,stop taking in any furthur input from\n",
    "# the user and display the sum"
   ]
  },
  {
   "cell_type": "code",
   "execution_count": 19,
   "id": "d49d7dec-00bc-4a3a-99cd-68476f8d6b52",
   "metadata": {},
   "outputs": [
    {
     "name": "stdin",
     "output_type": "stream",
     "text": [
      "enter the number:  11\n",
      "enter the number:  12\n",
      "enter the number:  23\n",
      "enter the number:  -1\n"
     ]
    },
    {
     "name": "stdout",
     "output_type": "stream",
     "text": [
      "the sum of all positive numbers entered is: 46\n"
     ]
    }
   ],
   "source": [
    "total_sum=0\n",
    "while True:\n",
    "    a=int(input(\"enter the number: \"))\n",
    "    if a<0:\n",
    "        break\n",
    "    total_sum += a\n",
    "print(f\"the sum of all positive numbers entered is: {total_sum}\")"
   ]
  },
  {
   "cell_type": "code",
   "execution_count": 20,
   "id": "bb3b0d94-ff08-414e-bc99-179192febb62",
   "metadata": {},
   "outputs": [],
   "source": [
    "#(1.11) Write a program to find prime number between 2 to 100\n",
    "# using nested for loops"
   ]
  },
  {
   "cell_type": "code",
   "execution_count": 21,
   "id": "bb9452fa-152b-4eef-9f83-3c6a69b6716e",
   "metadata": {},
   "outputs": [
    {
     "name": "stdout",
     "output_type": "stream",
     "text": [
      "2\n",
      "3\n",
      "5\n",
      "7\n",
      "11\n",
      "13\n",
      "17\n",
      "19\n",
      "23\n",
      "29\n",
      "31\n",
      "37\n",
      "41\n",
      "43\n",
      "47\n",
      "53\n",
      "59\n",
      "61\n",
      "67\n",
      "71\n",
      "73\n",
      "79\n",
      "83\n",
      "89\n",
      "97\n"
     ]
    }
   ],
   "source": [
    "for num in range(2,101):\n",
    "    is_prime=True\n",
    "    for i in range(2,num):\n",
    "        if num % i == 0:\n",
    "            is_prime=False\n",
    "            break\n",
    "    if is_prime:\n",
    "        print(num)"
   ]
  },
  {
   "cell_type": "code",
   "execution_count": 63,
   "id": "28ec0768-9482-4c4b-b268-95b81802d5ff",
   "metadata": {},
   "outputs": [],
   "source": [
    "#1.12. Write the programs for the following:\n",
    "#Accept the marks of the student in five major subjects and display the same?\n",
    "#Calculate the sum of the marks of all subjects.Divide the total marks by number of subjects (i.e. 5), calculate\n",
    "# percentage = total marks/5 and display the percentage?\n",
    "#Find the grade of the student as per the following criteria . Hint: Use Match & case for this.:\n"
   ]
  },
  {
   "cell_type": "code",
   "execution_count": 73,
   "id": "9d4fb97c-2b5f-428c-babd-89c4b3031431",
   "metadata": {},
   "outputs": [],
   "source": [
    "marks_subject=({\"subject\":[\"eng\",\"hindi\",\"maths\",\"science\",\"sst\"],\"marks\":[66,92,96,55,89]})"
   ]
  },
  {
   "cell_type": "code",
   "execution_count": 74,
   "id": "b2118fe8-97f9-4a3b-9db9-bcf5971974da",
   "metadata": {},
   "outputs": [
    {
     "data": {
      "text/plain": [
       "{'subject': ['eng', 'hindi', 'maths', 'science', 'sst'],\n",
       " 'marks': [66, 92, 96, 55, 89]}"
      ]
     },
     "execution_count": 74,
     "metadata": {},
     "output_type": "execute_result"
    }
   ],
   "source": [
    "marks_subject"
   ]
  },
  {
   "cell_type": "code",
   "execution_count": 75,
   "id": "e2be488d-5950-44a3-af74-b8c31715a547",
   "metadata": {},
   "outputs": [
    {
     "name": "stdout",
     "output_type": "stream",
     "text": [
      "total_marks: 398\n"
     ]
    }
   ],
   "source": [
    "marks=marks_subject[\"marks\"]\n",
    "total_marks=sum(marks)\n",
    "print(\"total_marks:\",total_marks)"
   ]
  },
  {
   "cell_type": "code",
   "execution_count": 76,
   "id": "a15ba564-b527-4b3b-af19-33b07e30640f",
   "metadata": {},
   "outputs": [],
   "source": [
    "percentage=total_marks/len(marks_subject[\"subject\"])"
   ]
  },
  {
   "cell_type": "code",
   "execution_count": 77,
   "id": "9bb09e74-7117-466c-a143-f7b33653f52d",
   "metadata": {},
   "outputs": [
    {
     "data": {
      "text/plain": [
       "79.6"
      ]
     },
     "execution_count": 77,
     "metadata": {},
     "output_type": "execute_result"
    }
   ],
   "source": [
    "percentage"
   ]
  },
  {
   "cell_type": "code",
   "execution_count": 78,
   "id": "00e690bc-f81a-4dca-bea4-9a232273e5d9",
   "metadata": {},
   "outputs": [
    {
     "name": "stdout",
     "output_type": "stream",
     "text": [
      "grade: B\n"
     ]
    }
   ],
   "source": [
    "if percentage>85:\n",
    "    print(\"grade:\",\"A\")\n",
    "elif percentage<85>=75:\n",
    "    print(\"grade:\",\"B\")\n",
    "elif percentage<75>=50:\n",
    "    print(\"grade:\",\"C\")\n",
    "elif percentage<50>=30:\n",
    "    print(\"grade:\",\"D\")\n",
    "else:\n",
    "    print(\"reappear\")"
   ]
  },
  {
   "cell_type": "code",
   "execution_count": null,
   "id": "3c2b5839-f949-4fcc-9efd-0d9031a573bc",
   "metadata": {},
   "outputs": [],
   "source": []
  },
  {
   "cell_type": "code",
   "execution_count": null,
   "id": "6bb88df0-bf87-4673-bf6e-d86aca7a346d",
   "metadata": {},
   "outputs": [],
   "source": []
  },
  {
   "cell_type": "code",
   "execution_count": null,
   "id": "044e6219-0693-4530-a30b-4ac7ebf7016b",
   "metadata": {},
   "outputs": [],
   "source": []
  }
 ],
 "metadata": {
  "kernelspec": {
   "display_name": "Python 3 (ipykernel)",
   "language": "python",
   "name": "python3"
  },
  "language_info": {
   "codemirror_mode": {
    "name": "ipython",
    "version": 3
   },
   "file_extension": ".py",
   "mimetype": "text/x-python",
   "name": "python",
   "nbconvert_exporter": "python",
   "pygments_lexer": "ipython3",
   "version": "3.10.8"
  }
 },
 "nbformat": 4,
 "nbformat_minor": 5
}
