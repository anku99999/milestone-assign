{
 "cells": [
  {
   "cell_type": "code",
   "execution_count": 31,
   "id": "181464c5-1ac9-43c8-9407-71b5e00d1e90",
   "metadata": {},
   "outputs": [],
   "source": [
    "# Write a program for VIBGYOR spectrum based on their wavelength using wavelength range:\n",
    "#  COLOR       WAVELENGTH\n",
    "#  VIOLET      400.0-440.0\n",
    "#  INDIGO      440.0-460.0\n",
    "#  BLUE        460.0-500.0\n",
    "#  GREEN       500.0-570.0\n",
    "#  YELLOW      570.0-590.0\n",
    "#  ORANGE      590.0-620.0\n",
    "#  RED         620.0-720.0"
   ]
  },
  {
   "cell_type": "code",
   "execution_count": 20,
   "id": "4ec405a8-04ec-4592-8225-7064d6cb7e4f",
   "metadata": {},
   "outputs": [
    {
     "name": "stdin",
     "output_type": "stream",
     "text": [
      "enter the wavelength :   567\n"
     ]
    },
    {
     "name": "stdout",
     "output_type": "stream",
     "text": [
      "GREEN\n"
     ]
    }
   ],
   "source": [
    "wavelength=int(input(\"enter the wavelength :  \"))\n",
    "if 400 <= wavelength < 440:\n",
    "    print(\"VIOLET\")\n",
    "elif 440 <= wavelength < 460:\n",
    "    print(\"INDIGO\")\n",
    "elif 460 <= wavelength < 500:\n",
    "    print(\"BLUE\")\n",
    "elif 500 <= wavelength < 570:\n",
    "    print(\"GREEN\")\n",
    "elif 570 <= wavelength < 590:\n",
    "    print(\"YELLOW\")\n",
    "elif 590 <= wavelength < 620:\n",
    "    print(\"ORANGE\")\n",
    "elif 620 <= wavelength < 720:\n",
    "    print(\"RED\")\n",
    "else:\n",
    "    print(\"THE COLOR DONOT FALL IN VIBGYOR SPECTRUM\")"
   ]
  },
  {
   "cell_type": "code",
   "execution_count": null,
   "id": "a4718456-ec61-461a-9d9a-3b4305f806e1",
   "metadata": {},
   "outputs": [],
   "source": [
    "#1.14.Consider the gravitational interactions between the Earth, Moon, and Sun in our solar system.\n",
    "#Given:\n",
    "#mass_earth = 5.972e24 # Mass of Earth in kilograms\n",
    "#mass_moon = 7.347 7309e22 # Mass of Moon in kilograms\n",
    "#mass_sun = 1.989e30 # Mass of Sun in kilograms\n",
    "#distance_earth_sun = 1.49 e11 # Average distance between Earth and Sun in meters\n",
    "#distance_moon_earth = 3.844e8 # Average distance between Moon and Earth in meters\n",
    "##Tasks\n",
    "#* Calculate the gravitational force between the Earth and the Sun\n",
    "#* Calculate the gravitational force between the Moon and the Earth\n",
    "#* Compare the calculated forces to determine which gravitational force is stronger\n",
    "#* Explain which celestial body (Earth or Moon) is more attracted to the other based on the comparison."
   ]
  },
  {
   "cell_type": "code",
   "execution_count": 21,
   "id": "3eb7780c-a940-4c19-9843-4a64b341e07a",
   "metadata": {},
   "outputs": [],
   "source": [
    "mass_earth=5.972e24\n",
    "mass_moon = 7.34767309e22\n",
    "mass_sun = 1.989e30\n",
    "distance_earth_sun = 1.496e11\n",
    "distance_moon_earth = 3.844e8"
   ]
  },
  {
   "cell_type": "code",
   "execution_count": 22,
   "id": "0dbd0fed-0dec-422b-ab1b-a779e61e6db4",
   "metadata": {},
   "outputs": [],
   "source": [
    "# we introduce universal gravitational constant\n",
    "G=6.67e-11"
   ]
  },
  {
   "cell_type": "code",
   "execution_count": 23,
   "id": "aaaafb31-ee88-4337-a790-c8bb8dab95e5",
   "metadata": {},
   "outputs": [],
   "source": [
    "force_earth_sun=(G*mass_earth*mass_sun)/(distance_earth_sun**2)"
   ]
  },
  {
   "cell_type": "code",
   "execution_count": 24,
   "id": "0570f290-8746-4c4c-8b22-43ca1267fc14",
   "metadata": {},
   "outputs": [],
   "source": [
    "force_moon_earth=(G*mass_earth*mass_moon)/(distance_moon_earth**2)"
   ]
  },
  {
   "cell_type": "code",
   "execution_count": 25,
   "id": "53b595b6-51e8-4af2-b2f4-0d09b74dc349",
   "metadata": {},
   "outputs": [
    {
     "name": "stdout",
     "output_type": "stream",
     "text": [
      "3.5401138490520174e+22\n"
     ]
    }
   ],
   "source": [
    "print(force_earth_sun)"
   ]
  },
  {
   "cell_type": "code",
   "execution_count": 26,
   "id": "5a1e5f35-b9a8-4d42-a28f-2a806b043ad3",
   "metadata": {},
   "outputs": [
    {
     "name": "stdout",
     "output_type": "stream",
     "text": [
      "1.9807456032098324e+20\n"
     ]
    }
   ],
   "source": [
    "print(force_moon_earth)"
   ]
  },
  {
   "cell_type": "code",
   "execution_count": 28,
   "id": "a730bd67-acce-4179-9792-e75824ebc579",
   "metadata": {},
   "outputs": [
    {
     "data": {
      "text/plain": [
       "True"
      ]
     },
     "execution_count": 28,
     "metadata": {},
     "output_type": "execute_result"
    }
   ],
   "source": [
    "force_earth_sun>force_moon_earth"
   ]
  },
  {
   "cell_type": "code",
   "execution_count": 29,
   "id": "fd15ca47-2b0e-42b0-a8d5-a4fc0b4040dd",
   "metadata": {},
   "outputs": [],
   "source": [
    "# Hence the gravitational force between earth and sun is greater than the gravitational force between moon and earth"
   ]
  },
  {
   "cell_type": "code",
   "execution_count": 30,
   "id": "0f180fd4-0e51-4dc5-aa0b-01d3438e0bb1",
   "metadata": {},
   "outputs": [],
   "source": [
    "#4. Design and implement a Python program for managing student information using object-oriented\n",
    "#principles. Create a class called `Student` with encapsulated attributes for name, age, and roll number.\n",
    "#Implement getter and setter methods for these attributes. Additionally, provide methods to display student\n",
    "#information and update student details.\n",
    "#Task\n",
    "#* Define the `Student` class with encapsulated attributes\n",
    "#* Implement getter and setter methods for the attributes\n",
    "#* Write methods to display student information and update details\n",
    "#* Create instances of the `Student` class and test the implemented functionality."
   ]
  },
  {
   "cell_type": "code",
   "execution_count": 60,
   "id": "b770971b-816e-403c-bd50-2620d0b1b879",
   "metadata": {},
   "outputs": [],
   "source": [
    "class Student:\n",
    "    def __init__(self,name,age,roll_number):\n",
    "        self.__name=name\n",
    "        self.__age=age\n",
    "        self.__roll_number=roll_number\n",
    "    def access_name(self):      # Impliment getter method\n",
    "        return self.__name\n",
    "    def access_age(self):\n",
    "        return self.__age\n",
    "    def access_roll_no(self):\n",
    "        return self.roll_number   # We provide access to these attributes\n",
    "    def set_name(self,name):      # Impliment setter method\n",
    "        self.__name=name\n",
    "    def set_age(self,age):\n",
    "        self.__age=age\n",
    "    def set_roll_no(self,roll_no):\n",
    "        self.roll_no=roll_no\n",
    "    def display_student_info(self):   # method to display student detail and after updating also display method\n",
    "        print(f\"Name: {self.__name}\")\n",
    "        print(f\"Age: {self.__age}\")\n",
    "        print(f\"Roll Number: {self.__roll_number}\")        "
   ]
  },
  {
   "cell_type": "code",
   "execution_count": 53,
   "id": "676e87e7-160d-477f-82d8-8bf5fa57832c",
   "metadata": {},
   "outputs": [],
   "source": [
    "student1=Student(\"Ankit\",28,12)"
   ]
  },
  {
   "cell_type": "code",
   "execution_count": 64,
   "id": "f95bc006-9275-436e-834d-d70d78b5c905",
   "metadata": {},
   "outputs": [
    {
     "name": "stdout",
     "output_type": "stream",
     "text": [
      "student1 information:\n",
      "Name: Abhishek\n",
      "Age: 28\n",
      "Roll Number: 12\n"
     ]
    }
   ],
   "source": [
    "print(\"student1 information:\")\n",
    "student1.display_student_info()"
   ]
  },
  {
   "cell_type": "code",
   "execution_count": 55,
   "id": "bab0012f-e57d-41af-895f-e66326422b90",
   "metadata": {},
   "outputs": [],
   "source": [
    "student1.set_name(\"Abhishek\")"
   ]
  },
  {
   "cell_type": "code",
   "execution_count": 65,
   "id": "1314e901-ceac-484c-8f4f-27aba31fe687",
   "metadata": {},
   "outputs": [
    {
     "name": "stdout",
     "output_type": "stream",
     "text": [
      "student1 updated information:\n",
      "Name: Abhishek\n",
      "Age: 28\n",
      "Roll Number: 12\n"
     ]
    }
   ],
   "source": [
    "print(\"student1 updated information:\")\n",
    "student1.display_student_info()   # updated info"
   ]
  },
  {
   "cell_type": "code",
   "execution_count": 66,
   "id": "ee25e9c0-f6bf-4307-a62f-426d5a9e2427",
   "metadata": {},
   "outputs": [],
   "source": [
    "# 3 .  Develop a python program for managing library resources efficiently. Design a class name 'LibraryBook'\n",
    "# with attributes like book name, author and availaibility status. Impliment method for borrowing and\n",
    "# returning book like ensuring proper encapsulation of attributes.\n",
    "# task\n",
    "# *  Create a 'LibraryBook' class with encapsulated attributes.\n",
    "# *  Impliment method for borrowing and returning book.\n",
    "# *  Ensure proper encapsulation to protect book details.\n",
    "# *  Test the borrowing and returning functionality with simple data."
   ]
  },
  {
   "cell_type": "code",
   "execution_count": 142,
   "id": "8789dbf2-301d-4d9a-8e04-ea10b219d256",
   "metadata": {},
   "outputs": [],
   "source": [
    "class LibraryBook:\n",
    "    def __init__(self,book_name,author):\n",
    "        self.__book_name=book_name\n",
    "        self.__author=author\n",
    "        self.__is_availaible=True\n",
    "        \n",
    "    def get_book_name(self):\n",
    "        return self.__book_name\n",
    "    def get_author_name(self):\n",
    "        return self.__author\n",
    "    def is_availaible(self):\n",
    "        return self.__is_availaible\n",
    "    \n",
    "    def borrow_book(self):\n",
    "        if self.__is_availaible:\n",
    "            self.__is_availaible=False\n",
    "            print(f\"the book {self.__book_name} has been borrowed\")\n",
    "        else:\n",
    "            print(f\"the book {self.__book_name} is currently not availaible\")\n",
    "    def return_book(self):\n",
    "        if not self.__is_availaible:\n",
    "            self.__is_availaible=True\n",
    "            print(f\"the book {self.__book_name} has been returned\")\n",
    "        else:\n",
    "            print(f\"the book {self.__book_name} was not borrowed\")\n",
    "book1=LibraryBook(\"Two states\",\"chetan bhagat\")\n",
    "book2=LibraryBook(\"the concept of physics\",\"HC verma\")"
   ]
  },
  {
   "cell_type": "code",
   "execution_count": 140,
   "id": "ff1d2137-cf5f-4376-ba5a-069917c74959",
   "metadata": {},
   "outputs": [
    {
     "name": "stdout",
     "output_type": "stream",
     "text": [
      "Book: Two states, Author: chetan bhagat, Available: False\n",
      "Book: the concept of physics, Author: HC verma, Available: True\n"
     ]
    }
   ],
   "source": [
    "print(f\"Book: {book1.get_book_name()}, Author: {book1.get_author_name()}, Available: {book1.is_availaible()}\")\n",
    "print(f\"Book: {book2.get_book_name()}, Author: {book2.get_author_name()}, Available: {book2.is_availaible()}\")"
   ]
  },
  {
   "cell_type": "code",
   "execution_count": 143,
   "id": "f0ed158d-840c-45cc-aee0-222384d1ef63",
   "metadata": {},
   "outputs": [
    {
     "name": "stdout",
     "output_type": "stream",
     "text": [
      "the book Two states has been borrowed\n"
     ]
    }
   ],
   "source": [
    "book1.borrow_book()"
   ]
  },
  {
   "cell_type": "code",
   "execution_count": 144,
   "id": "df489f61-6e7b-4107-b3f8-40dd1454498d",
   "metadata": {},
   "outputs": [
    {
     "name": "stdout",
     "output_type": "stream",
     "text": [
      "the book Two states has been returned\n"
     ]
    }
   ],
   "source": [
    "book1.return_book()"
   ]
  },
  {
   "cell_type": "code",
   "execution_count": 2,
   "id": "ddc10ba5-8671-4f3c-991c-c37c2bfda7ce",
   "metadata": {},
   "outputs": [],
   "source": [
    "#4.Create a simple banking system using object-oriented concepts in Python. Design classes representing\n",
    "# different types of bank accounts such as savings and checking. Implement methods for deposit, withdraw,\n",
    "#and balance inquiry. Utilize inheritance to manage different account types efficiently.\n",
    "# tasks\n",
    "# 1. Define base class(es) for bana accounts with common attributes and methods\n",
    "# 2. Implement subclasses for specific account types (e.g., SavingsAccount, CheckingAccount)\n",
    "# 3. Provide methods for deposit, withdraw, and balance inquiry in each subclass\n",
    "# 4. Test the banking system by creating instances of different account types and performing transactions. \"\"\""
   ]
  },
  {
   "cell_type": "code",
   "execution_count": 10,
   "id": "e9c74867-6972-46b0-a71d-543d7e0ad373",
   "metadata": {},
   "outputs": [],
   "source": [
    "class BankAccount:\n",
    "    def __init__(self,account_no,balance=0):  # open a new account\n",
    "        self.account_no=account_no\n",
    "        self.balance=balance\n",
    "    \n",
    "    def deposits(self,amount):\n",
    "        if amount>0:\n",
    "            self.balance += amount\n",
    "            print(f\"Deposited : {amount} ,Updated_balance : {self.balance}\")\n",
    "        else:\n",
    "            print(\"amount must be positive\")\n",
    "            \n",
    "    def withdraw(self,amount):\n",
    "        if amount>0:\n",
    "            if self.balance > amount:\n",
    "                self.balance -= amount\n",
    "                print(f\"withdrawl_amount : {amount} , updated_balance : {self.balance}\")\n",
    "            else:\n",
    "                print(\"Insufficient balabce\")\n",
    "        else:\n",
    "            print(\"amount must be positive\")\n",
    "        \n",
    "        \n",
    "    def get_balance(self):\n",
    "        print(f\"Account balance: {self.balance}\")\n",
    "        return self.balance\n",
    "    \n",
    "class SavingsAccount(BankAccount):\n",
    "    def __init__(self,account_no,balance=0,interest_rate=0.07):\n",
    "        self.account_no=account_no\n",
    "        self.balance=balance\n",
    "        self.interest_rate=interest_rate\n",
    "        \n",
    "    def add_interest(self):\n",
    "        interest = self.balance * self.interest_rate\n",
    "        print(f\"interest added : {interest} , updated_balance : {self.balance}\")\n",
    "        \n",
    "class CheckingAccount(BankAccount):\n",
    "    def __init__(self,account_no,balance=0,overdraft=0):\n",
    "        self.account_no=account_no\n",
    "        self.balance=balance\n",
    "        self.overdraft=overdraft\n",
    "        \n",
    "    def withdraw(self, amount):\n",
    "        if amount > 0:\n",
    "            if self.balance + self.overdraft_limit >= amount:\n",
    "                self.balance -= amount\n",
    "                print(f\"Withdrew {amount}. New balance: {self.balance}\")\n",
    "            else:\n",
    "                print(\"Insufficient funds, including overdraft limit.\")\n",
    "        else:\n",
    "            print(\"Withdrawal amount must be positive\")        "
   ]
  },
  {
   "cell_type": "code",
   "execution_count": 11,
   "id": "b6c0ef1b-37b0-41fb-aa48-20b82e4f788a",
   "metadata": {},
   "outputs": [],
   "source": [
    "# 5.Write a Python program that models different animals and their sounds. Design a base class called\n",
    "#`Animal` with a method `make_sound()`. Create subclasses like `Dog` and `Cat` that override the\n",
    "#`make_sound()` method to produce appropriate sounds.\n",
    "#Tasks\n",
    "# 1. Define the `Animal` class with a method `make_sound()`\n",
    "# 2. Create subclasses `Dog` and `Cat` that override the `make_sound()` method\n",
    "# 3. Implement the sound generation logic for each subclass\n",
    "# 4. Test the program by creating instances of `Dog` and `Cat` and calling the `make_sound()` method."
   ]
  },
  {
   "cell_type": "code",
   "execution_count": 18,
   "id": "9f23fd56-9b38-42c6-965c-dcf879610a44",
   "metadata": {},
   "outputs": [],
   "source": [
    "class Animal:\n",
    "    def make_sound(self):\n",
    "        return \"animal_sound\"\n",
    "class Dog(Animal):\n",
    "    def make_sound(self):\n",
    "        return \"Bark\"\n",
    "class Cat(Animal):\n",
    "    def make_sound(self):\n",
    "        return \"meow\""
   ]
  },
  {
   "cell_type": "code",
   "execution_count": 19,
   "id": "a7b95fdf-acf3-4821-aef9-eb07d0ad1c96",
   "metadata": {},
   "outputs": [],
   "source": [
    "c=Cat()"
   ]
  },
  {
   "cell_type": "code",
   "execution_count": 21,
   "id": "e0e8c86d-9245-4c0f-b3c7-217397fd8442",
   "metadata": {},
   "outputs": [
    {
     "data": {
      "text/plain": [
       "'meow'"
      ]
     },
     "execution_count": 21,
     "metadata": {},
     "output_type": "execute_result"
    }
   ],
   "source": [
    "c.make_sound()    # Here make_sound attribute belongs to the parent class Animal but once we define\n",
    "                  # child class Cat and Dog that overides that attributes"
   ]
  },
  {
   "cell_type": "code",
   "execution_count": 22,
   "id": "d7fda7ba-8e0a-4223-b555-356353fe8c02",
   "metadata": {},
   "outputs": [],
   "source": [
    "d=Dog()"
   ]
  },
  {
   "cell_type": "code",
   "execution_count": 24,
   "id": "284c5f4e-7d68-40f6-80ea-cf8c183002a0",
   "metadata": {},
   "outputs": [
    {
     "data": {
      "text/plain": [
       "'Bark'"
      ]
     },
     "execution_count": 24,
     "metadata": {},
     "output_type": "execute_result"
    }
   ],
   "source": [
    "d.make_sound()"
   ]
  },
  {
   "cell_type": "code",
   "execution_count": null,
   "id": "75488f0f-30b7-4cd0-a132-eebfef9a5b40",
   "metadata": {},
   "outputs": [],
   "source": []
  }
 ],
 "metadata": {
  "kernelspec": {
   "display_name": "Python 3 (ipykernel)",
   "language": "python",
   "name": "python3"
  },
  "language_info": {
   "codemirror_mode": {
    "name": "ipython",
    "version": 3
   },
   "file_extension": ".py",
   "mimetype": "text/x-python",
   "name": "python",
   "nbconvert_exporter": "python",
   "pygments_lexer": "ipython3",
   "version": "3.10.8"
  }
 },
 "nbformat": 4,
 "nbformat_minor": 5
}
