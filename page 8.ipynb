{
 "cells": [
  {
   "cell_type": "code",
   "execution_count": 1,
   "id": "f750f569-eef1-4198-88c9-cc3e4f9df7f5",
   "metadata": {},
   "outputs": [],
   "source": [
    "# 11. Define a Python module named constants.py containing constants like pi and the speed of light.\n",
    "from constant import PI"
   ]
  },
  {
   "cell_type": "code",
   "execution_count": 3,
   "id": "7998dec8-1893-4a7e-9d6e-5ef75405717e",
   "metadata": {},
   "outputs": [],
   "source": [
    "# area of circle with radius = 8\n",
    "radius = 8\n",
    "area_of_circle = PI * radius ** 2"
   ]
  },
  {
   "cell_type": "code",
   "execution_count": 4,
   "id": "93a4a7ec-e23e-4511-858b-7262c9de76a7",
   "metadata": {},
   "outputs": [
    {
     "data": {
      "text/plain": [
       "200.96"
      ]
     },
     "execution_count": 4,
     "metadata": {},
     "output_type": "execute_result"
    }
   ],
   "source": [
    "area_of_circle"
   ]
  },
  {
   "cell_type": "code",
   "execution_count": 5,
   "id": "c790ef06-7848-4370-8570-eecd82cf9a0f",
   "metadata": {},
   "outputs": [],
   "source": [
    "#  12. Write a Python module named calculator.py containing functions for addition, subtraction,\n",
    "#   multiplication, and division."
   ]
  },
  {
   "cell_type": "code",
   "execution_count": 6,
   "id": "f0283b11-86d9-4dcc-a467-13354a227108",
   "metadata": {},
   "outputs": [],
   "source": [
    "from calculator import addition"
   ]
  },
  {
   "cell_type": "code",
   "execution_count": 8,
   "id": "033b7a36-f0b2-42e6-ba9e-dcf16cb6cc42",
   "metadata": {},
   "outputs": [],
   "source": [
    "add=addition(2,6)"
   ]
  },
  {
   "cell_type": "code",
   "execution_count": 9,
   "id": "884ba2f2-9b74-438c-96f8-f6c86bf8f6b4",
   "metadata": {},
   "outputs": [
    {
     "data": {
      "text/plain": [
       "8"
      ]
     },
     "execution_count": 9,
     "metadata": {},
     "output_type": "execute_result"
    }
   ],
   "source": [
    "add"
   ]
  },
  {
   "cell_type": "code",
   "execution_count": 10,
   "id": "acad2e11-4694-406f-ac4a-f7cdc3707074",
   "metadata": {},
   "outputs": [],
   "source": [
    "# 13. Implement a Python package structure for a project named ecommerce, containing modules for product\n",
    "# management and order processing."
   ]
  },
  {
   "cell_type": "code",
   "execution_count": 42,
   "id": "d2d0a6bd-3b07-44ac-a323-ed1c969476da",
   "metadata": {},
   "outputs": [],
   "source": [
    "#14. Implement a Python module named string_utils.py containing functions for string manipulation, such as\n",
    "# reversing and capitalizing strings.\n",
    "from string_util import reverse"
   ]
  },
  {
   "cell_type": "code",
   "execution_count": 43,
   "id": "6d7c21c6-8c67-4af5-840b-e4c51fddaa19",
   "metadata": {},
   "outputs": [
    {
     "data": {
      "text/plain": [
       "'tikna'"
      ]
     },
     "execution_count": 43,
     "metadata": {},
     "output_type": "execute_result"
    }
   ],
   "source": [
    "reverse(\"ankit\")"
   ]
  },
  {
   "cell_type": "code",
   "execution_count": 1,
   "id": "255d05b8-8993-4cb4-9445-ddc7084682bd",
   "metadata": {},
   "outputs": [],
   "source": [
    "from string_util import swap"
   ]
  },
  {
   "cell_type": "code",
   "execution_count": 2,
   "id": "df124720-8d06-4a2d-81b3-4c4a6ae678c9",
   "metadata": {},
   "outputs": [
    {
     "data": {
      "text/plain": [
       "'ANKIT'"
      ]
     },
     "execution_count": 2,
     "metadata": {},
     "output_type": "execute_result"
    }
   ],
   "source": [
    "swap(\"ankit\")"
   ]
  },
  {
   "cell_type": "code",
   "execution_count": 3,
   "id": "7157077e-00dc-412c-bfe4-7a8c43507b00",
   "metadata": {},
   "outputs": [],
   "source": [
    "#15 . Write a Python module named file_operations.py with functions for reading, writing, and appending\n",
    "#  data to a file."
   ]
  },
  {
   "cell_type": "code",
   "execution_count": 4,
   "id": "d2856bc8-f6bf-421c-ab22-5dd195c24427",
   "metadata": {},
   "outputs": [],
   "source": [
    "from file_operations import read_file"
   ]
  },
  {
   "cell_type": "code",
   "execution_count": 8,
   "id": "a91dc288-8014-4a8f-81c5-aa764d724b10",
   "metadata": {},
   "outputs": [],
   "source": [
    "l=read_file(\"players.csv\")   # file is very big so I store with data set \"l\""
   ]
  },
  {
   "cell_type": "code",
   "execution_count": 9,
   "id": "20ae7b59-177d-4059-af5c-9da013abc776",
   "metadata": {},
   "outputs": [],
   "source": [
    "# 16. Write a Python program to create a text file named \"employees.txt\" and write the details of employees,\n",
    "#   including their name, age, and salary, into the file."
   ]
  },
  {
   "cell_type": "code",
   "execution_count": 11,
   "id": "b70a0452-32e9-4db2-bcaf-e03ec480bd17",
   "metadata": {},
   "outputs": [],
   "source": [
    "def employee_detail(file_name,employees):\n",
    "    with open(file_name,\"w\") as file:\n",
    "        for employee in employees:\n",
    "            line = f\" Name : {employee['name']}, Age : {employee['age']} , Salary : {employee['salary']}\\n\"\n",
    "            file.write(line)"
   ]
  },
  {
   "cell_type": "code",
   "execution_count": 20,
   "id": "4eed318d-2a33-4edb-a2e9-4f4c1afad1f7",
   "metadata": {},
   "outputs": [
    {
     "name": "stdout",
     "output_type": "stream",
     "text": [
      "Employee details have been written to employees.txt\n"
     ]
    }
   ],
   "source": [
    "employees = [\n",
    "    {'name': 'Ankit', 'age': 30, 'salary': 70000},\n",
    "    {'name': 'Anupam', 'age': 25, 'salary': 55000},\n",
    "    {'name': 'Ashish', 'age': 35, 'salary': 80000},\n",
    "    {'name': 'Bittu', 'age': 40, 'salary': 95000}\n",
    "]\n"
   ]
  },
  {
   "cell_type": "code",
   "execution_count": 21,
   "id": "121aa0ca-e640-4827-907f-1165a6a2cc8f",
   "metadata": {},
   "outputs": [],
   "source": [
    "file_name = 'employees.txt'"
   ]
  },
  {
   "cell_type": "code",
   "execution_count": 22,
   "id": "2b2c9ab6-4324-4bb7-b640-6e20b287e940",
   "metadata": {},
   "outputs": [],
   "source": [
    "employee_detail('employees.txt',employees)"
   ]
  },
  {
   "cell_type": "code",
   "execution_count": 24,
   "id": "03155fb9-b2b2-4b00-a58a-c40e4d892b08",
   "metadata": {},
   "outputs": [
    {
     "name": "stdout",
     "output_type": "stream",
     "text": [
      "Employee details have been written to employees.txt\n"
     ]
    }
   ],
   "source": [
    "print(f\"Employee details have been written to {file_name}\")"
   ]
  },
  {
   "cell_type": "code",
   "execution_count": 25,
   "id": "6ad9504f-0a07-4ef5-b7f2-339d847810a8",
   "metadata": {},
   "outputs": [],
   "source": [
    "#17. Develop a Python script that opens an existing text file named \"inventory.txt\" in read mode and displays\n",
    "#  the contents of the file line by line."
   ]
  },
  {
   "cell_type": "code",
   "execution_count": 10,
   "id": "f7ed6b84-7be1-4272-bdfa-4a6c4143a275",
   "metadata": {},
   "outputs": [
    {
     "name": "stdout",
     "output_type": "stream",
     "text": [
      "item_name : suspension      total_item : 400      item_used : 220        item_remaining : 180\n",
      "\n",
      "item_name : gear            total_item : 1000     item_used : 280        item_remaining : 720\n",
      "\n",
      "item_name : brake_shoe      total_item : 2000     item_used : 1230       item_remaining : 770\n",
      "\n",
      "item_name : wheels          total_item : 200      item_used : 190        item_remaining : 10\n",
      "\n",
      "item_name : nut             total_item : 10000    item_used : 7000       item_remaining : 13000\n",
      "\n",
      "item_name : bolt            total_item : 10000    item_used : 7000       item_remaining : 3000\n",
      "\n",
      "item_name : steering_wheel  total_item : 120      item_used : 80         item_remaining : 40\n",
      "\n",
      "item_name : sensor          total_item : 20000    item_used : 12000      item_remaining : 8000\n"
     ]
    }
   ],
   "source": [
    "file = open(\"inventory.txt\",\"r\")\n",
    "for i in file:\n",
    "    print(i)"
   ]
  },
  {
   "cell_type": "code",
   "execution_count": 11,
   "id": "5f9dc19d-3684-4897-bd83-1ab98b2dd945",
   "metadata": {},
   "outputs": [],
   "source": [
    "# 18. Create a Python script that reads a text file named \"expenses.txt\" and calculates the total amount spent\n",
    "#  on various expenses listed in the file."
   ]
  },
  {
   "cell_type": "code",
   "execution_count": 20,
   "id": "0f16e8e7-a0a5-4c4f-ab3a-45d467f170c1",
   "metadata": {},
   "outputs": [],
   "source": [
    "def cal_tot_expense(file_name):\n",
    "    total_expense = 0\n",
    "    try:\n",
    "        with open(file_name,\"r\") as file :\n",
    "            for line in file :\n",
    "                parts = line.strip().split(\":\")\n",
    "                if len(parts) == 2 :\n",
    "                    amount = float(parts[1].strip())\n",
    "                    total_expense += amount\n",
    "    except FileNotFoundError :\n",
    "        print(f\"file not found : {file_name}\")\n",
    "    except ValueError as e :\n",
    "        print(f\"Error processing line: {line.strip()} - {e}\")\n",
    "        \n",
    "    return total_expense   "
   ]
  },
  {
   "cell_type": "code",
   "execution_count": 21,
   "id": "6fbbaec0-5618-407d-bc5a-574220a5f03f",
   "metadata": {},
   "outputs": [
    {
     "data": {
      "text/plain": [
       "17000.0"
      ]
     },
     "execution_count": 21,
     "metadata": {},
     "output_type": "execute_result"
    }
   ],
   "source": [
    "cal_tot_expense(\"expenses.txt\")"
   ]
  },
  {
   "cell_type": "code",
   "execution_count": 22,
   "id": "5a94d0d3-b9bc-4e08-89e7-331fd514907e",
   "metadata": {},
   "outputs": [],
   "source": [
    "# 19. Create a Python program that reads a text file named \"paragraph.txt\" and counts the occurrences of\n",
    "#  each word in the paragraph, displaying the results in alphabetical order."
   ]
  },
  {
   "cell_type": "code",
   "execution_count": 23,
   "id": "4eb0021f-e4b1-4ece-ab46-1bea3ba0303d",
   "metadata": {},
   "outputs": [
    {
     "name": "stdout",
     "output_type": "stream",
     "text": [
      "a: 1\n",
      "about: 1\n",
      "activate: 1\n",
      "and: 4\n",
      "are: 2\n",
      "attention: 1\n",
      "benefits: 1\n",
      "best: 2\n",
      "can: 1\n",
      "child: 1\n",
      "children: 1\n",
      "during: 1\n",
      "easy: 1\n",
      "english: 2\n",
      "entertain: 1\n",
      "entire: 1\n",
      "familiarise: 1\n",
      "focused: 1\n",
      "for: 2\n",
      "fun: 1\n",
      "happy: 1\n",
      "help: 1\n",
      "however: 1\n",
      "ideal: 1\n",
      "imagination: 1\n",
      "in: 3\n",
      "is: 1\n",
      "its: 1\n",
      "keeping: 1\n",
      "kid: 1\n",
      "kids: 1\n",
      "lesson: 1\n",
      "lessons: 1\n",
      "life: 1\n",
      "maintaining: 1\n",
      "make: 1\n",
      "moral: 6\n",
      "of: 1\n",
      "part: 1\n",
      "plenty: 1\n",
      "reading: 1\n",
      "repetitively: 1\n",
      "rich: 1\n",
      "s: 1\n",
      "same: 1\n",
      "short: 1\n",
      "stories: 5\n",
      "story: 2\n",
      "teach: 2\n",
      "that: 1\n",
      "the: 5\n",
      "their: 1\n",
      "them: 5\n",
      "themselves: 1\n",
      "there: 1\n",
      "they: 2\n",
      "to: 2\n",
      "truths: 1\n",
      "universal: 1\n",
      "way: 1\n",
      "will: 1\n",
      "with: 2\n",
      "your: 3\n"
     ]
    }
   ],
   "source": [
    "import re\n",
    "from collections import Counter\n",
    "\n",
    "def read_paragraph(file_path):\n",
    "    \"\"\"\n",
    "    Read the content of the text file.\n",
    "\n",
    "    Parameters:\n",
    "    file_path (str): The path to the text file.\n",
    "\n",
    "    Returns:\n",
    "    str: The content of the text file.\n",
    "    \"\"\"\n",
    "    try:\n",
    "        with open(file_path, 'r') as file:\n",
    "            return file.read()\n",
    "    except FileNotFoundError:\n",
    "        print(f\"File not found: {file_path}\")\n",
    "        return \"\"\n",
    "\n",
    "def count_words(text):\n",
    "    \"\"\"\n",
    "    Count the occurrences of each word in the text.\n",
    "\n",
    "    Parameters:\n",
    "    text (str): The text to be processed.\n",
    "\n",
    "    Returns:\n",
    "    dict: A dictionary with words as keys and their counts as values.\n",
    "    \"\"\"\n",
    "    words = re.findall(r'\\b\\w+\\b', text.lower())\n",
    "    return Counter(words)\n",
    "\n",
    "def display_word_counts(word_counts):\n",
    "    \"\"\"\n",
    "    Display the word counts in alphabetical order.\n",
    "\n",
    "    Parameters:\n",
    "    word_counts (dict): A dictionary with words as keys and their counts as values.\n",
    "    \"\"\"\n",
    "    for word in sorted(word_counts):\n",
    "        print(f\"{word}: {word_counts[word]}\")\n",
    "\n",
    "# Specify the file path\n",
    "file_path = 'paragraph.txt'\n",
    "\n",
    "# Read the paragraph from the file\n",
    "paragraph = read_paragraph(file_path)\n",
    "\n",
    "# Count the words in the paragraph\n",
    "word_counts = count_words(paragraph)\n",
    "\n",
    "# Display the word counts in alphabetical order\n",
    "display_word_counts(word_counts)\n"
   ]
  },
  {
   "cell_type": "code",
   "execution_count": 25,
   "id": "0a8845c3-fbc3-4e77-b81c-5cb1d75196fb",
   "metadata": {},
   "outputs": [],
   "source": [
    "# 20. What do you mean by Measure of Central Tendency and Measures of Dispersion .How it can be\n",
    "#   calculated."
   ]
  },
  {
   "cell_type": "code",
   "execution_count": 26,
   "id": "53935068-03f4-4310-b164-8b784f87fcb0",
   "metadata": {},
   "outputs": [],
   "source": [
    "# measure of central tendency is actually one number that summarize the whole data.\n",
    "# measure of central tendency basically is the center point of the dataset.\n",
    "# CT is mean , median , mode"
   ]
  },
  {
   "cell_type": "code",
   "execution_count": 27,
   "id": "a1046e8c-bbc4-4e32-8a24-aed72a824a77",
   "metadata": {},
   "outputs": [],
   "source": [
    "import pandas as pd"
   ]
  },
  {
   "cell_type": "code",
   "execution_count": 29,
   "id": "702c05fd-6ffa-4c43-a49f-50f6a7e6dc5a",
   "metadata": {},
   "outputs": [],
   "source": [
    "file = pd.DataFrame({ \"subject\" : [\"eng\",\"hindi\",\"maths\",\"sci\",\"sst\"] , \"marks\" : [72,67,98,98,88]})"
   ]
  },
  {
   "cell_type": "code",
   "execution_count": 30,
   "id": "bce1dc85-e0b4-4f3f-93cb-b8f8d86b4fc7",
   "metadata": {},
   "outputs": [
    {
     "data": {
      "text/html": [
       "<div>\n",
       "<style scoped>\n",
       "    .dataframe tbody tr th:only-of-type {\n",
       "        vertical-align: middle;\n",
       "    }\n",
       "\n",
       "    .dataframe tbody tr th {\n",
       "        vertical-align: top;\n",
       "    }\n",
       "\n",
       "    .dataframe thead th {\n",
       "        text-align: right;\n",
       "    }\n",
       "</style>\n",
       "<table border=\"1\" class=\"dataframe\">\n",
       "  <thead>\n",
       "    <tr style=\"text-align: right;\">\n",
       "      <th></th>\n",
       "      <th>subject</th>\n",
       "      <th>marks</th>\n",
       "    </tr>\n",
       "  </thead>\n",
       "  <tbody>\n",
       "    <tr>\n",
       "      <th>0</th>\n",
       "      <td>eng</td>\n",
       "      <td>72</td>\n",
       "    </tr>\n",
       "    <tr>\n",
       "      <th>1</th>\n",
       "      <td>hindi</td>\n",
       "      <td>67</td>\n",
       "    </tr>\n",
       "    <tr>\n",
       "      <th>2</th>\n",
       "      <td>maths</td>\n",
       "      <td>98</td>\n",
       "    </tr>\n",
       "    <tr>\n",
       "      <th>3</th>\n",
       "      <td>sci</td>\n",
       "      <td>98</td>\n",
       "    </tr>\n",
       "    <tr>\n",
       "      <th>4</th>\n",
       "      <td>sst</td>\n",
       "      <td>88</td>\n",
       "    </tr>\n",
       "  </tbody>\n",
       "</table>\n",
       "</div>"
      ],
      "text/plain": [
       "  subject  marks\n",
       "0     eng     72\n",
       "1   hindi     67\n",
       "2   maths     98\n",
       "3     sci     98\n",
       "4     sst     88"
      ]
     },
     "execution_count": 30,
     "metadata": {},
     "output_type": "execute_result"
    }
   ],
   "source": [
    "file"
   ]
  },
  {
   "cell_type": "code",
   "execution_count": 32,
   "id": "5f6a5457-29d5-4e05-9457-ff51323c2132",
   "metadata": {},
   "outputs": [],
   "source": [
    "import numpy as np\n",
    "import pandas as pd\n",
    "import statistics as st"
   ]
  },
  {
   "cell_type": "code",
   "execution_count": 33,
   "id": "6fbabb6e-cc8f-4578-878b-aea0e27fb1ed",
   "metadata": {},
   "outputs": [],
   "source": [
    "#lets claculate measure of central tendency"
   ]
  },
  {
   "cell_type": "code",
   "execution_count": 35,
   "id": "99451d41-d4c6-44ff-ac4a-4301f628d63d",
   "metadata": {},
   "outputs": [],
   "source": [
    "#mean\n",
    "mean = np.mean(file[\"marks\"])\n",
    "median = np.median(file[\"marks\"])\n",
    "mode = st.mode(file[\"marks\"])"
   ]
  },
  {
   "cell_type": "code",
   "execution_count": 38,
   "id": "fde1f955-5322-430e-8a45-dd7de86f53cd",
   "metadata": {},
   "outputs": [
    {
     "name": "stdout",
     "output_type": "stream",
     "text": [
      " mean : 84.6 , median : 88.0 , mode : 98\n"
     ]
    }
   ],
   "source": [
    "print(f\" mean : {mean} , median : {median} , mode : {mode}\" )"
   ]
  },
  {
   "cell_type": "code",
   "execution_count": 39,
   "id": "d04da24a-3fd3-4fce-9b28-b0618a024823",
   "metadata": {},
   "outputs": [],
   "source": [
    "# Measure of dispersion emphasis on the whoke data set\n",
    "# measure of dispersion is\n",
    "# Range\n",
    "# percentile\n",
    "# quartiles\n",
    "# variance\n",
    "# standard deviation"
   ]
  },
  {
   "cell_type": "code",
   "execution_count": 42,
   "id": "34f38a8a-5084-47b8-998a-7d7e2cab4aee",
   "metadata": {},
   "outputs": [
    {
     "data": {
      "text/plain": [
       "31"
      ]
     },
     "execution_count": 42,
     "metadata": {},
     "output_type": "execute_result"
    }
   ],
   "source": [
    "# lets calculate the measure of dispersion\n",
    "range_file = max(file[\"marks\"])-min(file[\"marks\"])\n",
    "range_file"
   ]
  },
  {
   "cell_type": "code",
   "execution_count": 47,
   "id": "b14c5d2f-719a-4d28-aecd-7c267f2c0216",
   "metadata": {},
   "outputs": [],
   "source": [
    "variance = np.var(file[\"marks\"])"
   ]
  },
  {
   "cell_type": "code",
   "execution_count": 48,
   "id": "5f437ec4-ffa0-436d-b49c-c95b86f6c8ec",
   "metadata": {},
   "outputs": [
    {
     "data": {
      "text/plain": [
       "167.84"
      ]
     },
     "execution_count": 48,
     "metadata": {},
     "output_type": "execute_result"
    }
   ],
   "source": [
    "variance"
   ]
  },
  {
   "cell_type": "code",
   "execution_count": 49,
   "id": "2681d178-3bac-4e07-a211-b40449bc6ce1",
   "metadata": {},
   "outputs": [],
   "source": [
    "standard_dev = np.std(file[\"marks\"])"
   ]
  },
  {
   "cell_type": "code",
   "execution_count": 50,
   "id": "c43b840c-8c07-413f-b175-fa9e2b9575c2",
   "metadata": {},
   "outputs": [
    {
     "data": {
      "text/plain": [
       "12.955307792561317"
      ]
     },
     "execution_count": 50,
     "metadata": {},
     "output_type": "execute_result"
    }
   ],
   "source": [
    "standard_dev"
   ]
  },
  {
   "cell_type": "code",
   "execution_count": 51,
   "id": "f4dcbc6e-e87b-466e-9a0a-f014b29ccabc",
   "metadata": {},
   "outputs": [],
   "source": [
    "quartile_1 = np.percentile(file[\"marks\"],25)"
   ]
  },
  {
   "cell_type": "code",
   "execution_count": 52,
   "id": "cc871b42-505d-4148-be91-d24779e93498",
   "metadata": {},
   "outputs": [
    {
     "data": {
      "text/plain": [
       "72.0"
      ]
     },
     "execution_count": 52,
     "metadata": {},
     "output_type": "execute_result"
    }
   ],
   "source": [
    "percentile_25"
   ]
  },
  {
   "cell_type": "code",
   "execution_count": 53,
   "id": "5a85a846-20b4-4c57-820b-cd720d232bf7",
   "metadata": {},
   "outputs": [],
   "source": [
    "quartile_3 = np.percentile(file[\"marks\"],75)"
   ]
  },
  {
   "cell_type": "code",
   "execution_count": 54,
   "id": "56ae84ee-0d75-4ae7-b422-bf126c1e72ee",
   "metadata": {},
   "outputs": [
    {
     "data": {
      "text/plain": [
       "98.0"
      ]
     },
     "execution_count": 54,
     "metadata": {},
     "output_type": "execute_result"
    }
   ],
   "source": [
    "percentile_75"
   ]
  },
  {
   "cell_type": "code",
   "execution_count": 55,
   "id": "5aee1b83-2fba-45ed-9bf3-f4517de48c04",
   "metadata": {},
   "outputs": [],
   "source": [
    "quartile_3 = np.percentile(file[\"marks\"],50)"
   ]
  },
  {
   "cell_type": "code",
   "execution_count": 56,
   "id": "5c9b00b9-72b5-431b-b0de-a7ddc64a13c4",
   "metadata": {},
   "outputs": [
    {
     "data": {
      "text/plain": [
       "88.0"
      ]
     },
     "execution_count": 56,
     "metadata": {},
     "output_type": "execute_result"
    }
   ],
   "source": [
    "quartile_3"
   ]
  },
  {
   "cell_type": "code",
   "execution_count": 57,
   "id": "a3c674fa-4d32-4b39-a67b-bd5ac442433e",
   "metadata": {},
   "outputs": [],
   "source": [
    "# 21. What do you mean by skewness.Explain its types.Use graph to show."
   ]
  },
  {
   "cell_type": "code",
   "execution_count": 58,
   "id": "93702a90-30a7-4b84-976d-453b6a47643d",
   "metadata": {},
   "outputs": [],
   "source": [
    "# skewness is basically the measure of data symmetry\n",
    "# if data is completely symmetric , the skewness is 0\n",
    "# other type of skewness \n",
    "# positive skewness\n",
    "# negative skewness"
   ]
  },
  {
   "cell_type": "code",
   "execution_count": 60,
   "id": "4624bc54-f788-4c6a-ac91-bdabc21ae937",
   "metadata": {},
   "outputs": [],
   "source": [
    "# positive skewness is when graph is skewed toward the positive side\n",
    "data= pd.DataFrame({\"index\" : ['a','b','c','d','e','f','g','h'] , \"no\" : [23,32,88,89,91,90,96,99]})"
   ]
  },
  {
   "cell_type": "code",
   "execution_count": 61,
   "id": "16fa3bbc-2517-4dcc-9ef2-3d1e5093d390",
   "metadata": {},
   "outputs": [
    {
     "data": {
      "text/html": [
       "<div>\n",
       "<style scoped>\n",
       "    .dataframe tbody tr th:only-of-type {\n",
       "        vertical-align: middle;\n",
       "    }\n",
       "\n",
       "    .dataframe tbody tr th {\n",
       "        vertical-align: top;\n",
       "    }\n",
       "\n",
       "    .dataframe thead th {\n",
       "        text-align: right;\n",
       "    }\n",
       "</style>\n",
       "<table border=\"1\" class=\"dataframe\">\n",
       "  <thead>\n",
       "    <tr style=\"text-align: right;\">\n",
       "      <th></th>\n",
       "      <th>index</th>\n",
       "      <th>no</th>\n",
       "    </tr>\n",
       "  </thead>\n",
       "  <tbody>\n",
       "    <tr>\n",
       "      <th>0</th>\n",
       "      <td>a</td>\n",
       "      <td>23</td>\n",
       "    </tr>\n",
       "    <tr>\n",
       "      <th>1</th>\n",
       "      <td>b</td>\n",
       "      <td>32</td>\n",
       "    </tr>\n",
       "    <tr>\n",
       "      <th>2</th>\n",
       "      <td>c</td>\n",
       "      <td>88</td>\n",
       "    </tr>\n",
       "    <tr>\n",
       "      <th>3</th>\n",
       "      <td>d</td>\n",
       "      <td>89</td>\n",
       "    </tr>\n",
       "    <tr>\n",
       "      <th>4</th>\n",
       "      <td>e</td>\n",
       "      <td>91</td>\n",
       "    </tr>\n",
       "    <tr>\n",
       "      <th>5</th>\n",
       "      <td>f</td>\n",
       "      <td>90</td>\n",
       "    </tr>\n",
       "    <tr>\n",
       "      <th>6</th>\n",
       "      <td>g</td>\n",
       "      <td>96</td>\n",
       "    </tr>\n",
       "    <tr>\n",
       "      <th>7</th>\n",
       "      <td>h</td>\n",
       "      <td>99</td>\n",
       "    </tr>\n",
       "  </tbody>\n",
       "</table>\n",
       "</div>"
      ],
      "text/plain": [
       "  index  no\n",
       "0     a  23\n",
       "1     b  32\n",
       "2     c  88\n",
       "3     d  89\n",
       "4     e  91\n",
       "5     f  90\n",
       "6     g  96\n",
       "7     h  99"
      ]
     },
     "execution_count": 61,
     "metadata": {},
     "output_type": "execute_result"
    }
   ],
   "source": [
    "data"
   ]
  },
  {
   "cell_type": "code",
   "execution_count": 69,
   "id": "d58106f2-2794-4ef5-b96d-48baa02a0b46",
   "metadata": {},
   "outputs": [],
   "source": [
    "import seaborn as sns\n",
    "import warnings\n",
    "warnings.simplefilter(\"ignore\")"
   ]
  },
  {
   "cell_type": "code",
   "execution_count": 70,
   "id": "c227537d-1905-4f93-bb7b-d3a8b6fc40d5",
   "metadata": {},
   "outputs": [
    {
     "data": {
      "image/png": "[encoded data removed]",
      "text/plain": [
       "<Figure size 640x480 with 1 Axes>"
      ]
     },
     "metadata": {},
     "output_type": "display_data"
    }
   ],
   "source": [
    "plot = sns.distplot(data[\"no\"])   # the graph is bend toward the right"
   ]
  },
  {
   "cell_type": "code",
   "execution_count": 71,
   "id": "0183b439-b10d-4851-84dc-15024aca7d92",
   "metadata": {},
   "outputs": [],
   "source": [
    "# negative skeness is when graph distribue toward the left"
   ]
  },
  {
   "cell_type": "code",
   "execution_count": 73,
   "id": "3603c798-d39d-4f86-ad86-76582fde2455",
   "metadata": {},
   "outputs": [],
   "source": [
    "data1= pd.DataFrame({\"index\" : ['a','b','c','d','e','f','g','h'] , \"no\" : [23,32,45,33,38,90,96,99]})"
   ]
  },
  {
   "cell_type": "code",
   "execution_count": 74,
   "id": "f1ab8dee-3e66-49fd-9da7-73346196d8f8",
   "metadata": {},
   "outputs": [
    {
     "data": {
      "text/plain": [
       "<AxesSubplot: xlabel='no', ylabel='Density'>"
      ]
     },
     "execution_count": 74,
     "metadata": {},
     "output_type": "execute_result"
    },
    {
     "data": {
      "image/png": "[encoded data removed]",
      "text/plain": [
       "<Figure size 640x480 with 1 Axes>"
      ]
     },
     "metadata": {},
     "output_type": "display_data"
    }
   ],
   "source": [
    "sns.distplot(data1[\"no\"])"
   ]
  },
  {
   "cell_type": "code",
   "execution_count": 75,
   "id": "18a0a252-1f74-4704-8642-4f2b934edf96",
   "metadata": {},
   "outputs": [],
   "source": [
    "# 22. Explain PROBABILITY MASS FUNCTION (PMF) and PROBABILITY DENSITY FUNCTION (PDF). and what is the\n",
    "#   difference between them?"
   ]
  },
  {
   "cell_type": "code",
   "execution_count": 76,
   "id": "4017e2d5-2ecc-4d3d-b724-f84684d44c34",
   "metadata": {},
   "outputs": [],
   "source": [
    "#  Probability Mass Function (PMF)\n",
    "#  Definition: The Probability Mass Function (PMF) is a function that gives the probability that a discrete random variable\n",
    "#   is exactly equal to some value.\n",
    "\n",
    "#  Characteristics:\n",
    "# Applicable to discrete random variables.\n",
    "# The sum of all probabilities for all possible values of the random variable is 1.\n",
    "\n",
    "#Probability Density Function (PDF)\n",
    "# Definition: The Probability Density Function (PDF) is a function that describes the likelihood of a continuous \n",
    "#  random variable to take on a particular value.\n",
    "\n",
    "# Characteristics:\n",
    "# Applicable to continuous random variables.\n",
    "# The probability of the random variable taking an exact value is 0; instead, we consider the probability within a range.\n",
    "#The area under the PDF curve over a given interval represents the probability of the random variable \n",
    "#   falling within that interval."
   ]
  },
  {
   "cell_type": "code",
   "execution_count": 1,
   "id": "99c80c65-0e2a-48cb-80c9-a88456d0f8aa",
   "metadata": {},
   "outputs": [],
   "source": [
    "#  23. What is correlation. Explain its type in details.what are the methods of determining correlation ?\n",
    "#  Correlation is a statistical measure that describes the extent to which two variables change together.\n",
    "#  It indicates the strength and direction of a linear relationship between two random variables.\n",
    "# there are total three types of correlation\n",
    "# positive correlation\n",
    "# negative correlation\n",
    "# zero correlation"
   ]
  },
  {
   "cell_type": "code",
   "execution_count": 2,
   "id": "6cbc9374-fcd0-4e85-a0ef-35e9d8dab5d6",
   "metadata": {},
   "outputs": [],
   "source": [
    "# positive Correlation :\n",
    "# When two variables move in the same direction.\n",
    "# If one variable increases, the other also increases, and vice versa.\n",
    "# Example: Height and weight of individuals."
   ]
  },
  {
   "cell_type": "code",
   "execution_count": 3,
   "id": "0d34accb-c62b-432c-88ad-160f84005475",
   "metadata": {},
   "outputs": [],
   "source": [
    "# negative correlation\n",
    "# When two variables move in opposite directions.\n",
    "# If one variable increases, the other decreases, and vice versa.\n",
    "# Example: The number of hours spent watching TV and grades in school."
   ]
  },
  {
   "cell_type": "code",
   "execution_count": 4,
   "id": "e141d73f-3236-4a34-9673-5541b5917d8e",
   "metadata": {},
   "outputs": [],
   "source": [
    "# zero correlation\n",
    "# When there is no relationship between the variables.\n",
    "# Changes in one variable do not predict changes in the other.\n",
    "# Example: The number of tea cups consumed and the temperature of the room."
   ]
  },
  {
   "cell_type": "code",
   "execution_count": 17,
   "id": "a79944a3-6599-42c5-b21c-fe6790be246a",
   "metadata": {},
   "outputs": [],
   "source": [
    "import seaborn as sns\n",
    "import warnings\n",
    "warnings.simplefilter(\"ignore\")\n",
    "# lets load some data set to find the method of finding both the correlation\n",
    "# Pearson Correlation Coefficient\n",
    "# Measures the strength and direction of the linear relationship between two variables.\n",
    "# Spearman Rank Correlation Coefficient\n",
    "# Measures the strength and direction of the relationship between two ranked variables."
   ]
  },
  {
   "cell_type": "code",
   "execution_count": 7,
   "id": "6d48fb21-8f0a-420b-99de-1f9c08b00602",
   "metadata": {},
   "outputs": [],
   "source": [
    "dataset = sns.load_dataset(\"tips\")"
   ]
  },
  {
   "cell_type": "code",
   "execution_count": 8,
   "id": "2aceeba1-1131-467f-896f-efb1a91dd7fd",
   "metadata": {},
   "outputs": [],
   "source": [
    "# lets find the pearson correlation cofficient"
   ]
  },
  {
   "cell_type": "code",
   "execution_count": 18,
   "id": "2f672694-857d-48a6-865b-7ee7952168fb",
   "metadata": {},
   "outputs": [],
   "source": [
    "pearson_corr = dataset.corr()"
   ]
  },
  {
   "cell_type": "code",
   "execution_count": 19,
   "id": "13d4ae88-a407-4374-abfd-e0985c0cf6e2",
   "metadata": {},
   "outputs": [
    {
     "data": {
      "text/html": [
       "<div>\n",
       "<style scoped>\n",
       "    .dataframe tbody tr th:only-of-type {\n",
       "        vertical-align: middle;\n",
       "    }\n",
       "\n",
       "    .dataframe tbody tr th {\n",
       "        vertical-align: top;\n",
       "    }\n",
       "\n",
       "    .dataframe thead th {\n",
       "        text-align: right;\n",
       "    }\n",
       "</style>\n",
       "<table border=\"1\" class=\"dataframe\">\n",
       "  <thead>\n",
       "    <tr style=\"text-align: right;\">\n",
       "      <th></th>\n",
       "      <th>total_bill</th>\n",
       "      <th>tip</th>\n",
       "      <th>size</th>\n",
       "    </tr>\n",
       "  </thead>\n",
       "  <tbody>\n",
       "    <tr>\n",
       "      <th>total_bill</th>\n",
       "      <td>1.000000</td>\n",
       "      <td>0.675734</td>\n",
       "      <td>0.598315</td>\n",
       "    </tr>\n",
       "    <tr>\n",
       "      <th>tip</th>\n",
       "      <td>0.675734</td>\n",
       "      <td>1.000000</td>\n",
       "      <td>0.489299</td>\n",
       "    </tr>\n",
       "    <tr>\n",
       "      <th>size</th>\n",
       "      <td>0.598315</td>\n",
       "      <td>0.489299</td>\n",
       "      <td>1.000000</td>\n",
       "    </tr>\n",
       "  </tbody>\n",
       "</table>\n",
       "</div>"
      ],
      "text/plain": [
       "            total_bill       tip      size\n",
       "total_bill    1.000000  0.675734  0.598315\n",
       "tip           0.675734  1.000000  0.489299\n",
       "size          0.598315  0.489299  1.000000"
      ]
     },
     "execution_count": 19,
     "metadata": {},
     "output_type": "execute_result"
    }
   ],
   "source": [
    "pearson_corr"
   ]
  },
  {
   "cell_type": "code",
   "execution_count": 20,
   "id": "f7e81cc4-f4fe-4885-916a-f51f5d51feca",
   "metadata": {},
   "outputs": [],
   "source": [
    "# lets find the spearman rank  correlation coefficient"
   ]
  },
  {
   "cell_type": "code",
   "execution_count": 21,
   "id": "91952932-f132-4a7f-9cea-f17225d47a50",
   "metadata": {},
   "outputs": [],
   "source": [
    "spearmen_corr = dataset.corr(\"spearman\")"
   ]
  },
  {
   "cell_type": "code",
   "execution_count": 22,
   "id": "57b77a8b-33e3-4916-94c2-bdd58599a8d2",
   "metadata": {},
   "outputs": [
    {
     "data": {
      "text/html": [
       "<div>\n",
       "<style scoped>\n",
       "    .dataframe tbody tr th:only-of-type {\n",
       "        vertical-align: middle;\n",
       "    }\n",
       "\n",
       "    .dataframe tbody tr th {\n",
       "        vertical-align: top;\n",
       "    }\n",
       "\n",
       "    .dataframe thead th {\n",
       "        text-align: right;\n",
       "    }\n",
       "</style>\n",
       "<table border=\"1\" class=\"dataframe\">\n",
       "  <thead>\n",
       "    <tr style=\"text-align: right;\">\n",
       "      <th></th>\n",
       "      <th>total_bill</th>\n",
       "      <th>tip</th>\n",
       "      <th>size</th>\n",
       "    </tr>\n",
       "  </thead>\n",
       "  <tbody>\n",
       "    <tr>\n",
       "      <th>total_bill</th>\n",
       "      <td>1.000000</td>\n",
       "      <td>0.678968</td>\n",
       "      <td>0.604791</td>\n",
       "    </tr>\n",
       "    <tr>\n",
       "      <th>tip</th>\n",
       "      <td>0.678968</td>\n",
       "      <td>1.000000</td>\n",
       "      <td>0.468268</td>\n",
       "    </tr>\n",
       "    <tr>\n",
       "      <th>size</th>\n",
       "      <td>0.604791</td>\n",
       "      <td>0.468268</td>\n",
       "      <td>1.000000</td>\n",
       "    </tr>\n",
       "  </tbody>\n",
       "</table>\n",
       "</div>"
      ],
      "text/plain": [
       "            total_bill       tip      size\n",
       "total_bill    1.000000  0.678968  0.604791\n",
       "tip           0.678968  1.000000  0.468268\n",
       "size          0.604791  0.468268  1.000000"
      ]
     },
     "execution_count": 22,
     "metadata": {},
     "output_type": "execute_result"
    }
   ],
   "source": [
    "spearmen_corr"
   ]
  },
  {
   "cell_type": "code",
   "execution_count": 24,
   "id": "fb0328a1-7cc4-406e-bf77-d8f706bbc33c",
   "metadata": {},
   "outputs": [],
   "source": [
    "# 24. Calculate coefficient of correlation between the marks obtained by 10 students in Accountancy and\n",
    "#  statistics:\n",
    "import pandas as pd\n",
    "df = pd.DataFrame( { 'student' : [1,2,3,4,5,6,7,8,9,10] , \"Accountancy\" : [45,70,65,30,90,40,50,75,85,60] , \"statistics\" : [35,90,70,40,95,40,60,80,80,50] })"
   ]
  },
  {
   "cell_type": "code",
   "execution_count": 25,
   "id": "739ca913-5b44-4fb6-8d23-77913cd2c1af",
   "metadata": {},
   "outputs": [
    {
     "data": {
      "text/html": [
       "<div>\n",
       "<style scoped>\n",
       "    .dataframe tbody tr th:only-of-type {\n",
       "        vertical-align: middle;\n",
       "    }\n",
       "\n",
       "    .dataframe tbody tr th {\n",
       "        vertical-align: top;\n",
       "    }\n",
       "\n",
       "    .dataframe thead th {\n",
       "        text-align: right;\n",
       "    }\n",
       "</style>\n",
       "<table border=\"1\" class=\"dataframe\">\n",
       "  <thead>\n",
       "    <tr style=\"text-align: right;\">\n",
       "      <th></th>\n",
       "      <th>student</th>\n",
       "      <th>Accountancy</th>\n",
       "      <th>statistics</th>\n",
       "    </tr>\n",
       "  </thead>\n",
       "  <tbody>\n",
       "    <tr>\n",
       "      <th>0</th>\n",
       "      <td>1</td>\n",
       "      <td>45</td>\n",
       "      <td>35</td>\n",
       "    </tr>\n",
       "    <tr>\n",
       "      <th>1</th>\n",
       "      <td>2</td>\n",
       "      <td>70</td>\n",
       "      <td>90</td>\n",
       "    </tr>\n",
       "    <tr>\n",
       "      <th>2</th>\n",
       "      <td>3</td>\n",
       "      <td>65</td>\n",
       "      <td>70</td>\n",
       "    </tr>\n",
       "    <tr>\n",
       "      <th>3</th>\n",
       "      <td>4</td>\n",
       "      <td>30</td>\n",
       "      <td>40</td>\n",
       "    </tr>\n",
       "    <tr>\n",
       "      <th>4</th>\n",
       "      <td>5</td>\n",
       "      <td>90</td>\n",
       "      <td>95</td>\n",
       "    </tr>\n",
       "    <tr>\n",
       "      <th>5</th>\n",
       "      <td>6</td>\n",
       "      <td>40</td>\n",
       "      <td>40</td>\n",
       "    </tr>\n",
       "    <tr>\n",
       "      <th>6</th>\n",
       "      <td>7</td>\n",
       "      <td>50</td>\n",
       "      <td>60</td>\n",
       "    </tr>\n",
       "    <tr>\n",
       "      <th>7</th>\n",
       "      <td>8</td>\n",
       "      <td>75</td>\n",
       "      <td>80</td>\n",
       "    </tr>\n",
       "    <tr>\n",
       "      <th>8</th>\n",
       "      <td>9</td>\n",
       "      <td>85</td>\n",
       "      <td>80</td>\n",
       "    </tr>\n",
       "    <tr>\n",
       "      <th>9</th>\n",
       "      <td>10</td>\n",
       "      <td>60</td>\n",
       "      <td>50</td>\n",
       "    </tr>\n",
       "  </tbody>\n",
       "</table>\n",
       "</div>"
      ],
      "text/plain": [
       "   student  Accountancy  statistics\n",
       "0        1           45          35\n",
       "1        2           70          90\n",
       "2        3           65          70\n",
       "3        4           30          40\n",
       "4        5           90          95\n",
       "5        6           40          40\n",
       "6        7           50          60\n",
       "7        8           75          80\n",
       "8        9           85          80\n",
       "9       10           60          50"
      ]
     },
     "execution_count": 25,
     "metadata": {},
     "output_type": "execute_result"
    }
   ],
   "source": [
    "df"
   ]
  },
  {
   "cell_type": "code",
   "execution_count": 26,
   "id": "0eef5fd6-306b-42e5-bcfa-0f06bd88857e",
   "metadata": {},
   "outputs": [],
   "source": [
    "#Use Karl Pearson’s Coefficient of Correlation Method to find it."
   ]
  },
  {
   "cell_type": "code",
   "execution_count": 27,
   "id": "c1dccb05-2867-4533-b535-f510bfbf9e1a",
   "metadata": {},
   "outputs": [],
   "source": [
    "karl_pearson = df.corr()"
   ]
  },
  {
   "cell_type": "code",
   "execution_count": 28,
   "id": "112f0c52-20b0-46e9-acf6-c564f03137c4",
   "metadata": {},
   "outputs": [
    {
     "data": {
      "text/html": [
       "<div>\n",
       "<style scoped>\n",
       "    .dataframe tbody tr th:only-of-type {\n",
       "        vertical-align: middle;\n",
       "    }\n",
       "\n",
       "    .dataframe tbody tr th {\n",
       "        vertical-align: top;\n",
       "    }\n",
       "\n",
       "    .dataframe thead th {\n",
       "        text-align: right;\n",
       "    }\n",
       "</style>\n",
       "<table border=\"1\" class=\"dataframe\">\n",
       "  <thead>\n",
       "    <tr style=\"text-align: right;\">\n",
       "      <th></th>\n",
       "      <th>student</th>\n",
       "      <th>Accountancy</th>\n",
       "      <th>statistics</th>\n",
       "    </tr>\n",
       "  </thead>\n",
       "  <tbody>\n",
       "    <tr>\n",
       "      <th>student</th>\n",
       "      <td>1.000000</td>\n",
       "      <td>0.279545</td>\n",
       "      <td>0.099699</td>\n",
       "    </tr>\n",
       "    <tr>\n",
       "      <th>Accountancy</th>\n",
       "      <td>0.279545</td>\n",
       "      <td>1.000000</td>\n",
       "      <td>0.903118</td>\n",
       "    </tr>\n",
       "    <tr>\n",
       "      <th>statistics</th>\n",
       "      <td>0.099699</td>\n",
       "      <td>0.903118</td>\n",
       "      <td>1.000000</td>\n",
       "    </tr>\n",
       "  </tbody>\n",
       "</table>\n",
       "</div>"
      ],
      "text/plain": [
       "              student  Accountancy  statistics\n",
       "student      1.000000     0.279545    0.099699\n",
       "Accountancy  0.279545     1.000000    0.903118\n",
       "statistics   0.099699     0.903118    1.000000"
      ]
     },
     "execution_count": 28,
     "metadata": {},
     "output_type": "execute_result"
    }
   ],
   "source": [
    "karl_pearson"
   ]
  },
  {
   "cell_type": "code",
   "execution_count": null,
   "id": "a15bf30b-d35c-4ca2-b5d1-b35890a845d5",
   "metadata": {},
   "outputs": [],
   "source": []
  }
 ],
 "metadata": {
  "kernelspec": {
   "display_name": "Python 3 (ipykernel)",
   "language": "python",
   "name": "python3"
  },
  "language_info": {
   "codemirror_mode": {
    "name": "ipython",
    "version": 3
   },
   "file_extension": ".py",
   "mimetype": "text/x-python",
   "name": "python",
   "nbconvert_exporter": "python",
   "pygments_lexer": "ipython3",
   "version": "3.10.8"
  }
 },
 "nbformat": 4,
 "nbformat_minor": 5
}
